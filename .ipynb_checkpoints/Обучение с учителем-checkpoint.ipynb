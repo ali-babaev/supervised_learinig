{
 "cells": [
  {
   "cell_type": "markdown",
   "metadata": {
    "toc": true
   },
   "source": [
    "<h1>Содержание<span class=\"tocSkip\"></span></h1>\n",
    "<div class=\"toc\"><ul class=\"toc-item\"><li><span><a href=\"#Подготовка-данных\" data-toc-modified-id=\"Подготовка-данных-1\"><span class=\"toc-item-num\">1&nbsp;&nbsp;</span>Подготовка данных</a></span></li><li><span><a href=\"#Исследование-задачи\" data-toc-modified-id=\"Исследование-задачи-2\"><span class=\"toc-item-num\">2&nbsp;&nbsp;</span>Исследование задачи</a></span><ul class=\"toc-item\"><li><span><a href=\"#Алгоритм-DecisionTreeClassifier\" data-toc-modified-id=\"Алгоритм-DecisionTreeClassifier-2.1\"><span class=\"toc-item-num\">2.1&nbsp;&nbsp;</span>Алгоритм <code>DecisionTreeClassifier</code></a></span></li><li><span><a href=\"#Алгоритм-RandomForestClassifier\" data-toc-modified-id=\"Алгоритм-RandomForestClassifier-2.2\"><span class=\"toc-item-num\">2.2&nbsp;&nbsp;</span>Алгоритм <code>RandomForestClassifier</code></a></span></li><li><span><a href=\"#Алгоритм-GradientBoostingClassifier\" data-toc-modified-id=\"Алгоритм-GradientBoostingClassifier-2.3\"><span class=\"toc-item-num\">2.3&nbsp;&nbsp;</span>Алгоритм <code>GradientBoostingClassifier</code></a></span></li><li><span><a href=\"#Алгоритм-LogisticRegression\" data-toc-modified-id=\"Алгоритм-LogisticRegression-2.4\"><span class=\"toc-item-num\">2.4&nbsp;&nbsp;</span>Алгоритм <code>LogisticRegression</code></a></span></li></ul></li><li><span><a href=\"#Борьба-с-дисбалансом\" data-toc-modified-id=\"Борьба-с-дисбалансом-3\"><span class=\"toc-item-num\">3&nbsp;&nbsp;</span>Борьба с дисбалансом</a></span><ul class=\"toc-item\"><li><span><a href=\"#Увеличение-выборки-для-устранения-дисбаланса-классов:\" data-toc-modified-id=\"Увеличение-выборки-для-устранения-дисбаланса-классов:-3.1\"><span class=\"toc-item-num\">3.1&nbsp;&nbsp;</span>Увеличение выборки для устранения дисбаланса классов:</a></span><ul class=\"toc-item\"><li><span><a href=\"#Алгоритм-DecisionTreeClassifier\" data-toc-modified-id=\"Алгоритм-DecisionTreeClassifier-3.1.1\"><span class=\"toc-item-num\">3.1.1&nbsp;&nbsp;</span>Алгоритм <code>DecisionTreeClassifier</code></a></span></li><li><span><a href=\"#Алгоритм-RandomForestClassifier\" data-toc-modified-id=\"Алгоритм-RandomForestClassifier-3.1.2\"><span class=\"toc-item-num\">3.1.2&nbsp;&nbsp;</span>Алгоритм <code>RandomForestClassifier</code></a></span></li><li><span><a href=\"#Алгоритм-GradientBoostingClassifier\" data-toc-modified-id=\"Алгоритм-GradientBoostingClassifier-3.1.3\"><span class=\"toc-item-num\">3.1.3&nbsp;&nbsp;</span>Алгоритм <code>GradientBoostingClassifier</code></a></span></li><li><span><a href=\"#Алгоритм-LogisticRegression\" data-toc-modified-id=\"Алгоритм-LogisticRegression-3.1.4\"><span class=\"toc-item-num\">3.1.4&nbsp;&nbsp;</span>Алгоритм <code>LogisticRegression</code></a></span></li></ul></li><li><span><a href=\"#Обучим-модели-с-учетом-весов-классов:\" data-toc-modified-id=\"Обучим-модели-с-учетом-весов-классов:-3.2\"><span class=\"toc-item-num\">3.2&nbsp;&nbsp;</span>Обучим модели с учетом весов классов:</a></span><ul class=\"toc-item\"><li><span><a href=\"#Алгоритм-DecisionTreeClassifier\" data-toc-modified-id=\"Алгоритм-DecisionTreeClassifier-3.2.1\"><span class=\"toc-item-num\">3.2.1&nbsp;&nbsp;</span>Алгоритм <code>DecisionTreeClassifier</code></a></span></li><li><span><a href=\"#Алгоритм-RandomForestClassifier\" data-toc-modified-id=\"Алгоритм-RandomForestClassifier-3.2.2\"><span class=\"toc-item-num\">3.2.2&nbsp;&nbsp;</span>Алгоритм <code>RandomForestClassifier</code></a></span></li><li><span><a href=\"#Алгоритм-LogisticRegression\" data-toc-modified-id=\"Алгоритм-LogisticRegression-3.2.3\"><span class=\"toc-item-num\">3.2.3&nbsp;&nbsp;</span>Алгоритм <code>LogisticRegression</code></a></span></li></ul></li></ul></li><li><span><a href=\"#Тестирование-модели\" data-toc-modified-id=\"Тестирование-модели-4\"><span class=\"toc-item-num\">4&nbsp;&nbsp;</span>Тестирование модели</a></span></li><li><span><a href=\"#Вывод\" data-toc-modified-id=\"Вывод-5\"><span class=\"toc-item-num\">5&nbsp;&nbsp;</span>Вывод</a></span></li><li><span><a href=\"#Чек-лист-готовности-проекта\" data-toc-modified-id=\"Чек-лист-готовности-проекта-6\"><span class=\"toc-item-num\">6&nbsp;&nbsp;</span>Чек-лист готовности проекта</a></span></li></ul></div>"
   ]
  },
  {
   "cell_type": "markdown",
   "metadata": {},
   "source": [
    "# Отток клиентов"
   ]
  },
  {
   "cell_type": "markdown",
   "metadata": {},
   "source": [
    "Из «Бета-Банка» стали уходить клиенты. Каждый месяц. Немного, но заметно. Банковские маркетологи посчитали: сохранять текущих клиентов дешевле, чем привлекать новых.\n",
    "\n",
    "Нужно спрогнозировать, уйдёт клиент из банка в ближайшее время или нет. Вам предоставлены исторические данные о поведении клиентов и расторжении договоров с банком. \n",
    "\n",
    "Постройте модель с предельно большим значением *F1*-меры. Чтобы сдать проект успешно, нужно довести метрику до 0.59. Проверьте *F1*-меру на тестовой выборке самостоятельно.\n",
    "\n",
    "Дополнительно измеряйте *AUC-ROC*, сравнивайте её значение с *F1*-мерой.\n",
    "\n",
    "Источник данных: [https://www.kaggle.com/barelydedicated/bank-customer-churn-modeling](https://www.kaggle.com/barelydedicated/bank-customer-churn-modeling)"
   ]
  },
  {
   "cell_type": "markdown",
   "metadata": {},
   "source": [
    "## Подготовка данных"
   ]
  },
  {
   "cell_type": "code",
   "execution_count": null,
   "metadata": {},
   "outputs": [],
   "source": [
    "pip install scikit-learn==1.2.0"
   ]
  },
  {
   "cell_type": "code",
   "execution_count": null,
   "metadata": {},
   "outputs": [],
   "source": [
    "pip install plotnine"
   ]
  },
  {
   "cell_type": "code",
   "execution_count": 2,
   "metadata": {},
   "outputs": [],
   "source": [
    "import pandas as pd\n",
    "import numpy as np\n",
    "import math as mth\n",
    "import matplotlib.pyplot as plt\n",
    "import seaborn as sns\n",
    "import warnings\n",
    "import plotnine\n",
    "\n",
    "from plotnine import *\n",
    "from scipy import stats as st\n",
    "from sklearn import tree\n",
    "from sklearn.preprocessing import StandardScaler, OneHotEncoder\n",
    "from sklearn.model_selection import train_test_split\n",
    "from sklearn.tree import DecisionTreeClassifier\n",
    "from sklearn.ensemble import RandomForestClassifier, GradientBoostingClassifier\n",
    "from sklearn.linear_model import LogisticRegression\n",
    "from sklearn.dummy import DummyClassifier\n",
    "from tqdm.notebook import tqdm\n",
    "from sklearn.utils import shuffle\n",
    "from sklearn.metrics import accuracy_score, precision_score, recall_score, f1_score, roc_auc_score, roc_curve\n",
    "\n",
    "warnings.filterwarnings('ignore')\n",
    "pd.set_option('display.float_format', '{:.2f}'.format)"
   ]
  },
  {
   "cell_type": "code",
   "execution_count": 3,
   "metadata": {
    "scrolled": true
   },
   "outputs": [
    {
     "data": {
      "text/html": [
       "<div>\n",
       "<style scoped>\n",
       "    .dataframe tbody tr th:only-of-type {\n",
       "        vertical-align: middle;\n",
       "    }\n",
       "\n",
       "    .dataframe tbody tr th {\n",
       "        vertical-align: top;\n",
       "    }\n",
       "\n",
       "    .dataframe thead th {\n",
       "        text-align: right;\n",
       "    }\n",
       "</style>\n",
       "<table border=\"1\" class=\"dataframe\">\n",
       "  <thead>\n",
       "    <tr style=\"text-align: right;\">\n",
       "      <th></th>\n",
       "      <th>RowNumber</th>\n",
       "      <th>CustomerId</th>\n",
       "      <th>Surname</th>\n",
       "      <th>CreditScore</th>\n",
       "      <th>Geography</th>\n",
       "      <th>Gender</th>\n",
       "      <th>Age</th>\n",
       "      <th>Tenure</th>\n",
       "      <th>Balance</th>\n",
       "      <th>NumOfProducts</th>\n",
       "      <th>HasCrCard</th>\n",
       "      <th>IsActiveMember</th>\n",
       "      <th>EstimatedSalary</th>\n",
       "      <th>Exited</th>\n",
       "    </tr>\n",
       "  </thead>\n",
       "  <tbody>\n",
       "    <tr>\n",
       "      <th>0</th>\n",
       "      <td>1</td>\n",
       "      <td>15634602</td>\n",
       "      <td>Hargrave</td>\n",
       "      <td>619</td>\n",
       "      <td>France</td>\n",
       "      <td>Female</td>\n",
       "      <td>42</td>\n",
       "      <td>2.00</td>\n",
       "      <td>0.00</td>\n",
       "      <td>1</td>\n",
       "      <td>1</td>\n",
       "      <td>1</td>\n",
       "      <td>101348.88</td>\n",
       "      <td>1</td>\n",
       "    </tr>\n",
       "    <tr>\n",
       "      <th>1</th>\n",
       "      <td>2</td>\n",
       "      <td>15647311</td>\n",
       "      <td>Hill</td>\n",
       "      <td>608</td>\n",
       "      <td>Spain</td>\n",
       "      <td>Female</td>\n",
       "      <td>41</td>\n",
       "      <td>1.00</td>\n",
       "      <td>83807.86</td>\n",
       "      <td>1</td>\n",
       "      <td>0</td>\n",
       "      <td>1</td>\n",
       "      <td>112542.58</td>\n",
       "      <td>0</td>\n",
       "    </tr>\n",
       "    <tr>\n",
       "      <th>2</th>\n",
       "      <td>3</td>\n",
       "      <td>15619304</td>\n",
       "      <td>Onio</td>\n",
       "      <td>502</td>\n",
       "      <td>France</td>\n",
       "      <td>Female</td>\n",
       "      <td>42</td>\n",
       "      <td>8.00</td>\n",
       "      <td>159660.80</td>\n",
       "      <td>3</td>\n",
       "      <td>1</td>\n",
       "      <td>0</td>\n",
       "      <td>113931.57</td>\n",
       "      <td>1</td>\n",
       "    </tr>\n",
       "    <tr>\n",
       "      <th>3</th>\n",
       "      <td>4</td>\n",
       "      <td>15701354</td>\n",
       "      <td>Boni</td>\n",
       "      <td>699</td>\n",
       "      <td>France</td>\n",
       "      <td>Female</td>\n",
       "      <td>39</td>\n",
       "      <td>1.00</td>\n",
       "      <td>0.00</td>\n",
       "      <td>2</td>\n",
       "      <td>0</td>\n",
       "      <td>0</td>\n",
       "      <td>93826.63</td>\n",
       "      <td>0</td>\n",
       "    </tr>\n",
       "    <tr>\n",
       "      <th>4</th>\n",
       "      <td>5</td>\n",
       "      <td>15737888</td>\n",
       "      <td>Mitchell</td>\n",
       "      <td>850</td>\n",
       "      <td>Spain</td>\n",
       "      <td>Female</td>\n",
       "      <td>43</td>\n",
       "      <td>2.00</td>\n",
       "      <td>125510.82</td>\n",
       "      <td>1</td>\n",
       "      <td>1</td>\n",
       "      <td>1</td>\n",
       "      <td>79084.10</td>\n",
       "      <td>0</td>\n",
       "    </tr>\n",
       "  </tbody>\n",
       "</table>\n",
       "</div>"
      ],
      "text/plain": [
       "   RowNumber  CustomerId   Surname  CreditScore Geography  Gender  Age  \\\n",
       "0          1    15634602  Hargrave          619    France  Female   42   \n",
       "1          2    15647311      Hill          608     Spain  Female   41   \n",
       "2          3    15619304      Onio          502    France  Female   42   \n",
       "3          4    15701354      Boni          699    France  Female   39   \n",
       "4          5    15737888  Mitchell          850     Spain  Female   43   \n",
       "\n",
       "   Tenure   Balance  NumOfProducts  HasCrCard  IsActiveMember  \\\n",
       "0    2.00      0.00              1          1               1   \n",
       "1    1.00  83807.86              1          0               1   \n",
       "2    8.00 159660.80              3          1               0   \n",
       "3    1.00      0.00              2          0               0   \n",
       "4    2.00 125510.82              1          1               1   \n",
       "\n",
       "   EstimatedSalary  Exited  \n",
       "0        101348.88       1  \n",
       "1        112542.58       0  \n",
       "2        113931.57       1  \n",
       "3         93826.63       0  \n",
       "4         79084.10       0  "
      ]
     },
     "execution_count": 3,
     "metadata": {},
     "output_type": "execute_result"
    }
   ],
   "source": [
    "df = pd.read_csv('/datasets/Churn.csv')\n",
    "df.head()"
   ]
  },
  {
   "cell_type": "markdown",
   "metadata": {},
   "source": [
    "Согласно документации к данным:\n",
    "- Признаки\n",
    "    - `RowNumber` — индекс строки в данных\n",
    "    - `CustomerId` — уникальный идентификатор клиента\n",
    "    - `Surname` — фамилия\n",
    "    - `CreditScore` — кредитный рейтинг\n",
    "    - `Geography` — страна проживания\n",
    "    - `Gender` — пол\n",
    "    - `Age` — возраст\n",
    "    - `Tenure` — сколько лет человек является клиентом банка\n",
    "    - `Balance` — баланс на счёте\n",
    "    - `NumOfProducts` — количество продуктов банка, используемых клиентом\n",
    "    - `HasCrCard` — наличие кредитной карты\n",
    "    - `IsActiveMember` — активность клиента\n",
    "    - `EstimatedSalary` — предполагаемая зарплата\n",
    "- Целевой признак\n",
    "    - `Exited` — факт ухода клиента"
   ]
  },
  {
   "cell_type": "markdown",
   "metadata": {},
   "source": [
    "Изучим общую информацию о датафрейме:"
   ]
  },
  {
   "cell_type": "code",
   "execution_count": 4,
   "metadata": {},
   "outputs": [
    {
     "name": "stdout",
     "output_type": "stream",
     "text": [
      "<class 'pandas.core.frame.DataFrame'>\n",
      "RangeIndex: 10000 entries, 0 to 9999\n",
      "Data columns (total 14 columns):\n",
      " #   Column           Non-Null Count  Dtype  \n",
      "---  ------           --------------  -----  \n",
      " 0   RowNumber        10000 non-null  int64  \n",
      " 1   CustomerId       10000 non-null  int64  \n",
      " 2   Surname          10000 non-null  object \n",
      " 3   CreditScore      10000 non-null  int64  \n",
      " 4   Geography        10000 non-null  object \n",
      " 5   Gender           10000 non-null  object \n",
      " 6   Age              10000 non-null  int64  \n",
      " 7   Tenure           9091 non-null   float64\n",
      " 8   Balance          10000 non-null  float64\n",
      " 9   NumOfProducts    10000 non-null  int64  \n",
      " 10  HasCrCard        10000 non-null  int64  \n",
      " 11  IsActiveMember   10000 non-null  int64  \n",
      " 12  EstimatedSalary  10000 non-null  float64\n",
      " 13  Exited           10000 non-null  int64  \n",
      "dtypes: float64(3), int64(8), object(3)\n",
      "memory usage: 1.1+ MB\n"
     ]
    }
   ],
   "source": [
    "df.info()"
   ]
  },
  {
   "cell_type": "markdown",
   "metadata": {},
   "source": [
    "Изучим распределение данных в датафрейме:"
   ]
  },
  {
   "cell_type": "code",
   "execution_count": 5,
   "metadata": {},
   "outputs": [
    {
     "data": {
      "text/html": [
       "<div>\n",
       "<style scoped>\n",
       "    .dataframe tbody tr th:only-of-type {\n",
       "        vertical-align: middle;\n",
       "    }\n",
       "\n",
       "    .dataframe tbody tr th {\n",
       "        vertical-align: top;\n",
       "    }\n",
       "\n",
       "    .dataframe thead th {\n",
       "        text-align: right;\n",
       "    }\n",
       "</style>\n",
       "<table border=\"1\" class=\"dataframe\">\n",
       "  <thead>\n",
       "    <tr style=\"text-align: right;\">\n",
       "      <th></th>\n",
       "      <th>RowNumber</th>\n",
       "      <th>CustomerId</th>\n",
       "      <th>CreditScore</th>\n",
       "      <th>Age</th>\n",
       "      <th>Tenure</th>\n",
       "      <th>Balance</th>\n",
       "      <th>NumOfProducts</th>\n",
       "      <th>HasCrCard</th>\n",
       "      <th>IsActiveMember</th>\n",
       "      <th>EstimatedSalary</th>\n",
       "      <th>Exited</th>\n",
       "    </tr>\n",
       "  </thead>\n",
       "  <tbody>\n",
       "    <tr>\n",
       "      <th>count</th>\n",
       "      <td>10000.00</td>\n",
       "      <td>10000.00</td>\n",
       "      <td>10000.00</td>\n",
       "      <td>10000.00</td>\n",
       "      <td>9091.00</td>\n",
       "      <td>10000.00</td>\n",
       "      <td>10000.00</td>\n",
       "      <td>10000.00</td>\n",
       "      <td>10000.00</td>\n",
       "      <td>10000.00</td>\n",
       "      <td>10000.00</td>\n",
       "    </tr>\n",
       "    <tr>\n",
       "      <th>mean</th>\n",
       "      <td>5000.50</td>\n",
       "      <td>15690940.57</td>\n",
       "      <td>650.53</td>\n",
       "      <td>38.92</td>\n",
       "      <td>5.00</td>\n",
       "      <td>76485.89</td>\n",
       "      <td>1.53</td>\n",
       "      <td>0.71</td>\n",
       "      <td>0.52</td>\n",
       "      <td>100090.24</td>\n",
       "      <td>0.20</td>\n",
       "    </tr>\n",
       "    <tr>\n",
       "      <th>std</th>\n",
       "      <td>2886.90</td>\n",
       "      <td>71936.19</td>\n",
       "      <td>96.65</td>\n",
       "      <td>10.49</td>\n",
       "      <td>2.89</td>\n",
       "      <td>62397.41</td>\n",
       "      <td>0.58</td>\n",
       "      <td>0.46</td>\n",
       "      <td>0.50</td>\n",
       "      <td>57510.49</td>\n",
       "      <td>0.40</td>\n",
       "    </tr>\n",
       "    <tr>\n",
       "      <th>min</th>\n",
       "      <td>1.00</td>\n",
       "      <td>15565701.00</td>\n",
       "      <td>350.00</td>\n",
       "      <td>18.00</td>\n",
       "      <td>0.00</td>\n",
       "      <td>0.00</td>\n",
       "      <td>1.00</td>\n",
       "      <td>0.00</td>\n",
       "      <td>0.00</td>\n",
       "      <td>11.58</td>\n",
       "      <td>0.00</td>\n",
       "    </tr>\n",
       "    <tr>\n",
       "      <th>25%</th>\n",
       "      <td>2500.75</td>\n",
       "      <td>15628528.25</td>\n",
       "      <td>584.00</td>\n",
       "      <td>32.00</td>\n",
       "      <td>2.00</td>\n",
       "      <td>0.00</td>\n",
       "      <td>1.00</td>\n",
       "      <td>0.00</td>\n",
       "      <td>0.00</td>\n",
       "      <td>51002.11</td>\n",
       "      <td>0.00</td>\n",
       "    </tr>\n",
       "    <tr>\n",
       "      <th>50%</th>\n",
       "      <td>5000.50</td>\n",
       "      <td>15690738.00</td>\n",
       "      <td>652.00</td>\n",
       "      <td>37.00</td>\n",
       "      <td>5.00</td>\n",
       "      <td>97198.54</td>\n",
       "      <td>1.00</td>\n",
       "      <td>1.00</td>\n",
       "      <td>1.00</td>\n",
       "      <td>100193.91</td>\n",
       "      <td>0.00</td>\n",
       "    </tr>\n",
       "    <tr>\n",
       "      <th>75%</th>\n",
       "      <td>7500.25</td>\n",
       "      <td>15753233.75</td>\n",
       "      <td>718.00</td>\n",
       "      <td>44.00</td>\n",
       "      <td>7.00</td>\n",
       "      <td>127644.24</td>\n",
       "      <td>2.00</td>\n",
       "      <td>1.00</td>\n",
       "      <td>1.00</td>\n",
       "      <td>149388.25</td>\n",
       "      <td>0.00</td>\n",
       "    </tr>\n",
       "    <tr>\n",
       "      <th>max</th>\n",
       "      <td>10000.00</td>\n",
       "      <td>15815690.00</td>\n",
       "      <td>850.00</td>\n",
       "      <td>92.00</td>\n",
       "      <td>10.00</td>\n",
       "      <td>250898.09</td>\n",
       "      <td>4.00</td>\n",
       "      <td>1.00</td>\n",
       "      <td>1.00</td>\n",
       "      <td>199992.48</td>\n",
       "      <td>1.00</td>\n",
       "    </tr>\n",
       "  </tbody>\n",
       "</table>\n",
       "</div>"
      ],
      "text/plain": [
       "       RowNumber  CustomerId  CreditScore      Age  Tenure   Balance  \\\n",
       "count   10000.00    10000.00     10000.00 10000.00 9091.00  10000.00   \n",
       "mean     5000.50 15690940.57       650.53    38.92    5.00  76485.89   \n",
       "std      2886.90    71936.19        96.65    10.49    2.89  62397.41   \n",
       "min         1.00 15565701.00       350.00    18.00    0.00      0.00   \n",
       "25%      2500.75 15628528.25       584.00    32.00    2.00      0.00   \n",
       "50%      5000.50 15690738.00       652.00    37.00    5.00  97198.54   \n",
       "75%      7500.25 15753233.75       718.00    44.00    7.00 127644.24   \n",
       "max     10000.00 15815690.00       850.00    92.00   10.00 250898.09   \n",
       "\n",
       "       NumOfProducts  HasCrCard  IsActiveMember  EstimatedSalary   Exited  \n",
       "count       10000.00   10000.00        10000.00         10000.00 10000.00  \n",
       "mean            1.53       0.71            0.52        100090.24     0.20  \n",
       "std             0.58       0.46            0.50         57510.49     0.40  \n",
       "min             1.00       0.00            0.00            11.58     0.00  \n",
       "25%             1.00       0.00            0.00         51002.11     0.00  \n",
       "50%             1.00       1.00            1.00        100193.91     0.00  \n",
       "75%             2.00       1.00            1.00        149388.25     0.00  \n",
       "max             4.00       1.00            1.00        199992.48     1.00  "
      ]
     },
     "execution_count": 5,
     "metadata": {},
     "output_type": "execute_result"
    }
   ],
   "source": [
    "df.describe()"
   ]
  },
  {
   "cell_type": "markdown",
   "metadata": {},
   "source": [
    "Приведем названия столбцов к *snake case*:"
   ]
  },
  {
   "cell_type": "code",
   "execution_count": 6,
   "metadata": {},
   "outputs": [],
   "source": [
    "df.columns = df.columns.str.replace('(?<=[a-z])(?=[A-Z])', '_', regex=True).str.lower()"
   ]
  },
  {
   "cell_type": "markdown",
   "metadata": {},
   "source": [
    "Удалим лишние данные:"
   ]
  },
  {
   "cell_type": "code",
   "execution_count": 7,
   "metadata": {},
   "outputs": [],
   "source": [
    "df = df.drop(['row_number'], axis=1)"
   ]
  },
  {
   "cell_type": "markdown",
   "metadata": {},
   "source": [
    "Проверим наличие пропусков в датафрейме:"
   ]
  },
  {
   "cell_type": "code",
   "execution_count": 8,
   "metadata": {
    "scrolled": false
   },
   "outputs": [
    {
     "data": {
      "text/plain": [
       "customer_id        0.00\n",
       "surname            0.00\n",
       "credit_score       0.00\n",
       "geography          0.00\n",
       "gender             0.00\n",
       "age                0.00\n",
       "tenure             0.09\n",
       "balance            0.00\n",
       "num_of_products    0.00\n",
       "has_cr_card        0.00\n",
       "is_active_member   0.00\n",
       "estimated_salary   0.00\n",
       "exited             0.00\n",
       "dtype: float64"
      ]
     },
     "execution_count": 8,
     "metadata": {},
     "output_type": "execute_result"
    }
   ],
   "source": [
    "df.isna().mean()"
   ]
  },
  {
   "cell_type": "markdown",
   "metadata": {},
   "source": [
    "Есть небольшое количество пропусков в столбце `Tenure`. \n",
    "\n",
    "Удалим строки с пропусками:"
   ]
  },
  {
   "cell_type": "code",
   "execution_count": 9,
   "metadata": {},
   "outputs": [],
   "source": [
    "df = df.dropna()"
   ]
  },
  {
   "cell_type": "markdown",
   "metadata": {},
   "source": [
    "Проверим наличие дубликатов в датафрейме:"
   ]
  },
  {
   "cell_type": "code",
   "execution_count": 10,
   "metadata": {
    "scrolled": true
   },
   "outputs": [
    {
     "name": "stdout",
     "output_type": "stream",
     "text": [
      "Количество дубликатов: 0\n"
     ]
    }
   ],
   "source": [
    "print('Количество дубликатов:', df.duplicated().sum())"
   ]
  },
  {
   "cell_type": "markdown",
   "metadata": {},
   "source": [
    "Дубликаты не обнаружены."
   ]
  },
  {
   "cell_type": "markdown",
   "metadata": {},
   "source": [
    "## Исследование задачи"
   ]
  },
  {
   "cell_type": "markdown",
   "metadata": {},
   "source": [
    "Изучим средние значения признаков в двух группах — тех, кто ушел в отток и тех, кто остался:"
   ]
  },
  {
   "cell_type": "code",
   "execution_count": 11,
   "metadata": {
    "scrolled": false
   },
   "outputs": [
    {
     "data": {
      "image/png": "[encoded data removed]",
      "text/plain": [
       "<Figure size 720x360 with 8 Axes>"
      ]
     },
     "metadata": {
      "needs_background": "light"
     },
     "output_type": "display_data"
    }
   ],
   "source": [
    "report = (pd.melt(df.drop(['customer_id'], axis=1)\n",
    "                  .groupby('exited').mean().reset_index(), \n",
    "                  id_vars='exited', \n",
    "                  var_name='feature', \n",
    "                  value_name='avg')\n",
    "         )\n",
    "\n",
    "g = sns.catplot(x='exited', \n",
    "                y='avg', \n",
    "                col=\"feature\", \n",
    "                col_wrap=4, \n",
    "                data=report, \n",
    "                kind='bar', \n",
    "                height=2.5, \n",
    "                aspect=0.8, \n",
    "                sharex=False,\n",
    "                sharey=False)\n",
    "\n",
    "plt.gcf().set_size_inches(10, 5)"
   ]
  },
  {
   "cell_type": "markdown",
   "metadata": {},
   "source": [
    "Больше всего в данных группах отличаются признаки:\n",
    "- возраст клиента\n",
    "- активность клиента\n",
    "- баланс на счёте"
   ]
  },
  {
   "cell_type": "markdown",
   "metadata": {},
   "source": [
    "Изучим баланс классов целевой переменной:"
   ]
  },
  {
   "cell_type": "code",
   "execution_count": 12,
   "metadata": {
    "scrolled": false
   },
   "outputs": [
    {
     "data": {
      "text/plain": [
       "<AxesSubplot: >"
      ]
     },
     "execution_count": 12,
     "metadata": {},
     "output_type": "execute_result"
    },
    {
     "data": {
      "image/png": "[encoded data removed]",
      "text/plain": [
       "<Figure size 432x288 with 1 Axes>"
      ]
     },
     "metadata": {
      "needs_background": "light"
     },
     "output_type": "display_data"
    }
   ],
   "source": [
    "df['exited'].value_counts(normalize=True).plot(kind='bar')"
   ]
  },
  {
   "cell_type": "markdown",
   "metadata": {},
   "source": [
    "Классы несбалансированны."
   ]
  },
  {
   "cell_type": "markdown",
   "metadata": {},
   "source": [
    "Разделим данные на признаки (матрица X) и целевую переменную (вектор y):"
   ]
  },
  {
   "cell_type": "code",
   "execution_count": 13,
   "metadata": {},
   "outputs": [],
   "source": [
    "X = df.drop(['exited', 'customer_id', 'surname'], axis=1)\n",
    "y = df['exited']"
   ]
  },
  {
   "cell_type": "markdown",
   "metadata": {},
   "source": [
    "Разделим данные на обучающую, валидационную и тестовую выборки:"
   ]
  },
  {
   "cell_type": "code",
   "execution_count": 14,
   "metadata": {},
   "outputs": [],
   "source": [
    "# разделим данные на обучающую выборку и остальной датасет:\n",
    "X_train, X_rem, y_train, y_rem = train_test_split(X, y, train_size=0.6, stratify=y)\n",
    "\n",
    "# разделим остальной датасет на валидационную и тестовую выборки:\n",
    "X_valid, X_test, y_valid, y_test = train_test_split(X_rem, y_rem, test_size=0.5, stratify=y_rem)"
   ]
  },
  {
   "cell_type": "markdown",
   "metadata": {},
   "source": [
    "Масштабируем признаки:"
   ]
  },
  {
   "cell_type": "code",
   "execution_count": 15,
   "metadata": {},
   "outputs": [],
   "source": [
    "numeric = ['credit_score', 'age', 'balance', 'estimated_salary']\n",
    "\n",
    "# создадим объект класса StandardScaler:\n",
    "scaler = StandardScaler()\n",
    "\n",
    "# обучаем scaler:\n",
    "scaler.fit(X_train[numeric]) \n",
    "\n",
    "# применяем стандартизацию к матрице признаков:\n",
    "X_train[numeric] = scaler.transform(X_train[numeric])\n",
    "X_valid[numeric] = scaler.transform(X_valid[numeric])\n",
    "X_test[numeric] = scaler.transform(X_test[numeric])"
   ]
  },
  {
   "cell_type": "markdown",
   "metadata": {},
   "source": [
    "Преобразуем категориальные признаки в численные при помощи прямого кодирования:"
   ]
  },
  {
   "cell_type": "code",
   "execution_count": 16,
   "metadata": {},
   "outputs": [
    {
     "name": "stdout",
     "output_type": "stream",
     "text": [
      "['surname', 'geography', 'gender']\n"
     ]
    }
   ],
   "source": [
    "# изучим категориальные признаки:\n",
    "ohe_features = df.select_dtypes(include='object').columns.to_list()\n",
    "print(ohe_features)"
   ]
  },
  {
   "cell_type": "code",
   "execution_count": 17,
   "metadata": {},
   "outputs": [],
   "source": [
    "# оставим только необходимые признаки:\n",
    "ohe_features = ohe_features[1:]"
   ]
  },
  {
   "cell_type": "code",
   "execution_count": 18,
   "metadata": {},
   "outputs": [],
   "source": [
    "encoder_ohe = OneHotEncoder(drop='first', handle_unknown='ignore', sparse=False)\n",
    "\n",
    "# обучаем энкодер\n",
    "encoder_ohe.fit(X_train[ohe_features])\n",
    "\n",
    "# применяем кодировку:\n",
    "X_train[encoder_ohe.get_feature_names_out()] = encoder_ohe.transform(X_train[ohe_features])\n",
    "X_valid[encoder_ohe.get_feature_names_out()] = encoder_ohe.transform(X_valid[ohe_features])\n",
    "X_test[encoder_ohe.get_feature_names_out()] = encoder_ohe.transform(X_test[ohe_features])\n",
    "\n",
    "# удаляем незакодированные категориальные признаки:\n",
    "X_train = X_train.drop(ohe_features, axis=1)\n",
    "X_valid = X_valid.drop(ohe_features, axis=1)\n",
    "X_test = X_test.drop(ohe_features, axis=1)\n",
    "\n",
    "# приведем названия колонок к нижнему регистру:\n",
    "for dfs in [X_train, X_valid, X_test]:\n",
    "    dfs.columns = dfs.columns.str.lower()"
   ]
  },
  {
   "cell_type": "markdown",
   "metadata": {},
   "source": [
    "Обучим модели:"
   ]
  },
  {
   "cell_type": "markdown",
   "metadata": {},
   "source": [
    "### Алгоритм `DecisionTreeClassifier`"
   ]
  },
  {
   "cell_type": "code",
   "execution_count": 19,
   "metadata": {
    "scrolled": true
   },
   "outputs": [
    {
     "data": {
      "application/vnd.jupyter.widget-view+json": {
       "model_id": "65ea52f531d74119b16876361db0dd69",
       "version_major": 2,
       "version_minor": 0
      },
      "text/plain": [
       "max_depth:   0%|          | 0/10 [00:00<?, ?it/s]"
      ]
     },
     "metadata": {},
     "output_type": "display_data"
    },
    {
     "data": {
      "application/vnd.jupyter.widget-view+json": {
       "model_id": "",
       "version_major": 2,
       "version_minor": 0
      },
      "text/plain": [
       "criterion:   0%|          | 0/2 [00:00<?, ?it/s]"
      ]
     },
     "metadata": {},
     "output_type": "display_data"
    },
    {
     "data": {
      "application/vnd.jupyter.widget-view+json": {
       "model_id": "",
       "version_major": 2,
       "version_minor": 0
      },
      "text/plain": [
       "splitter:   0%|          | 0/2 [00:00<?, ?it/s]"
      ]
     },
     "metadata": {},
     "output_type": "display_data"
    },
    {
     "data": {
      "application/vnd.jupyter.widget-view+json": {
       "model_id": "",
       "version_major": 2,
       "version_minor": 0
      },
      "text/plain": [
       "splitter:   0%|          | 0/2 [00:00<?, ?it/s]"
      ]
     },
     "metadata": {},
     "output_type": "display_data"
    },
    {
     "data": {
      "application/vnd.jupyter.widget-view+json": {
       "model_id": "",
       "version_major": 2,
       "version_minor": 0
      },
      "text/plain": [
       "criterion:   0%|          | 0/2 [00:00<?, ?it/s]"
      ]
     },
     "metadata": {},
     "output_type": "display_data"
    },
    {
     "data": {
      "application/vnd.jupyter.widget-view+json": {
       "model_id": "",
       "version_major": 2,
       "version_minor": 0
      },
      "text/plain": [
       "splitter:   0%|          | 0/2 [00:00<?, ?it/s]"
      ]
     },
     "metadata": {},
     "output_type": "display_data"
    },
    {
     "data": {
      "application/vnd.jupyter.widget-view+json": {
       "model_id": "",
       "version_major": 2,
       "version_minor": 0
      },
      "text/plain": [
       "splitter:   0%|          | 0/2 [00:00<?, ?it/s]"
      ]
     },
     "metadata": {},
     "output_type": "display_data"
    },
    {
     "data": {
      "application/vnd.jupyter.widget-view+json": {
       "model_id": "",
       "version_major": 2,
       "version_minor": 0
      },
      "text/plain": [
       "criterion:   0%|          | 0/2 [00:00<?, ?it/s]"
      ]
     },
     "metadata": {},
     "output_type": "display_data"
    },
    {
     "data": {
      "application/vnd.jupyter.widget-view+json": {
       "model_id": "",
       "version_major": 2,
       "version_minor": 0
      },
      "text/plain": [
       "splitter:   0%|          | 0/2 [00:00<?, ?it/s]"
      ]
     },
     "metadata": {},
     "output_type": "display_data"
    },
    {
     "data": {
      "application/vnd.jupyter.widget-view+json": {
       "model_id": "",
       "version_major": 2,
       "version_minor": 0
      },
      "text/plain": [
       "splitter:   0%|          | 0/2 [00:00<?, ?it/s]"
      ]
     },
     "metadata": {},
     "output_type": "display_data"
    },
    {
     "data": {
      "application/vnd.jupyter.widget-view+json": {
       "model_id": "",
       "version_major": 2,
       "version_minor": 0
      },
      "text/plain": [
       "criterion:   0%|          | 0/2 [00:00<?, ?it/s]"
      ]
     },
     "metadata": {},
     "output_type": "display_data"
    },
    {
     "data": {
      "application/vnd.jupyter.widget-view+json": {
       "model_id": "",
       "version_major": 2,
       "version_minor": 0
      },
      "text/plain": [
       "splitter:   0%|          | 0/2 [00:00<?, ?it/s]"
      ]
     },
     "metadata": {},
     "output_type": "display_data"
    },
    {
     "data": {
      "application/vnd.jupyter.widget-view+json": {
       "model_id": "",
       "version_major": 2,
       "version_minor": 0
      },
      "text/plain": [
       "splitter:   0%|          | 0/2 [00:00<?, ?it/s]"
      ]
     },
     "metadata": {},
     "output_type": "display_data"
    },
    {
     "data": {
      "application/vnd.jupyter.widget-view+json": {
       "model_id": "",
       "version_major": 2,
       "version_minor": 0
      },
      "text/plain": [
       "criterion:   0%|          | 0/2 [00:00<?, ?it/s]"
      ]
     },
     "metadata": {},
     "output_type": "display_data"
    },
    {
     "data": {
      "application/vnd.jupyter.widget-view+json": {
       "model_id": "",
       "version_major": 2,
       "version_minor": 0
      },
      "text/plain": [
       "splitter:   0%|          | 0/2 [00:00<?, ?it/s]"
      ]
     },
     "metadata": {},
     "output_type": "display_data"
    },
    {
     "data": {
      "application/vnd.jupyter.widget-view+json": {
       "model_id": "",
       "version_major": 2,
       "version_minor": 0
      },
      "text/plain": [
       "splitter:   0%|          | 0/2 [00:00<?, ?it/s]"
      ]
     },
     "metadata": {},
     "output_type": "display_data"
    },
    {
     "data": {
      "application/vnd.jupyter.widget-view+json": {
       "model_id": "",
       "version_major": 2,
       "version_minor": 0
      },
      "text/plain": [
       "criterion:   0%|          | 0/2 [00:00<?, ?it/s]"
      ]
     },
     "metadata": {},
     "output_type": "display_data"
    },
    {
     "data": {
      "application/vnd.jupyter.widget-view+json": {
       "model_id": "",
       "version_major": 2,
       "version_minor": 0
      },
      "text/plain": [
       "splitter:   0%|          | 0/2 [00:00<?, ?it/s]"
      ]
     },
     "metadata": {},
     "output_type": "display_data"
    },
    {
     "data": {
      "application/vnd.jupyter.widget-view+json": {
       "model_id": "",
       "version_major": 2,
       "version_minor": 0
      },
      "text/plain": [
       "splitter:   0%|          | 0/2 [00:00<?, ?it/s]"
      ]
     },
     "metadata": {},
     "output_type": "display_data"
    },
    {
     "data": {
      "application/vnd.jupyter.widget-view+json": {
       "model_id": "",
       "version_major": 2,
       "version_minor": 0
      },
      "text/plain": [
       "criterion:   0%|          | 0/2 [00:00<?, ?it/s]"
      ]
     },
     "metadata": {},
     "output_type": "display_data"
    },
    {
     "data": {
      "application/vnd.jupyter.widget-view+json": {
       "model_id": "",
       "version_major": 2,
       "version_minor": 0
      },
      "text/plain": [
       "splitter:   0%|          | 0/2 [00:00<?, ?it/s]"
      ]
     },
     "metadata": {},
     "output_type": "display_data"
    },
    {
     "data": {
      "application/vnd.jupyter.widget-view+json": {
       "model_id": "",
       "version_major": 2,
       "version_minor": 0
      },
      "text/plain": [
       "splitter:   0%|          | 0/2 [00:00<?, ?it/s]"
      ]
     },
     "metadata": {},
     "output_type": "display_data"
    },
    {
     "data": {
      "application/vnd.jupyter.widget-view+json": {
       "model_id": "",
       "version_major": 2,
       "version_minor": 0
      },
      "text/plain": [
       "criterion:   0%|          | 0/2 [00:00<?, ?it/s]"
      ]
     },
     "metadata": {},
     "output_type": "display_data"
    },
    {
     "data": {
      "application/vnd.jupyter.widget-view+json": {
       "model_id": "",
       "version_major": 2,
       "version_minor": 0
      },
      "text/plain": [
       "splitter:   0%|          | 0/2 [00:00<?, ?it/s]"
      ]
     },
     "metadata": {},
     "output_type": "display_data"
    },
    {
     "data": {
      "application/vnd.jupyter.widget-view+json": {
       "model_id": "",
       "version_major": 2,
       "version_minor": 0
      },
      "text/plain": [
       "splitter:   0%|          | 0/2 [00:00<?, ?it/s]"
      ]
     },
     "metadata": {},
     "output_type": "display_data"
    },
    {
     "data": {
      "application/vnd.jupyter.widget-view+json": {
       "model_id": "",
       "version_major": 2,
       "version_minor": 0
      },
      "text/plain": [
       "criterion:   0%|          | 0/2 [00:00<?, ?it/s]"
      ]
     },
     "metadata": {},
     "output_type": "display_data"
    },
    {
     "data": {
      "application/vnd.jupyter.widget-view+json": {
       "model_id": "",
       "version_major": 2,
       "version_minor": 0
      },
      "text/plain": [
       "splitter:   0%|          | 0/2 [00:00<?, ?it/s]"
      ]
     },
     "metadata": {},
     "output_type": "display_data"
    },
    {
     "data": {
      "application/vnd.jupyter.widget-view+json": {
       "model_id": "",
       "version_major": 2,
       "version_minor": 0
      },
      "text/plain": [
       "splitter:   0%|          | 0/2 [00:00<?, ?it/s]"
      ]
     },
     "metadata": {},
     "output_type": "display_data"
    },
    {
     "data": {
      "application/vnd.jupyter.widget-view+json": {
       "model_id": "",
       "version_major": 2,
       "version_minor": 0
      },
      "text/plain": [
       "criterion:   0%|          | 0/2 [00:00<?, ?it/s]"
      ]
     },
     "metadata": {},
     "output_type": "display_data"
    },
    {
     "data": {
      "application/vnd.jupyter.widget-view+json": {
       "model_id": "",
       "version_major": 2,
       "version_minor": 0
      },
      "text/plain": [
       "splitter:   0%|          | 0/2 [00:00<?, ?it/s]"
      ]
     },
     "metadata": {},
     "output_type": "display_data"
    },
    {
     "data": {
      "application/vnd.jupyter.widget-view+json": {
       "model_id": "",
       "version_major": 2,
       "version_minor": 0
      },
      "text/plain": [
       "splitter:   0%|          | 0/2 [00:00<?, ?it/s]"
      ]
     },
     "metadata": {},
     "output_type": "display_data"
    },
    {
     "name": "stdout",
     "output_type": "stream",
     "text": [
      "Лучшая модель: DecisionTreeClassifier(max_depth=7, random_state=0)\n",
      "CPU times: user 1.19 s, sys: 78.4 ms, total: 1.27 s\n",
      "Wall time: 1.86 s\n"
     ]
    }
   ],
   "source": [
    "%%time\n",
    "\n",
    "best_model = None\n",
    "best_result = 0\n",
    "\n",
    "p_max_depth = np.arange(1, 11, 1)\n",
    "p_criterion = ['gini', 'entropy']\n",
    "p_splitter = ['best', 'random']\n",
    "\n",
    "# обучим модель в цикле с различными гиперпараметрами и выберем лучшую:\n",
    "for max_depth in tqdm(p_max_depth, position=0, desc='max_depth', leave=True):\n",
    "    for criterion in tqdm(p_criterion, position=1, desc='criterion', leave=False):\n",
    "        for splitter in tqdm(p_splitter, position=2, desc='splitter', leave=False):\n",
    "            model = DecisionTreeClassifier(random_state=0, \n",
    "                                           criterion=criterion, \n",
    "                                           splitter=splitter, \n",
    "                                           max_depth=max_depth)\n",
    "            model.fit(X_train, y_train)\n",
    "            y_pred = model.predict(X_valid)\n",
    "            result = f1_score(y_valid, y_pred)\n",
    "            if result > best_result:\n",
    "                decision_tree_classifier = model\n",
    "                best_result = result\n",
    "                \n",
    "print('Лучшая модель:', decision_tree_classifier)"
   ]
  },
  {
   "cell_type": "code",
   "execution_count": 20,
   "metadata": {},
   "outputs": [
    {
     "data": {
      "image/png": "[encoded data removed]",
      "text/plain": [
       "<Figure size 1800x432 with 1 Axes>"
      ]
     },
     "metadata": {
      "needs_background": "light"
     },
     "output_type": "display_data"
    }
   ],
   "source": [
    "plt.figure(figsize=(25, 6))\n",
    "tree.plot_tree(decision_tree_classifier)\n",
    "plt.show()"
   ]
  },
  {
   "cell_type": "markdown",
   "metadata": {},
   "source": [
    "### Алгоритм `RandomForestClassifier`"
   ]
  },
  {
   "cell_type": "code",
   "execution_count": 21,
   "metadata": {
    "scrolled": true
   },
   "outputs": [
    {
     "data": {
      "application/vnd.jupyter.widget-view+json": {
       "model_id": "cc0bf57141b845dbbcbe1226165c68d2",
       "version_major": 2,
       "version_minor": 0
      },
      "text/plain": [
       "max_depth:   0%|          | 0/10 [00:00<?, ?it/s]"
      ]
     },
     "metadata": {},
     "output_type": "display_data"
    },
    {
     "data": {
      "application/vnd.jupyter.widget-view+json": {
       "model_id": "",
       "version_major": 2,
       "version_minor": 0
      },
      "text/plain": [
       "n_estimators:   0%|          | 0/10 [00:00<?, ?it/s]"
      ]
     },
     "metadata": {},
     "output_type": "display_data"
    },
    {
     "data": {
      "application/vnd.jupyter.widget-view+json": {
       "model_id": "",
       "version_major": 2,
       "version_minor": 0
      },
      "text/plain": [
       "criterion:   0%|          | 0/2 [00:00<?, ?it/s]"
      ]
     },
     "metadata": {},
     "output_type": "display_data"
    },
    {
     "data": {
      "application/vnd.jupyter.widget-view+json": {
       "model_id": "",
       "version_major": 2,
       "version_minor": 0
      },
      "text/plain": [
       "criterion:   0%|          | 0/2 [00:00<?, ?it/s]"
      ]
     },
     "metadata": {},
     "output_type": "display_data"
    },
    {
     "data": {
      "application/vnd.jupyter.widget-view+json": {
       "model_id": "",
       "version_major": 2,
       "version_minor": 0
      },
      "text/plain": [
       "criterion:   0%|          | 0/2 [00:00<?, ?it/s]"
      ]
     },
     "metadata": {},
     "output_type": "display_data"
    },
    {
     "data": {
      "application/vnd.jupyter.widget-view+json": {
       "model_id": "",
       "version_major": 2,
       "version_minor": 0
      },
      "text/plain": [
       "criterion:   0%|          | 0/2 [00:00<?, ?it/s]"
      ]
     },
     "metadata": {},
     "output_type": "display_data"
    },
    {
     "data": {
      "application/vnd.jupyter.widget-view+json": {
       "model_id": "",
       "version_major": 2,
       "version_minor": 0
      },
      "text/plain": [
       "criterion:   0%|          | 0/2 [00:00<?, ?it/s]"
      ]
     },
     "metadata": {},
     "output_type": "display_data"
    },
    {
     "data": {
      "application/vnd.jupyter.widget-view+json": {
       "model_id": "",
       "version_major": 2,
       "version_minor": 0
      },
      "text/plain": [
       "criterion:   0%|          | 0/2 [00:00<?, ?it/s]"
      ]
     },
     "metadata": {},
     "output_type": "display_data"
    },
    {
     "data": {
      "application/vnd.jupyter.widget-view+json": {
       "model_id": "",
       "version_major": 2,
       "version_minor": 0
      },
      "text/plain": [
       "criterion:   0%|          | 0/2 [00:00<?, ?it/s]"
      ]
     },
     "metadata": {},
     "output_type": "display_data"
    },
    {
     "data": {
      "application/vnd.jupyter.widget-view+json": {
       "model_id": "",
       "version_major": 2,
       "version_minor": 0
      },
      "text/plain": [
       "criterion:   0%|          | 0/2 [00:00<?, ?it/s]"
      ]
     },
     "metadata": {},
     "output_type": "display_data"
    },
    {
     "data": {
      "application/vnd.jupyter.widget-view+json": {
       "model_id": "",
       "version_major": 2,
       "version_minor": 0
      },
      "text/plain": [
       "criterion:   0%|          | 0/2 [00:00<?, ?it/s]"
      ]
     },
     "metadata": {},
     "output_type": "display_data"
    },
    {
     "data": {
      "application/vnd.jupyter.widget-view+json": {
       "model_id": "",
       "version_major": 2,
       "version_minor": 0
      },
      "text/plain": [
       "criterion:   0%|          | 0/2 [00:00<?, ?it/s]"
      ]
     },
     "metadata": {},
     "output_type": "display_data"
    },
    {
     "data": {
      "application/vnd.jupyter.widget-view+json": {
       "model_id": "",
       "version_major": 2,
       "version_minor": 0
      },
      "text/plain": [
       "n_estimators:   0%|          | 0/10 [00:00<?, ?it/s]"
      ]
     },
     "metadata": {},
     "output_type": "display_data"
    },
    {
     "data": {
      "application/vnd.jupyter.widget-view+json": {
       "model_id": "",
       "version_major": 2,
       "version_minor": 0
      },
      "text/plain": [
       "criterion:   0%|          | 0/2 [00:00<?, ?it/s]"
      ]
     },
     "metadata": {},
     "output_type": "display_data"
    },
    {
     "data": {
      "application/vnd.jupyter.widget-view+json": {
       "model_id": "",
       "version_major": 2,
       "version_minor": 0
      },
      "text/plain": [
       "criterion:   0%|          | 0/2 [00:00<?, ?it/s]"
      ]
     },
     "metadata": {},
     "output_type": "display_data"
    },
    {
     "data": {
      "application/vnd.jupyter.widget-view+json": {
       "model_id": "",
       "version_major": 2,
       "version_minor": 0
      },
      "text/plain": [
       "criterion:   0%|          | 0/2 [00:00<?, ?it/s]"
      ]
     },
     "metadata": {},
     "output_type": "display_data"
    },
    {
     "data": {
      "application/vnd.jupyter.widget-view+json": {
       "model_id": "",
       "version_major": 2,
       "version_minor": 0
      },
      "text/plain": [
       "criterion:   0%|          | 0/2 [00:00<?, ?it/s]"
      ]
     },
     "metadata": {},
     "output_type": "display_data"
    },
    {
     "data": {
      "application/vnd.jupyter.widget-view+json": {
       "model_id": "",
       "version_major": 2,
       "version_minor": 0
      },
      "text/plain": [
       "criterion:   0%|          | 0/2 [00:00<?, ?it/s]"
      ]
     },
     "metadata": {},
     "output_type": "display_data"
    },
    {
     "data": {
      "application/vnd.jupyter.widget-view+json": {
       "model_id": "",
       "version_major": 2,
       "version_minor": 0
      },
      "text/plain": [
       "criterion:   0%|          | 0/2 [00:00<?, ?it/s]"
      ]
     },
     "metadata": {},
     "output_type": "display_data"
    },
    {
     "data": {
      "application/vnd.jupyter.widget-view+json": {
       "model_id": "",
       "version_major": 2,
       "version_minor": 0
      },
      "text/plain": [
       "criterion:   0%|          | 0/2 [00:00<?, ?it/s]"
      ]
     },
     "metadata": {},
     "output_type": "display_data"
    },
    {
     "data": {
      "application/vnd.jupyter.widget-view+json": {
       "model_id": "",
       "version_major": 2,
       "version_minor": 0
      },
      "text/plain": [
       "criterion:   0%|          | 0/2 [00:00<?, ?it/s]"
      ]
     },
     "metadata": {},
     "output_type": "display_data"
    },
    {
     "data": {
      "application/vnd.jupyter.widget-view+json": {
       "model_id": "",
       "version_major": 2,
       "version_minor": 0
      },
      "text/plain": [
       "criterion:   0%|          | 0/2 [00:00<?, ?it/s]"
      ]
     },
     "metadata": {},
     "output_type": "display_data"
    },
    {
     "data": {
      "application/vnd.jupyter.widget-view+json": {
       "model_id": "",
       "version_major": 2,
       "version_minor": 0
      },
      "text/plain": [
       "criterion:   0%|          | 0/2 [00:00<?, ?it/s]"
      ]
     },
     "metadata": {},
     "output_type": "display_data"
    },
    {
     "data": {
      "application/vnd.jupyter.widget-view+json": {
       "model_id": "",
       "version_major": 2,
       "version_minor": 0
      },
      "text/plain": [
       "n_estimators:   0%|          | 0/10 [00:00<?, ?it/s]"
      ]
     },
     "metadata": {},
     "output_type": "display_data"
    },
    {
     "data": {
      "application/vnd.jupyter.widget-view+json": {
       "model_id": "",
       "version_major": 2,
       "version_minor": 0
      },
      "text/plain": [
       "criterion:   0%|          | 0/2 [00:00<?, ?it/s]"
      ]
     },
     "metadata": {},
     "output_type": "display_data"
    },
    {
     "data": {
      "application/vnd.jupyter.widget-view+json": {
       "model_id": "",
       "version_major": 2,
       "version_minor": 0
      },
      "text/plain": [
       "criterion:   0%|          | 0/2 [00:00<?, ?it/s]"
      ]
     },
     "metadata": {},
     "output_type": "display_data"
    },
    {
     "data": {
      "application/vnd.jupyter.widget-view+json": {
       "model_id": "",
       "version_major": 2,
       "version_minor": 0
      },
      "text/plain": [
       "criterion:   0%|          | 0/2 [00:00<?, ?it/s]"
      ]
     },
     "metadata": {},
     "output_type": "display_data"
    },
    {
     "data": {
      "application/vnd.jupyter.widget-view+json": {
       "model_id": "",
       "version_major": 2,
       "version_minor": 0
      },
      "text/plain": [
       "criterion:   0%|          | 0/2 [00:00<?, ?it/s]"
      ]
     },
     "metadata": {},
     "output_type": "display_data"
    },
    {
     "data": {
      "application/vnd.jupyter.widget-view+json": {
       "model_id": "",
       "version_major": 2,
       "version_minor": 0
      },
      "text/plain": [
       "criterion:   0%|          | 0/2 [00:00<?, ?it/s]"
      ]
     },
     "metadata": {},
     "output_type": "display_data"
    },
    {
     "data": {
      "application/vnd.jupyter.widget-view+json": {
       "model_id": "",
       "version_major": 2,
       "version_minor": 0
      },
      "text/plain": [
       "criterion:   0%|          | 0/2 [00:00<?, ?it/s]"
      ]
     },
     "metadata": {},
     "output_type": "display_data"
    },
    {
     "data": {
      "application/vnd.jupyter.widget-view+json": {
       "model_id": "",
       "version_major": 2,
       "version_minor": 0
      },
      "text/plain": [
       "criterion:   0%|          | 0/2 [00:00<?, ?it/s]"
      ]
     },
     "metadata": {},
     "output_type": "display_data"
    },
    {
     "data": {
      "application/vnd.jupyter.widget-view+json": {
       "model_id": "",
       "version_major": 2,
       "version_minor": 0
      },
      "text/plain": [
       "criterion:   0%|          | 0/2 [00:00<?, ?it/s]"
      ]
     },
     "metadata": {},
     "output_type": "display_data"
    },
    {
     "data": {
      "application/vnd.jupyter.widget-view+json": {
       "model_id": "",
       "version_major": 2,
       "version_minor": 0
      },
      "text/plain": [
       "criterion:   0%|          | 0/2 [00:00<?, ?it/s]"
      ]
     },
     "metadata": {},
     "output_type": "display_data"
    },
    {
     "data": {
      "application/vnd.jupyter.widget-view+json": {
       "model_id": "",
       "version_major": 2,
       "version_minor": 0
      },
      "text/plain": [
       "criterion:   0%|          | 0/2 [00:00<?, ?it/s]"
      ]
     },
     "metadata": {},
     "output_type": "display_data"
    },
    {
     "data": {
      "application/vnd.jupyter.widget-view+json": {
       "model_id": "",
       "version_major": 2,
       "version_minor": 0
      },
      "text/plain": [
       "n_estimators:   0%|          | 0/10 [00:00<?, ?it/s]"
      ]
     },
     "metadata": {},
     "output_type": "display_data"
    },
    {
     "data": {
      "application/vnd.jupyter.widget-view+json": {
       "model_id": "",
       "version_major": 2,
       "version_minor": 0
      },
      "text/plain": [
       "criterion:   0%|          | 0/2 [00:00<?, ?it/s]"
      ]
     },
     "metadata": {},
     "output_type": "display_data"
    },
    {
     "data": {
      "application/vnd.jupyter.widget-view+json": {
       "model_id": "",
       "version_major": 2,
       "version_minor": 0
      },
      "text/plain": [
       "criterion:   0%|          | 0/2 [00:00<?, ?it/s]"
      ]
     },
     "metadata": {},
     "output_type": "display_data"
    },
    {
     "data": {
      "application/vnd.jupyter.widget-view+json": {
       "model_id": "",
       "version_major": 2,
       "version_minor": 0
      },
      "text/plain": [
       "criterion:   0%|          | 0/2 [00:00<?, ?it/s]"
      ]
     },
     "metadata": {},
     "output_type": "display_data"
    },
    {
     "data": {
      "application/vnd.jupyter.widget-view+json": {
       "model_id": "",
       "version_major": 2,
       "version_minor": 0
      },
      "text/plain": [
       "criterion:   0%|          | 0/2 [00:00<?, ?it/s]"
      ]
     },
     "metadata": {},
     "output_type": "display_data"
    },
    {
     "data": {
      "application/vnd.jupyter.widget-view+json": {
       "model_id": "",
       "version_major": 2,
       "version_minor": 0
      },
      "text/plain": [
       "criterion:   0%|          | 0/2 [00:00<?, ?it/s]"
      ]
     },
     "metadata": {},
     "output_type": "display_data"
    },
    {
     "data": {
      "application/vnd.jupyter.widget-view+json": {
       "model_id": "",
       "version_major": 2,
       "version_minor": 0
      },
      "text/plain": [
       "criterion:   0%|          | 0/2 [00:00<?, ?it/s]"
      ]
     },
     "metadata": {},
     "output_type": "display_data"
    },
    {
     "data": {
      "application/vnd.jupyter.widget-view+json": {
       "model_id": "",
       "version_major": 2,
       "version_minor": 0
      },
      "text/plain": [
       "criterion:   0%|          | 0/2 [00:00<?, ?it/s]"
      ]
     },
     "metadata": {},
     "output_type": "display_data"
    },
    {
     "data": {
      "application/vnd.jupyter.widget-view+json": {
       "model_id": "",
       "version_major": 2,
       "version_minor": 0
      },
      "text/plain": [
       "criterion:   0%|          | 0/2 [00:00<?, ?it/s]"
      ]
     },
     "metadata": {},
     "output_type": "display_data"
    },
    {
     "data": {
      "application/vnd.jupyter.widget-view+json": {
       "model_id": "",
       "version_major": 2,
       "version_minor": 0
      },
      "text/plain": [
       "criterion:   0%|          | 0/2 [00:00<?, ?it/s]"
      ]
     },
     "metadata": {},
     "output_type": "display_data"
    },
    {
     "data": {
      "application/vnd.jupyter.widget-view+json": {
       "model_id": "",
       "version_major": 2,
       "version_minor": 0
      },
      "text/plain": [
       "criterion:   0%|          | 0/2 [00:00<?, ?it/s]"
      ]
     },
     "metadata": {},
     "output_type": "display_data"
    },
    {
     "data": {
      "application/vnd.jupyter.widget-view+json": {
       "model_id": "",
       "version_major": 2,
       "version_minor": 0
      },
      "text/plain": [
       "n_estimators:   0%|          | 0/10 [00:00<?, ?it/s]"
      ]
     },
     "metadata": {},
     "output_type": "display_data"
    },
    {
     "data": {
      "application/vnd.jupyter.widget-view+json": {
       "model_id": "",
       "version_major": 2,
       "version_minor": 0
      },
      "text/plain": [
       "criterion:   0%|          | 0/2 [00:00<?, ?it/s]"
      ]
     },
     "metadata": {},
     "output_type": "display_data"
    },
    {
     "data": {
      "application/vnd.jupyter.widget-view+json": {
       "model_id": "",
       "version_major": 2,
       "version_minor": 0
      },
      "text/plain": [
       "criterion:   0%|          | 0/2 [00:00<?, ?it/s]"
      ]
     },
     "metadata": {},
     "output_type": "display_data"
    },
    {
     "data": {
      "application/vnd.jupyter.widget-view+json": {
       "model_id": "",
       "version_major": 2,
       "version_minor": 0
      },
      "text/plain": [
       "criterion:   0%|          | 0/2 [00:00<?, ?it/s]"
      ]
     },
     "metadata": {},
     "output_type": "display_data"
    },
    {
     "data": {
      "application/vnd.jupyter.widget-view+json": {
       "model_id": "",
       "version_major": 2,
       "version_minor": 0
      },
      "text/plain": [
       "criterion:   0%|          | 0/2 [00:00<?, ?it/s]"
      ]
     },
     "metadata": {},
     "output_type": "display_data"
    },
    {
     "data": {
      "application/vnd.jupyter.widget-view+json": {
       "model_id": "",
       "version_major": 2,
       "version_minor": 0
      },
      "text/plain": [
       "criterion:   0%|          | 0/2 [00:00<?, ?it/s]"
      ]
     },
     "metadata": {},
     "output_type": "display_data"
    },
    {
     "data": {
      "application/vnd.jupyter.widget-view+json": {
       "model_id": "",
       "version_major": 2,
       "version_minor": 0
      },
      "text/plain": [
       "criterion:   0%|          | 0/2 [00:00<?, ?it/s]"
      ]
     },
     "metadata": {},
     "output_type": "display_data"
    },
    {
     "data": {
      "application/vnd.jupyter.widget-view+json": {
       "model_id": "",
       "version_major": 2,
       "version_minor": 0
      },
      "text/plain": [
       "criterion:   0%|          | 0/2 [00:00<?, ?it/s]"
      ]
     },
     "metadata": {},
     "output_type": "display_data"
    },
    {
     "data": {
      "application/vnd.jupyter.widget-view+json": {
       "model_id": "",
       "version_major": 2,
       "version_minor": 0
      },
      "text/plain": [
       "criterion:   0%|          | 0/2 [00:00<?, ?it/s]"
      ]
     },
     "metadata": {},
     "output_type": "display_data"
    },
    {
     "data": {
      "application/vnd.jupyter.widget-view+json": {
       "model_id": "",
       "version_major": 2,
       "version_minor": 0
      },
      "text/plain": [
       "criterion:   0%|          | 0/2 [00:00<?, ?it/s]"
      ]
     },
     "metadata": {},
     "output_type": "display_data"
    },
    {
     "data": {
      "application/vnd.jupyter.widget-view+json": {
       "model_id": "",
       "version_major": 2,
       "version_minor": 0
      },
      "text/plain": [
       "criterion:   0%|          | 0/2 [00:00<?, ?it/s]"
      ]
     },
     "metadata": {},
     "output_type": "display_data"
    },
    {
     "data": {
      "application/vnd.jupyter.widget-view+json": {
       "model_id": "",
       "version_major": 2,
       "version_minor": 0
      },
      "text/plain": [
       "n_estimators:   0%|          | 0/10 [00:00<?, ?it/s]"
      ]
     },
     "metadata": {},
     "output_type": "display_data"
    },
    {
     "data": {
      "application/vnd.jupyter.widget-view+json": {
       "model_id": "",
       "version_major": 2,
       "version_minor": 0
      },
      "text/plain": [
       "criterion:   0%|          | 0/2 [00:00<?, ?it/s]"
      ]
     },
     "metadata": {},
     "output_type": "display_data"
    },
    {
     "data": {
      "application/vnd.jupyter.widget-view+json": {
       "model_id": "",
       "version_major": 2,
       "version_minor": 0
      },
      "text/plain": [
       "criterion:   0%|          | 0/2 [00:00<?, ?it/s]"
      ]
     },
     "metadata": {},
     "output_type": "display_data"
    },
    {
     "data": {
      "application/vnd.jupyter.widget-view+json": {
       "model_id": "",
       "version_major": 2,
       "version_minor": 0
      },
      "text/plain": [
       "criterion:   0%|          | 0/2 [00:00<?, ?it/s]"
      ]
     },
     "metadata": {},
     "output_type": "display_data"
    },
    {
     "data": {
      "application/vnd.jupyter.widget-view+json": {
       "model_id": "",
       "version_major": 2,
       "version_minor": 0
      },
      "text/plain": [
       "criterion:   0%|          | 0/2 [00:00<?, ?it/s]"
      ]
     },
     "metadata": {},
     "output_type": "display_data"
    },
    {
     "data": {
      "application/vnd.jupyter.widget-view+json": {
       "model_id": "",
       "version_major": 2,
       "version_minor": 0
      },
      "text/plain": [
       "criterion:   0%|          | 0/2 [00:00<?, ?it/s]"
      ]
     },
     "metadata": {},
     "output_type": "display_data"
    },
    {
     "data": {
      "application/vnd.jupyter.widget-view+json": {
       "model_id": "",
       "version_major": 2,
       "version_minor": 0
      },
      "text/plain": [
       "criterion:   0%|          | 0/2 [00:00<?, ?it/s]"
      ]
     },
     "metadata": {},
     "output_type": "display_data"
    },
    {
     "data": {
      "application/vnd.jupyter.widget-view+json": {
       "model_id": "",
       "version_major": 2,
       "version_minor": 0
      },
      "text/plain": [
       "criterion:   0%|          | 0/2 [00:00<?, ?it/s]"
      ]
     },
     "metadata": {},
     "output_type": "display_data"
    },
    {
     "data": {
      "application/vnd.jupyter.widget-view+json": {
       "model_id": "",
       "version_major": 2,
       "version_minor": 0
      },
      "text/plain": [
       "criterion:   0%|          | 0/2 [00:00<?, ?it/s]"
      ]
     },
     "metadata": {},
     "output_type": "display_data"
    },
    {
     "data": {
      "application/vnd.jupyter.widget-view+json": {
       "model_id": "",
       "version_major": 2,
       "version_minor": 0
      },
      "text/plain": [
       "criterion:   0%|          | 0/2 [00:00<?, ?it/s]"
      ]
     },
     "metadata": {},
     "output_type": "display_data"
    },
    {
     "data": {
      "application/vnd.jupyter.widget-view+json": {
       "model_id": "",
       "version_major": 2,
       "version_minor": 0
      },
      "text/plain": [
       "criterion:   0%|          | 0/2 [00:00<?, ?it/s]"
      ]
     },
     "metadata": {},
     "output_type": "display_data"
    },
    {
     "data": {
      "application/vnd.jupyter.widget-view+json": {
       "model_id": "",
       "version_major": 2,
       "version_minor": 0
      },
      "text/plain": [
       "n_estimators:   0%|          | 0/10 [00:00<?, ?it/s]"
      ]
     },
     "metadata": {},
     "output_type": "display_data"
    },
    {
     "data": {
      "application/vnd.jupyter.widget-view+json": {
       "model_id": "",
       "version_major": 2,
       "version_minor": 0
      },
      "text/plain": [
       "criterion:   0%|          | 0/2 [00:00<?, ?it/s]"
      ]
     },
     "metadata": {},
     "output_type": "display_data"
    },
    {
     "data": {
      "application/vnd.jupyter.widget-view+json": {
       "model_id": "",
       "version_major": 2,
       "version_minor": 0
      },
      "text/plain": [
       "criterion:   0%|          | 0/2 [00:00<?, ?it/s]"
      ]
     },
     "metadata": {},
     "output_type": "display_data"
    },
    {
     "data": {
      "application/vnd.jupyter.widget-view+json": {
       "model_id": "",
       "version_major": 2,
       "version_minor": 0
      },
      "text/plain": [
       "criterion:   0%|          | 0/2 [00:00<?, ?it/s]"
      ]
     },
     "metadata": {},
     "output_type": "display_data"
    },
    {
     "data": {
      "application/vnd.jupyter.widget-view+json": {
       "model_id": "",
       "version_major": 2,
       "version_minor": 0
      },
      "text/plain": [
       "criterion:   0%|          | 0/2 [00:00<?, ?it/s]"
      ]
     },
     "metadata": {},
     "output_type": "display_data"
    },
    {
     "data": {
      "application/vnd.jupyter.widget-view+json": {
       "model_id": "",
       "version_major": 2,
       "version_minor": 0
      },
      "text/plain": [
       "criterion:   0%|          | 0/2 [00:00<?, ?it/s]"
      ]
     },
     "metadata": {},
     "output_type": "display_data"
    },
    {
     "data": {
      "application/vnd.jupyter.widget-view+json": {
       "model_id": "",
       "version_major": 2,
       "version_minor": 0
      },
      "text/plain": [
       "criterion:   0%|          | 0/2 [00:00<?, ?it/s]"
      ]
     },
     "metadata": {},
     "output_type": "display_data"
    },
    {
     "data": {
      "application/vnd.jupyter.widget-view+json": {
       "model_id": "",
       "version_major": 2,
       "version_minor": 0
      },
      "text/plain": [
       "criterion:   0%|          | 0/2 [00:00<?, ?it/s]"
      ]
     },
     "metadata": {},
     "output_type": "display_data"
    },
    {
     "data": {
      "application/vnd.jupyter.widget-view+json": {
       "model_id": "",
       "version_major": 2,
       "version_minor": 0
      },
      "text/plain": [
       "criterion:   0%|          | 0/2 [00:00<?, ?it/s]"
      ]
     },
     "metadata": {},
     "output_type": "display_data"
    },
    {
     "data": {
      "application/vnd.jupyter.widget-view+json": {
       "model_id": "",
       "version_major": 2,
       "version_minor": 0
      },
      "text/plain": [
       "criterion:   0%|          | 0/2 [00:00<?, ?it/s]"
      ]
     },
     "metadata": {},
     "output_type": "display_data"
    },
    {
     "data": {
      "application/vnd.jupyter.widget-view+json": {
       "model_id": "",
       "version_major": 2,
       "version_minor": 0
      },
      "text/plain": [
       "criterion:   0%|          | 0/2 [00:00<?, ?it/s]"
      ]
     },
     "metadata": {},
     "output_type": "display_data"
    },
    {
     "data": {
      "application/vnd.jupyter.widget-view+json": {
       "model_id": "",
       "version_major": 2,
       "version_minor": 0
      },
      "text/plain": [
       "n_estimators:   0%|          | 0/10 [00:00<?, ?it/s]"
      ]
     },
     "metadata": {},
     "output_type": "display_data"
    },
    {
     "data": {
      "application/vnd.jupyter.widget-view+json": {
       "model_id": "",
       "version_major": 2,
       "version_minor": 0
      },
      "text/plain": [
       "criterion:   0%|          | 0/2 [00:00<?, ?it/s]"
      ]
     },
     "metadata": {},
     "output_type": "display_data"
    },
    {
     "data": {
      "application/vnd.jupyter.widget-view+json": {
       "model_id": "",
       "version_major": 2,
       "version_minor": 0
      },
      "text/plain": [
       "criterion:   0%|          | 0/2 [00:00<?, ?it/s]"
      ]
     },
     "metadata": {},
     "output_type": "display_data"
    },
    {
     "data": {
      "application/vnd.jupyter.widget-view+json": {
       "model_id": "",
       "version_major": 2,
       "version_minor": 0
      },
      "text/plain": [
       "criterion:   0%|          | 0/2 [00:00<?, ?it/s]"
      ]
     },
     "metadata": {},
     "output_type": "display_data"
    },
    {
     "data": {
      "application/vnd.jupyter.widget-view+json": {
       "model_id": "",
       "version_major": 2,
       "version_minor": 0
      },
      "text/plain": [
       "criterion:   0%|          | 0/2 [00:00<?, ?it/s]"
      ]
     },
     "metadata": {},
     "output_type": "display_data"
    },
    {
     "data": {
      "application/vnd.jupyter.widget-view+json": {
       "model_id": "",
       "version_major": 2,
       "version_minor": 0
      },
      "text/plain": [
       "criterion:   0%|          | 0/2 [00:00<?, ?it/s]"
      ]
     },
     "metadata": {},
     "output_type": "display_data"
    },
    {
     "data": {
      "application/vnd.jupyter.widget-view+json": {
       "model_id": "",
       "version_major": 2,
       "version_minor": 0
      },
      "text/plain": [
       "criterion:   0%|          | 0/2 [00:00<?, ?it/s]"
      ]
     },
     "metadata": {},
     "output_type": "display_data"
    },
    {
     "data": {
      "application/vnd.jupyter.widget-view+json": {
       "model_id": "",
       "version_major": 2,
       "version_minor": 0
      },
      "text/plain": [
       "criterion:   0%|          | 0/2 [00:00<?, ?it/s]"
      ]
     },
     "metadata": {},
     "output_type": "display_data"
    },
    {
     "data": {
      "application/vnd.jupyter.widget-view+json": {
       "model_id": "",
       "version_major": 2,
       "version_minor": 0
      },
      "text/plain": [
       "criterion:   0%|          | 0/2 [00:00<?, ?it/s]"
      ]
     },
     "metadata": {},
     "output_type": "display_data"
    },
    {
     "data": {
      "application/vnd.jupyter.widget-view+json": {
       "model_id": "",
       "version_major": 2,
       "version_minor": 0
      },
      "text/plain": [
       "criterion:   0%|          | 0/2 [00:00<?, ?it/s]"
      ]
     },
     "metadata": {},
     "output_type": "display_data"
    },
    {
     "data": {
      "application/vnd.jupyter.widget-view+json": {
       "model_id": "",
       "version_major": 2,
       "version_minor": 0
      },
      "text/plain": [
       "criterion:   0%|          | 0/2 [00:00<?, ?it/s]"
      ]
     },
     "metadata": {},
     "output_type": "display_data"
    },
    {
     "data": {
      "application/vnd.jupyter.widget-view+json": {
       "model_id": "",
       "version_major": 2,
       "version_minor": 0
      },
      "text/plain": [
       "n_estimators:   0%|          | 0/10 [00:00<?, ?it/s]"
      ]
     },
     "metadata": {},
     "output_type": "display_data"
    },
    {
     "data": {
      "application/vnd.jupyter.widget-view+json": {
       "model_id": "",
       "version_major": 2,
       "version_minor": 0
      },
      "text/plain": [
       "criterion:   0%|          | 0/2 [00:00<?, ?it/s]"
      ]
     },
     "metadata": {},
     "output_type": "display_data"
    },
    {
     "data": {
      "application/vnd.jupyter.widget-view+json": {
       "model_id": "",
       "version_major": 2,
       "version_minor": 0
      },
      "text/plain": [
       "criterion:   0%|          | 0/2 [00:00<?, ?it/s]"
      ]
     },
     "metadata": {},
     "output_type": "display_data"
    },
    {
     "data": {
      "application/vnd.jupyter.widget-view+json": {
       "model_id": "",
       "version_major": 2,
       "version_minor": 0
      },
      "text/plain": [
       "criterion:   0%|          | 0/2 [00:00<?, ?it/s]"
      ]
     },
     "metadata": {},
     "output_type": "display_data"
    },
    {
     "data": {
      "application/vnd.jupyter.widget-view+json": {
       "model_id": "",
       "version_major": 2,
       "version_minor": 0
      },
      "text/plain": [
       "criterion:   0%|          | 0/2 [00:00<?, ?it/s]"
      ]
     },
     "metadata": {},
     "output_type": "display_data"
    },
    {
     "data": {
      "application/vnd.jupyter.widget-view+json": {
       "model_id": "",
       "version_major": 2,
       "version_minor": 0
      },
      "text/plain": [
       "criterion:   0%|          | 0/2 [00:00<?, ?it/s]"
      ]
     },
     "metadata": {},
     "output_type": "display_data"
    },
    {
     "data": {
      "application/vnd.jupyter.widget-view+json": {
       "model_id": "",
       "version_major": 2,
       "version_minor": 0
      },
      "text/plain": [
       "criterion:   0%|          | 0/2 [00:00<?, ?it/s]"
      ]
     },
     "metadata": {},
     "output_type": "display_data"
    },
    {
     "data": {
      "application/vnd.jupyter.widget-view+json": {
       "model_id": "",
       "version_major": 2,
       "version_minor": 0
      },
      "text/plain": [
       "criterion:   0%|          | 0/2 [00:00<?, ?it/s]"
      ]
     },
     "metadata": {},
     "output_type": "display_data"
    },
    {
     "data": {
      "application/vnd.jupyter.widget-view+json": {
       "model_id": "",
       "version_major": 2,
       "version_minor": 0
      },
      "text/plain": [
       "criterion:   0%|          | 0/2 [00:00<?, ?it/s]"
      ]
     },
     "metadata": {},
     "output_type": "display_data"
    },
    {
     "data": {
      "application/vnd.jupyter.widget-view+json": {
       "model_id": "",
       "version_major": 2,
       "version_minor": 0
      },
      "text/plain": [
       "criterion:   0%|          | 0/2 [00:00<?, ?it/s]"
      ]
     },
     "metadata": {},
     "output_type": "display_data"
    },
    {
     "data": {
      "application/vnd.jupyter.widget-view+json": {
       "model_id": "",
       "version_major": 2,
       "version_minor": 0
      },
      "text/plain": [
       "criterion:   0%|          | 0/2 [00:00<?, ?it/s]"
      ]
     },
     "metadata": {},
     "output_type": "display_data"
    },
    {
     "data": {
      "application/vnd.jupyter.widget-view+json": {
       "model_id": "",
       "version_major": 2,
       "version_minor": 0
      },
      "text/plain": [
       "n_estimators:   0%|          | 0/10 [00:00<?, ?it/s]"
      ]
     },
     "metadata": {},
     "output_type": "display_data"
    },
    {
     "data": {
      "application/vnd.jupyter.widget-view+json": {
       "model_id": "",
       "version_major": 2,
       "version_minor": 0
      },
      "text/plain": [
       "criterion:   0%|          | 0/2 [00:00<?, ?it/s]"
      ]
     },
     "metadata": {},
     "output_type": "display_data"
    },
    {
     "data": {
      "application/vnd.jupyter.widget-view+json": {
       "model_id": "",
       "version_major": 2,
       "version_minor": 0
      },
      "text/plain": [
       "criterion:   0%|          | 0/2 [00:00<?, ?it/s]"
      ]
     },
     "metadata": {},
     "output_type": "display_data"
    },
    {
     "data": {
      "application/vnd.jupyter.widget-view+json": {
       "model_id": "",
       "version_major": 2,
       "version_minor": 0
      },
      "text/plain": [
       "criterion:   0%|          | 0/2 [00:00<?, ?it/s]"
      ]
     },
     "metadata": {},
     "output_type": "display_data"
    },
    {
     "data": {
      "application/vnd.jupyter.widget-view+json": {
       "model_id": "",
       "version_major": 2,
       "version_minor": 0
      },
      "text/plain": [
       "criterion:   0%|          | 0/2 [00:00<?, ?it/s]"
      ]
     },
     "metadata": {},
     "output_type": "display_data"
    },
    {
     "data": {
      "application/vnd.jupyter.widget-view+json": {
       "model_id": "",
       "version_major": 2,
       "version_minor": 0
      },
      "text/plain": [
       "criterion:   0%|          | 0/2 [00:00<?, ?it/s]"
      ]
     },
     "metadata": {},
     "output_type": "display_data"
    },
    {
     "data": {
      "application/vnd.jupyter.widget-view+json": {
       "model_id": "",
       "version_major": 2,
       "version_minor": 0
      },
      "text/plain": [
       "criterion:   0%|          | 0/2 [00:00<?, ?it/s]"
      ]
     },
     "metadata": {},
     "output_type": "display_data"
    },
    {
     "data": {
      "application/vnd.jupyter.widget-view+json": {
       "model_id": "",
       "version_major": 2,
       "version_minor": 0
      },
      "text/plain": [
       "criterion:   0%|          | 0/2 [00:00<?, ?it/s]"
      ]
     },
     "metadata": {},
     "output_type": "display_data"
    },
    {
     "data": {
      "application/vnd.jupyter.widget-view+json": {
       "model_id": "",
       "version_major": 2,
       "version_minor": 0
      },
      "text/plain": [
       "criterion:   0%|          | 0/2 [00:00<?, ?it/s]"
      ]
     },
     "metadata": {},
     "output_type": "display_data"
    },
    {
     "data": {
      "application/vnd.jupyter.widget-view+json": {
       "model_id": "",
       "version_major": 2,
       "version_minor": 0
      },
      "text/plain": [
       "criterion:   0%|          | 0/2 [00:00<?, ?it/s]"
      ]
     },
     "metadata": {},
     "output_type": "display_data"
    },
    {
     "data": {
      "application/vnd.jupyter.widget-view+json": {
       "model_id": "",
       "version_major": 2,
       "version_minor": 0
      },
      "text/plain": [
       "criterion:   0%|          | 0/2 [00:00<?, ?it/s]"
      ]
     },
     "metadata": {},
     "output_type": "display_data"
    },
    {
     "name": "stdout",
     "output_type": "stream",
     "text": [
      "Лучшая модель: RandomForestClassifier(max_depth=10, n_estimators=40, random_state=0)\n",
      "CPU times: user 27.2 s, sys: 338 ms, total: 27.5 s\n",
      "Wall time: 30.4 s\n"
     ]
    }
   ],
   "source": [
    "%%time\n",
    "\n",
    "best_model = None\n",
    "best_result = 0\n",
    "\n",
    "p_max_depth = np.arange(1, 11, 1)\n",
    "p_estimators = np.arange(5, 55, 5)\n",
    "p_criterion = ['gini', 'entropy']\n",
    "\n",
    "# обучим модель в цикле с различными гиперпараметрами и выберем лучшую:\n",
    "for max_depth in tqdm(p_max_depth, position=0, desc='max_depth', leave=True):\n",
    "    for n_estimators in tqdm(p_estimators, position=1, desc='n_estimators', leave=False):\n",
    "        for criterion in tqdm(p_criterion, position=2, desc='criterion', leave=False):\n",
    "            model = RandomForestClassifier(random_state=0, \n",
    "                                           criterion=criterion, \n",
    "                                           n_estimators=n_estimators, \n",
    "                                           max_depth=max_depth)\n",
    "            model.fit(X_train, y_train)\n",
    "            y_pred = model.predict(X_valid)\n",
    "            result = f1_score(y_valid, y_pred)\n",
    "            if result > best_result:\n",
    "                random_forest_classifier = model\n",
    "                best_result = result\n",
    "                \n",
    "print('Лучшая модель:', random_forest_classifier)"
   ]
  },
  {
   "cell_type": "markdown",
   "metadata": {},
   "source": [
    "### Алгоритм `GradientBoostingClassifier`"
   ]
  },
  {
   "cell_type": "code",
   "execution_count": null,
   "metadata": {},
   "outputs": [],
   "source": [
    "%%time\n",
    "\n",
    "best_model = None\n",
    "best_result = 0\n",
    "\n",
    "p_max_depth = np.arange(1, 5, 1)\n",
    "p_estimators = np.arange(5, 25, 5)\n",
    "p_loss = ['deviance', 'exponential']\n",
    "\n",
    "\n",
    "# обучим модель в цикле с различными гиперпараметрами и выберем лучшую:\n",
    "for max_depth in tqdm(p_max_depth, position=0, desc='max_depth', leave=True):\n",
    "    for n_estimators in tqdm(p_estimators, position=1, desc='n_estimators', leave=False):\n",
    "        for loss in tqdm(p_loss, position=3, desc='splitter', leave=False):\n",
    "            model = GradientBoostingClassifier(random_state=0, \n",
    "                                               loss=loss,\n",
    "                                               n_estimators=n_estimators, \n",
    "                                               max_depth=max_depth)\n",
    "            model.fit(X_train, y_train)\n",
    "            y_pred = model.predict(X_valid)\n",
    "            result = f1_score(y_valid, y_pred)\n",
    "            if result > best_result:\n",
    "                gradient_boosting_classifier = model\n",
    "                best_result = result\n",
    "                \n",
    "print('Лучшая модель:', gradient_boosting_classifier)"
   ]
  },
  {
   "cell_type": "markdown",
   "metadata": {},
   "source": [
    "### Алгоритм `LogisticRegression`"
   ]
  },
  {
   "cell_type": "code",
   "execution_count": 23,
   "metadata": {},
   "outputs": [
    {
     "data": {
      "application/vnd.jupyter.widget-view+json": {
       "model_id": "0c6ae4a731b04f2290e4c105e679a5f7",
       "version_major": 2,
       "version_minor": 0
      },
      "text/plain": [
       "solver:   0%|          | 0/5 [00:00<?, ?it/s]"
      ]
     },
     "metadata": {},
     "output_type": "display_data"
    },
    {
     "name": "stdout",
     "output_type": "stream",
     "text": [
      "Лучшая модель: LogisticRegression(max_iter=1000, random_state=0, solver='liblinear')\n",
      "CPU times: user 713 ms, sys: 823 ms, total: 1.54 s\n",
      "Wall time: 1.55 s\n"
     ]
    }
   ],
   "source": [
    "%%time\n",
    "\n",
    "best_model = None\n",
    "best_result = 0\n",
    "\n",
    "p_solver = ['newton-cg', 'lbfgs', 'liblinear', 'sag', 'saga']\n",
    "\n",
    "# обучим модель в цикле с различными гиперпараметрами и выберем лучшую:\n",
    "for solver in tqdm(p_solver, position=0, desc='solver', leave=True):\n",
    "        model = LogisticRegression(random_state=0,\n",
    "                                   solver=solver,\n",
    "                                   penalty='l2',\n",
    "                                   max_iter=1000)\n",
    "        model.fit(X_train, y_train)\n",
    "        y_pred = model.predict(X_valid)\n",
    "        result = f1_score(y_valid, y_pred)\n",
    "        if result > best_result:\n",
    "            logistic_regression = model\n",
    "            best_result = result\n",
    "        \n",
    "print('Лучшая модель:', logistic_regression)"
   ]
  },
  {
   "cell_type": "code",
   "execution_count": 24,
   "metadata": {},
   "outputs": [],
   "source": [
    "# создадим пустой список:\n",
    "results=[]\n",
    "\n",
    "# напишем функцию, которая принимает на вход модель и данные и заносит метрики в список:\n",
    "def make_prediction(model, X_train, y_train, X_test, y_test):\n",
    "    model.fit(X_train, y_train)\n",
    "    y_pred = model.predict(X_test)\n",
    "    results.append(pd.Series({'Accuracy': '{:.2f}'.format(accuracy_score(y_test, y_pred)), \n",
    "                              'Precision': '{:.2f}'.format(precision_score(y_test, y_pred)), \n",
    "                              'Recall': '{:.2f}'.format(recall_score(y_test, y_pred)),\n",
    "                              'Specificity': '{:.2f}'.format(recall_score(y_test, y_pred, pos_label=0)),\n",
    "                              'F1': '{:.2f}'.format(f1_score(y_test, y_pred)), \n",
    "                              'ROC_AUC': '{:.2f}'.format(roc_auc_score(y_test, model.predict_proba(X_test)[:,1]))},\n",
    "                               name = type(model).__name__)\n",
    "                              )"
   ]
  },
  {
   "cell_type": "markdown",
   "metadata": {},
   "source": [
    "Оценим качество моделей на валидационной выборке:"
   ]
  },
  {
   "cell_type": "code",
   "execution_count": 25,
   "metadata": {},
   "outputs": [
    {
     "data": {
      "text/html": [
       "<div>\n",
       "<style scoped>\n",
       "    .dataframe tbody tr th:only-of-type {\n",
       "        vertical-align: middle;\n",
       "    }\n",
       "\n",
       "    .dataframe tbody tr th {\n",
       "        vertical-align: top;\n",
       "    }\n",
       "\n",
       "    .dataframe thead th {\n",
       "        text-align: right;\n",
       "    }\n",
       "</style>\n",
       "<table border=\"1\" class=\"dataframe\">\n",
       "  <thead>\n",
       "    <tr style=\"text-align: right;\">\n",
       "      <th></th>\n",
       "      <th>DecisionTreeClassifier</th>\n",
       "      <th>RandomForestClassifier</th>\n",
       "      <th>GradientBoostingClassifier</th>\n",
       "      <th>LogisticRegression</th>\n",
       "    </tr>\n",
       "  </thead>\n",
       "  <tbody>\n",
       "    <tr>\n",
       "      <th>Accuracy</th>\n",
       "      <td>0.86</td>\n",
       "      <td>0.86</td>\n",
       "      <td>0.85</td>\n",
       "      <td>0.80</td>\n",
       "    </tr>\n",
       "    <tr>\n",
       "      <th>Precision</th>\n",
       "      <td>0.71</td>\n",
       "      <td>0.79</td>\n",
       "      <td>0.70</td>\n",
       "      <td>0.52</td>\n",
       "    </tr>\n",
       "    <tr>\n",
       "      <th>Recall</th>\n",
       "      <td>0.51</td>\n",
       "      <td>0.44</td>\n",
       "      <td>0.49</td>\n",
       "      <td>0.20</td>\n",
       "    </tr>\n",
       "    <tr>\n",
       "      <th>Specificity</th>\n",
       "      <td>0.95</td>\n",
       "      <td>0.97</td>\n",
       "      <td>0.95</td>\n",
       "      <td>0.95</td>\n",
       "    </tr>\n",
       "    <tr>\n",
       "      <th>F1</th>\n",
       "      <td>0.59</td>\n",
       "      <td>0.56</td>\n",
       "      <td>0.57</td>\n",
       "      <td>0.29</td>\n",
       "    </tr>\n",
       "    <tr>\n",
       "      <th>ROC_AUC</th>\n",
       "      <td>0.84</td>\n",
       "      <td>0.87</td>\n",
       "      <td>0.87</td>\n",
       "      <td>0.78</td>\n",
       "    </tr>\n",
       "  </tbody>\n",
       "</table>\n",
       "</div>"
      ],
      "text/plain": [
       "            DecisionTreeClassifier RandomForestClassifier  \\\n",
       "Accuracy                      0.86                   0.86   \n",
       "Precision                     0.71                   0.79   \n",
       "Recall                        0.51                   0.44   \n",
       "Specificity                   0.95                   0.97   \n",
       "F1                            0.59                   0.56   \n",
       "ROC_AUC                       0.84                   0.87   \n",
       "\n",
       "            GradientBoostingClassifier LogisticRegression  \n",
       "Accuracy                          0.85               0.80  \n",
       "Precision                         0.70               0.52  \n",
       "Recall                            0.49               0.20  \n",
       "Specificity                       0.95               0.95  \n",
       "F1                                0.57               0.29  \n",
       "ROC_AUC                           0.87               0.78  "
      ]
     },
     "metadata": {},
     "output_type": "display_data"
    }
   ],
   "source": [
    "# зададим список моделей:\n",
    "models = [decision_tree_classifier,\n",
    "          random_forest_classifier,\n",
    "          gradient_boosting_classifier,\n",
    "          logistic_regression]\n",
    "\n",
    "# создадим датафрейм с метриками:\n",
    "for model in models:\n",
    "    make_prediction(model=model, X_train=X_train, y_train=y_train, X_test=X_valid, y_test=y_valid)\n",
    "    \n",
    "display(pd.DataFrame(results).T)"
   ]
  },
  {
   "cell_type": "markdown",
   "metadata": {},
   "source": [
    "Построим ROC-кривые для моделей:"
   ]
  },
  {
   "cell_type": "code",
   "execution_count": 26,
   "metadata": {
    "scrolled": false
   },
   "outputs": [
    {
     "data": {
      "image/png": "[encoded data removed]",
      "text/plain": [
       "<Figure size 720x576 with 1 Axes>"
      ]
     },
     "metadata": {
      "needs_background": "light"
     },
     "output_type": "display_data"
    }
   ],
   "source": [
    "plt.figure(figsize=(10, 8))\n",
    "\n",
    "for model in models:\n",
    "    fpr, tpr, thresholds = roc_curve(y_valid, model.predict_proba(X_valid)[:,1], pos_label=1)\n",
    "    plt.plot(fpr, tpr, lw=2,  label='{}, AUC={:.3f}'.format(type(model).__name__, \n",
    "                                                            roc_auc_score(y_valid, model.predict_proba(X_valid)[:,1])))\n",
    "    plt.xticks(np.arange(0.0, 1.1, step=0.1))\n",
    "    plt.xlabel('False Positive Rate', fontsize=15)\n",
    "    plt.yticks(np.arange(0.0, 1.1, step=0.1))\n",
    "    plt.ylabel('True Positive Rate', fontsize=15)    \n",
    "    plt.title('ROC curve')\n",
    "plt.plot([0,1], [0,1], color='red', linestyle='--', label='Случайный прогноз')    \n",
    "plt.legend(prop={'size':13}, loc='lower right')\n",
    "plt.grid(alpha=0.7)\n",
    "plt.show()"
   ]
  },
  {
   "cell_type": "markdown",
   "metadata": {},
   "source": [
    "В процессе настройки моделей были подобраны гиперпараметры, показывающие лучший результат по метрике `F1`. Алгоритм `RandomForestClassifier` показал лучший результат по данной метрике."
   ]
  },
  {
   "cell_type": "markdown",
   "metadata": {},
   "source": [
    "## Борьба с дисбалансом"
   ]
  },
  {
   "cell_type": "markdown",
   "metadata": {},
   "source": [
    "### Увеличение выборки для устранения дисбаланса классов: "
   ]
  },
  {
   "cell_type": "code",
   "execution_count": 27,
   "metadata": {},
   "outputs": [],
   "source": [
    "# напишем функцию для увеличения выборки:\n",
    "def upsample(features, target, repeat):\n",
    "    features_zeros = features[target == 0]\n",
    "    features_ones = features[target == 1]\n",
    "    target_zeros = target[target == 0]\n",
    "    target_ones = target[target == 1]\n",
    "\n",
    "    features_upsampled = pd.concat([features_zeros] + [features_ones] * repeat)\n",
    "    target_upsampled = pd.concat([target_zeros] + [target_ones] * repeat)\n",
    "    \n",
    "    features_upsampled, target_upsampled = shuffle(\n",
    "        features_upsampled, target_upsampled, random_state=12345)\n",
    "    \n",
    "    return features_upsampled, target_upsampled\n",
    "\n",
    "# применим функцию:\n",
    "X_train_upsampled, y_train_upsampled = upsample(X_train, y_train, 4)"
   ]
  },
  {
   "cell_type": "markdown",
   "metadata": {},
   "source": [
    "Проверим баланс классов:"
   ]
  },
  {
   "cell_type": "code",
   "execution_count": 28,
   "metadata": {
    "scrolled": true
   },
   "outputs": [
    {
     "data": {
      "text/plain": [
       "<AxesSubplot: >"
      ]
     },
     "execution_count": 28,
     "metadata": {},
     "output_type": "execute_result"
    },
    {
     "data": {
      "image/png": "[encoded data removed]",
      "text/plain": [
       "<Figure size 432x288 with 1 Axes>"
      ]
     },
     "metadata": {
      "needs_background": "light"
     },
     "output_type": "display_data"
    }
   ],
   "source": [
    "y_train_upsampled.value_counts(normalize=True).plot(kind='bar')"
   ]
  },
  {
   "cell_type": "markdown",
   "metadata": {},
   "source": [
    "Классы сбалансированы. \n",
    "\n",
    "Обучим модели:"
   ]
  },
  {
   "cell_type": "markdown",
   "metadata": {},
   "source": [
    "#### Алгоритм `DecisionTreeClassifier`"
   ]
  },
  {
   "cell_type": "code",
   "execution_count": 29,
   "metadata": {
    "scrolled": true
   },
   "outputs": [
    {
     "data": {
      "application/vnd.jupyter.widget-view+json": {
       "model_id": "f81a5d0d18324fc3a21538bc705095b4",
       "version_major": 2,
       "version_minor": 0
      },
      "text/plain": [
       "max_depth:   0%|          | 0/10 [00:00<?, ?it/s]"
      ]
     },
     "metadata": {},
     "output_type": "display_data"
    },
    {
     "data": {
      "application/vnd.jupyter.widget-view+json": {
       "model_id": "",
       "version_major": 2,
       "version_minor": 0
      },
      "text/plain": [
       "criterion:   0%|          | 0/2 [00:00<?, ?it/s]"
      ]
     },
     "metadata": {},
     "output_type": "display_data"
    },
    {
     "data": {
      "application/vnd.jupyter.widget-view+json": {
       "model_id": "",
       "version_major": 2,
       "version_minor": 0
      },
      "text/plain": [
       "splitter:   0%|          | 0/2 [00:00<?, ?it/s]"
      ]
     },
     "metadata": {},
     "output_type": "display_data"
    },
    {
     "data": {
      "application/vnd.jupyter.widget-view+json": {
       "model_id": "",
       "version_major": 2,
       "version_minor": 0
      },
      "text/plain": [
       "splitter:   0%|          | 0/2 [00:00<?, ?it/s]"
      ]
     },
     "metadata": {},
     "output_type": "display_data"
    },
    {
     "data": {
      "application/vnd.jupyter.widget-view+json": {
       "model_id": "",
       "version_major": 2,
       "version_minor": 0
      },
      "text/plain": [
       "criterion:   0%|          | 0/2 [00:00<?, ?it/s]"
      ]
     },
     "metadata": {},
     "output_type": "display_data"
    },
    {
     "data": {
      "application/vnd.jupyter.widget-view+json": {
       "model_id": "",
       "version_major": 2,
       "version_minor": 0
      },
      "text/plain": [
       "splitter:   0%|          | 0/2 [00:00<?, ?it/s]"
      ]
     },
     "metadata": {},
     "output_type": "display_data"
    },
    {
     "data": {
      "application/vnd.jupyter.widget-view+json": {
       "model_id": "",
       "version_major": 2,
       "version_minor": 0
      },
      "text/plain": [
       "splitter:   0%|          | 0/2 [00:00<?, ?it/s]"
      ]
     },
     "metadata": {},
     "output_type": "display_data"
    },
    {
     "data": {
      "application/vnd.jupyter.widget-view+json": {
       "model_id": "",
       "version_major": 2,
       "version_minor": 0
      },
      "text/plain": [
       "criterion:   0%|          | 0/2 [00:00<?, ?it/s]"
      ]
     },
     "metadata": {},
     "output_type": "display_data"
    },
    {
     "data": {
      "application/vnd.jupyter.widget-view+json": {
       "model_id": "",
       "version_major": 2,
       "version_minor": 0
      },
      "text/plain": [
       "splitter:   0%|          | 0/2 [00:00<?, ?it/s]"
      ]
     },
     "metadata": {},
     "output_type": "display_data"
    },
    {
     "data": {
      "application/vnd.jupyter.widget-view+json": {
       "model_id": "",
       "version_major": 2,
       "version_minor": 0
      },
      "text/plain": [
       "splitter:   0%|          | 0/2 [00:00<?, ?it/s]"
      ]
     },
     "metadata": {},
     "output_type": "display_data"
    },
    {
     "data": {
      "application/vnd.jupyter.widget-view+json": {
       "model_id": "",
       "version_major": 2,
       "version_minor": 0
      },
      "text/plain": [
       "criterion:   0%|          | 0/2 [00:00<?, ?it/s]"
      ]
     },
     "metadata": {},
     "output_type": "display_data"
    },
    {
     "data": {
      "application/vnd.jupyter.widget-view+json": {
       "model_id": "",
       "version_major": 2,
       "version_minor": 0
      },
      "text/plain": [
       "splitter:   0%|          | 0/2 [00:00<?, ?it/s]"
      ]
     },
     "metadata": {},
     "output_type": "display_data"
    },
    {
     "data": {
      "application/vnd.jupyter.widget-view+json": {
       "model_id": "",
       "version_major": 2,
       "version_minor": 0
      },
      "text/plain": [
       "splitter:   0%|          | 0/2 [00:00<?, ?it/s]"
      ]
     },
     "metadata": {},
     "output_type": "display_data"
    },
    {
     "data": {
      "application/vnd.jupyter.widget-view+json": {
       "model_id": "",
       "version_major": 2,
       "version_minor": 0
      },
      "text/plain": [
       "criterion:   0%|          | 0/2 [00:00<?, ?it/s]"
      ]
     },
     "metadata": {},
     "output_type": "display_data"
    },
    {
     "data": {
      "application/vnd.jupyter.widget-view+json": {
       "model_id": "",
       "version_major": 2,
       "version_minor": 0
      },
      "text/plain": [
       "splitter:   0%|          | 0/2 [00:00<?, ?it/s]"
      ]
     },
     "metadata": {},
     "output_type": "display_data"
    },
    {
     "data": {
      "application/vnd.jupyter.widget-view+json": {
       "model_id": "",
       "version_major": 2,
       "version_minor": 0
      },
      "text/plain": [
       "splitter:   0%|          | 0/2 [00:00<?, ?it/s]"
      ]
     },
     "metadata": {},
     "output_type": "display_data"
    },
    {
     "data": {
      "application/vnd.jupyter.widget-view+json": {
       "model_id": "",
       "version_major": 2,
       "version_minor": 0
      },
      "text/plain": [
       "criterion:   0%|          | 0/2 [00:00<?, ?it/s]"
      ]
     },
     "metadata": {},
     "output_type": "display_data"
    },
    {
     "data": {
      "application/vnd.jupyter.widget-view+json": {
       "model_id": "",
       "version_major": 2,
       "version_minor": 0
      },
      "text/plain": [
       "splitter:   0%|          | 0/2 [00:00<?, ?it/s]"
      ]
     },
     "metadata": {},
     "output_type": "display_data"
    },
    {
     "data": {
      "application/vnd.jupyter.widget-view+json": {
       "model_id": "",
       "version_major": 2,
       "version_minor": 0
      },
      "text/plain": [
       "splitter:   0%|          | 0/2 [00:00<?, ?it/s]"
      ]
     },
     "metadata": {},
     "output_type": "display_data"
    },
    {
     "data": {
      "application/vnd.jupyter.widget-view+json": {
       "model_id": "",
       "version_major": 2,
       "version_minor": 0
      },
      "text/plain": [
       "criterion:   0%|          | 0/2 [00:00<?, ?it/s]"
      ]
     },
     "metadata": {},
     "output_type": "display_data"
    },
    {
     "data": {
      "application/vnd.jupyter.widget-view+json": {
       "model_id": "",
       "version_major": 2,
       "version_minor": 0
      },
      "text/plain": [
       "splitter:   0%|          | 0/2 [00:00<?, ?it/s]"
      ]
     },
     "metadata": {},
     "output_type": "display_data"
    },
    {
     "data": {
      "application/vnd.jupyter.widget-view+json": {
       "model_id": "",
       "version_major": 2,
       "version_minor": 0
      },
      "text/plain": [
       "splitter:   0%|          | 0/2 [00:00<?, ?it/s]"
      ]
     },
     "metadata": {},
     "output_type": "display_data"
    },
    {
     "data": {
      "application/vnd.jupyter.widget-view+json": {
       "model_id": "",
       "version_major": 2,
       "version_minor": 0
      },
      "text/plain": [
       "criterion:   0%|          | 0/2 [00:00<?, ?it/s]"
      ]
     },
     "metadata": {},
     "output_type": "display_data"
    },
    {
     "data": {
      "application/vnd.jupyter.widget-view+json": {
       "model_id": "",
       "version_major": 2,
       "version_minor": 0
      },
      "text/plain": [
       "splitter:   0%|          | 0/2 [00:00<?, ?it/s]"
      ]
     },
     "metadata": {},
     "output_type": "display_data"
    },
    {
     "data": {
      "application/vnd.jupyter.widget-view+json": {
       "model_id": "",
       "version_major": 2,
       "version_minor": 0
      },
      "text/plain": [
       "splitter:   0%|          | 0/2 [00:00<?, ?it/s]"
      ]
     },
     "metadata": {},
     "output_type": "display_data"
    },
    {
     "data": {
      "application/vnd.jupyter.widget-view+json": {
       "model_id": "",
       "version_major": 2,
       "version_minor": 0
      },
      "text/plain": [
       "criterion:   0%|          | 0/2 [00:00<?, ?it/s]"
      ]
     },
     "metadata": {},
     "output_type": "display_data"
    },
    {
     "data": {
      "application/vnd.jupyter.widget-view+json": {
       "model_id": "",
       "version_major": 2,
       "version_minor": 0
      },
      "text/plain": [
       "splitter:   0%|          | 0/2 [00:00<?, ?it/s]"
      ]
     },
     "metadata": {},
     "output_type": "display_data"
    },
    {
     "data": {
      "application/vnd.jupyter.widget-view+json": {
       "model_id": "",
       "version_major": 2,
       "version_minor": 0
      },
      "text/plain": [
       "splitter:   0%|          | 0/2 [00:00<?, ?it/s]"
      ]
     },
     "metadata": {},
     "output_type": "display_data"
    },
    {
     "data": {
      "application/vnd.jupyter.widget-view+json": {
       "model_id": "",
       "version_major": 2,
       "version_minor": 0
      },
      "text/plain": [
       "criterion:   0%|          | 0/2 [00:00<?, ?it/s]"
      ]
     },
     "metadata": {},
     "output_type": "display_data"
    },
    {
     "data": {
      "application/vnd.jupyter.widget-view+json": {
       "model_id": "",
       "version_major": 2,
       "version_minor": 0
      },
      "text/plain": [
       "splitter:   0%|          | 0/2 [00:00<?, ?it/s]"
      ]
     },
     "metadata": {},
     "output_type": "display_data"
    },
    {
     "data": {
      "application/vnd.jupyter.widget-view+json": {
       "model_id": "",
       "version_major": 2,
       "version_minor": 0
      },
      "text/plain": [
       "splitter:   0%|          | 0/2 [00:00<?, ?it/s]"
      ]
     },
     "metadata": {},
     "output_type": "display_data"
    },
    {
     "name": "stdout",
     "output_type": "stream",
     "text": [
      "Лучшая модель: DecisionTreeClassifier(criterion='entropy', max_depth=6, random_state=0,\n",
      "                       splitter='random')\n",
      "CPU times: user 1.33 s, sys: 51.3 ms, total: 1.38 s\n",
      "Wall time: 2.01 s\n"
     ]
    }
   ],
   "source": [
    "%%time\n",
    "\n",
    "best_model = None\n",
    "best_result = 0\n",
    "\n",
    "p_max_depth = np.arange(1, 11, 1)\n",
    "p_criterion = ['gini', 'entropy']\n",
    "p_splitter = ['best', 'random']\n",
    "\n",
    "# обучим модель в цикле с различными гиперпараметрами и выберем лучшую:\n",
    "for max_depth in tqdm(p_max_depth, position=0, desc='max_depth', leave=True):\n",
    "    for criterion in tqdm(p_criterion, position=1, desc='criterion', leave=False):\n",
    "        for splitter in tqdm(p_splitter, position=2, desc='splitter', leave=False):\n",
    "            model = DecisionTreeClassifier(random_state=0, \n",
    "                                           criterion=criterion, \n",
    "                                           splitter=splitter, \n",
    "                                           max_depth=max_depth)\n",
    "            model.fit(X_train_upsampled, y_train_upsampled)\n",
    "            y_pred = model.predict(X_valid)\n",
    "            result = f1_score(y_valid, y_pred)\n",
    "            if result > best_result:\n",
    "                decision_tree_classifier_upsampled = model\n",
    "                best_result = result\n",
    "                \n",
    "print('Лучшая модель:', decision_tree_classifier_upsampled)"
   ]
  },
  {
   "cell_type": "markdown",
   "metadata": {},
   "source": [
    "#### Алгоритм `RandomForestClassifier`"
   ]
  },
  {
   "cell_type": "code",
   "execution_count": 30,
   "metadata": {
    "scrolled": true
   },
   "outputs": [
    {
     "data": {
      "application/vnd.jupyter.widget-view+json": {
       "model_id": "76340781bc5b445eae47473c75616ad5",
       "version_major": 2,
       "version_minor": 0
      },
      "text/plain": [
       "max_depth:   0%|          | 0/10 [00:00<?, ?it/s]"
      ]
     },
     "metadata": {},
     "output_type": "display_data"
    },
    {
     "data": {
      "application/vnd.jupyter.widget-view+json": {
       "model_id": "",
       "version_major": 2,
       "version_minor": 0
      },
      "text/plain": [
       "n_estimators:   0%|          | 0/10 [00:00<?, ?it/s]"
      ]
     },
     "metadata": {},
     "output_type": "display_data"
    },
    {
     "data": {
      "application/vnd.jupyter.widget-view+json": {
       "model_id": "",
       "version_major": 2,
       "version_minor": 0
      },
      "text/plain": [
       "criterion:   0%|          | 0/2 [00:00<?, ?it/s]"
      ]
     },
     "metadata": {},
     "output_type": "display_data"
    },
    {
     "data": {
      "application/vnd.jupyter.widget-view+json": {
       "model_id": "",
       "version_major": 2,
       "version_minor": 0
      },
      "text/plain": [
       "criterion:   0%|          | 0/2 [00:00<?, ?it/s]"
      ]
     },
     "metadata": {},
     "output_type": "display_data"
    },
    {
     "data": {
      "application/vnd.jupyter.widget-view+json": {
       "model_id": "",
       "version_major": 2,
       "version_minor": 0
      },
      "text/plain": [
       "criterion:   0%|          | 0/2 [00:00<?, ?it/s]"
      ]
     },
     "metadata": {},
     "output_type": "display_data"
    },
    {
     "data": {
      "application/vnd.jupyter.widget-view+json": {
       "model_id": "",
       "version_major": 2,
       "version_minor": 0
      },
      "text/plain": [
       "criterion:   0%|          | 0/2 [00:00<?, ?it/s]"
      ]
     },
     "metadata": {},
     "output_type": "display_data"
    },
    {
     "data": {
      "application/vnd.jupyter.widget-view+json": {
       "model_id": "",
       "version_major": 2,
       "version_minor": 0
      },
      "text/plain": [
       "criterion:   0%|          | 0/2 [00:00<?, ?it/s]"
      ]
     },
     "metadata": {},
     "output_type": "display_data"
    },
    {
     "data": {
      "application/vnd.jupyter.widget-view+json": {
       "model_id": "",
       "version_major": 2,
       "version_minor": 0
      },
      "text/plain": [
       "criterion:   0%|          | 0/2 [00:00<?, ?it/s]"
      ]
     },
     "metadata": {},
     "output_type": "display_data"
    },
    {
     "data": {
      "application/vnd.jupyter.widget-view+json": {
       "model_id": "",
       "version_major": 2,
       "version_minor": 0
      },
      "text/plain": [
       "criterion:   0%|          | 0/2 [00:00<?, ?it/s]"
      ]
     },
     "metadata": {},
     "output_type": "display_data"
    },
    {
     "data": {
      "application/vnd.jupyter.widget-view+json": {
       "model_id": "",
       "version_major": 2,
       "version_minor": 0
      },
      "text/plain": [
       "criterion:   0%|          | 0/2 [00:00<?, ?it/s]"
      ]
     },
     "metadata": {},
     "output_type": "display_data"
    },
    {
     "data": {
      "application/vnd.jupyter.widget-view+json": {
       "model_id": "",
       "version_major": 2,
       "version_minor": 0
      },
      "text/plain": [
       "criterion:   0%|          | 0/2 [00:00<?, ?it/s]"
      ]
     },
     "metadata": {},
     "output_type": "display_data"
    },
    {
     "data": {
      "application/vnd.jupyter.widget-view+json": {
       "model_id": "",
       "version_major": 2,
       "version_minor": 0
      },
      "text/plain": [
       "criterion:   0%|          | 0/2 [00:00<?, ?it/s]"
      ]
     },
     "metadata": {},
     "output_type": "display_data"
    },
    {
     "data": {
      "application/vnd.jupyter.widget-view+json": {
       "model_id": "",
       "version_major": 2,
       "version_minor": 0
      },
      "text/plain": [
       "n_estimators:   0%|          | 0/10 [00:00<?, ?it/s]"
      ]
     },
     "metadata": {},
     "output_type": "display_data"
    },
    {
     "data": {
      "application/vnd.jupyter.widget-view+json": {
       "model_id": "",
       "version_major": 2,
       "version_minor": 0
      },
      "text/plain": [
       "criterion:   0%|          | 0/2 [00:00<?, ?it/s]"
      ]
     },
     "metadata": {},
     "output_type": "display_data"
    },
    {
     "data": {
      "application/vnd.jupyter.widget-view+json": {
       "model_id": "",
       "version_major": 2,
       "version_minor": 0
      },
      "text/plain": [
       "criterion:   0%|          | 0/2 [00:00<?, ?it/s]"
      ]
     },
     "metadata": {},
     "output_type": "display_data"
    },
    {
     "data": {
      "application/vnd.jupyter.widget-view+json": {
       "model_id": "",
       "version_major": 2,
       "version_minor": 0
      },
      "text/plain": [
       "criterion:   0%|          | 0/2 [00:00<?, ?it/s]"
      ]
     },
     "metadata": {},
     "output_type": "display_data"
    },
    {
     "data": {
      "application/vnd.jupyter.widget-view+json": {
       "model_id": "",
       "version_major": 2,
       "version_minor": 0
      },
      "text/plain": [
       "criterion:   0%|          | 0/2 [00:00<?, ?it/s]"
      ]
     },
     "metadata": {},
     "output_type": "display_data"
    },
    {
     "data": {
      "application/vnd.jupyter.widget-view+json": {
       "model_id": "",
       "version_major": 2,
       "version_minor": 0
      },
      "text/plain": [
       "criterion:   0%|          | 0/2 [00:00<?, ?it/s]"
      ]
     },
     "metadata": {},
     "output_type": "display_data"
    },
    {
     "data": {
      "application/vnd.jupyter.widget-view+json": {
       "model_id": "",
       "version_major": 2,
       "version_minor": 0
      },
      "text/plain": [
       "criterion:   0%|          | 0/2 [00:00<?, ?it/s]"
      ]
     },
     "metadata": {},
     "output_type": "display_data"
    },
    {
     "data": {
      "application/vnd.jupyter.widget-view+json": {
       "model_id": "",
       "version_major": 2,
       "version_minor": 0
      },
      "text/plain": [
       "criterion:   0%|          | 0/2 [00:00<?, ?it/s]"
      ]
     },
     "metadata": {},
     "output_type": "display_data"
    },
    {
     "data": {
      "application/vnd.jupyter.widget-view+json": {
       "model_id": "",
       "version_major": 2,
       "version_minor": 0
      },
      "text/plain": [
       "criterion:   0%|          | 0/2 [00:00<?, ?it/s]"
      ]
     },
     "metadata": {},
     "output_type": "display_data"
    },
    {
     "data": {
      "application/vnd.jupyter.widget-view+json": {
       "model_id": "",
       "version_major": 2,
       "version_minor": 0
      },
      "text/plain": [
       "criterion:   0%|          | 0/2 [00:00<?, ?it/s]"
      ]
     },
     "metadata": {},
     "output_type": "display_data"
    },
    {
     "data": {
      "application/vnd.jupyter.widget-view+json": {
       "model_id": "",
       "version_major": 2,
       "version_minor": 0
      },
      "text/plain": [
       "criterion:   0%|          | 0/2 [00:00<?, ?it/s]"
      ]
     },
     "metadata": {},
     "output_type": "display_data"
    },
    {
     "data": {
      "application/vnd.jupyter.widget-view+json": {
       "model_id": "",
       "version_major": 2,
       "version_minor": 0
      },
      "text/plain": [
       "n_estimators:   0%|          | 0/10 [00:00<?, ?it/s]"
      ]
     },
     "metadata": {},
     "output_type": "display_data"
    },
    {
     "data": {
      "application/vnd.jupyter.widget-view+json": {
       "model_id": "",
       "version_major": 2,
       "version_minor": 0
      },
      "text/plain": [
       "criterion:   0%|          | 0/2 [00:00<?, ?it/s]"
      ]
     },
     "metadata": {},
     "output_type": "display_data"
    },
    {
     "data": {
      "application/vnd.jupyter.widget-view+json": {
       "model_id": "",
       "version_major": 2,
       "version_minor": 0
      },
      "text/plain": [
       "criterion:   0%|          | 0/2 [00:00<?, ?it/s]"
      ]
     },
     "metadata": {},
     "output_type": "display_data"
    },
    {
     "data": {
      "application/vnd.jupyter.widget-view+json": {
       "model_id": "",
       "version_major": 2,
       "version_minor": 0
      },
      "text/plain": [
       "criterion:   0%|          | 0/2 [00:00<?, ?it/s]"
      ]
     },
     "metadata": {},
     "output_type": "display_data"
    },
    {
     "data": {
      "application/vnd.jupyter.widget-view+json": {
       "model_id": "",
       "version_major": 2,
       "version_minor": 0
      },
      "text/plain": [
       "criterion:   0%|          | 0/2 [00:00<?, ?it/s]"
      ]
     },
     "metadata": {},
     "output_type": "display_data"
    },
    {
     "data": {
      "application/vnd.jupyter.widget-view+json": {
       "model_id": "",
       "version_major": 2,
       "version_minor": 0
      },
      "text/plain": [
       "criterion:   0%|          | 0/2 [00:00<?, ?it/s]"
      ]
     },
     "metadata": {},
     "output_type": "display_data"
    },
    {
     "data": {
      "application/vnd.jupyter.widget-view+json": {
       "model_id": "",
       "version_major": 2,
       "version_minor": 0
      },
      "text/plain": [
       "criterion:   0%|          | 0/2 [00:00<?, ?it/s]"
      ]
     },
     "metadata": {},
     "output_type": "display_data"
    },
    {
     "data": {
      "application/vnd.jupyter.widget-view+json": {
       "model_id": "",
       "version_major": 2,
       "version_minor": 0
      },
      "text/plain": [
       "criterion:   0%|          | 0/2 [00:00<?, ?it/s]"
      ]
     },
     "metadata": {},
     "output_type": "display_data"
    },
    {
     "data": {
      "application/vnd.jupyter.widget-view+json": {
       "model_id": "",
       "version_major": 2,
       "version_minor": 0
      },
      "text/plain": [
       "criterion:   0%|          | 0/2 [00:00<?, ?it/s]"
      ]
     },
     "metadata": {},
     "output_type": "display_data"
    },
    {
     "data": {
      "application/vnd.jupyter.widget-view+json": {
       "model_id": "",
       "version_major": 2,
       "version_minor": 0
      },
      "text/plain": [
       "criterion:   0%|          | 0/2 [00:00<?, ?it/s]"
      ]
     },
     "metadata": {},
     "output_type": "display_data"
    },
    {
     "data": {
      "application/vnd.jupyter.widget-view+json": {
       "model_id": "",
       "version_major": 2,
       "version_minor": 0
      },
      "text/plain": [
       "criterion:   0%|          | 0/2 [00:00<?, ?it/s]"
      ]
     },
     "metadata": {},
     "output_type": "display_data"
    },
    {
     "data": {
      "application/vnd.jupyter.widget-view+json": {
       "model_id": "",
       "version_major": 2,
       "version_minor": 0
      },
      "text/plain": [
       "n_estimators:   0%|          | 0/10 [00:00<?, ?it/s]"
      ]
     },
     "metadata": {},
     "output_type": "display_data"
    },
    {
     "data": {
      "application/vnd.jupyter.widget-view+json": {
       "model_id": "",
       "version_major": 2,
       "version_minor": 0
      },
      "text/plain": [
       "criterion:   0%|          | 0/2 [00:00<?, ?it/s]"
      ]
     },
     "metadata": {},
     "output_type": "display_data"
    },
    {
     "data": {
      "application/vnd.jupyter.widget-view+json": {
       "model_id": "",
       "version_major": 2,
       "version_minor": 0
      },
      "text/plain": [
       "criterion:   0%|          | 0/2 [00:00<?, ?it/s]"
      ]
     },
     "metadata": {},
     "output_type": "display_data"
    },
    {
     "data": {
      "application/vnd.jupyter.widget-view+json": {
       "model_id": "",
       "version_major": 2,
       "version_minor": 0
      },
      "text/plain": [
       "criterion:   0%|          | 0/2 [00:00<?, ?it/s]"
      ]
     },
     "metadata": {},
     "output_type": "display_data"
    },
    {
     "data": {
      "application/vnd.jupyter.widget-view+json": {
       "model_id": "",
       "version_major": 2,
       "version_minor": 0
      },
      "text/plain": [
       "criterion:   0%|          | 0/2 [00:00<?, ?it/s]"
      ]
     },
     "metadata": {},
     "output_type": "display_data"
    },
    {
     "data": {
      "application/vnd.jupyter.widget-view+json": {
       "model_id": "",
       "version_major": 2,
       "version_minor": 0
      },
      "text/plain": [
       "criterion:   0%|          | 0/2 [00:00<?, ?it/s]"
      ]
     },
     "metadata": {},
     "output_type": "display_data"
    },
    {
     "data": {
      "application/vnd.jupyter.widget-view+json": {
       "model_id": "",
       "version_major": 2,
       "version_minor": 0
      },
      "text/plain": [
       "criterion:   0%|          | 0/2 [00:00<?, ?it/s]"
      ]
     },
     "metadata": {},
     "output_type": "display_data"
    },
    {
     "data": {
      "application/vnd.jupyter.widget-view+json": {
       "model_id": "",
       "version_major": 2,
       "version_minor": 0
      },
      "text/plain": [
       "criterion:   0%|          | 0/2 [00:00<?, ?it/s]"
      ]
     },
     "metadata": {},
     "output_type": "display_data"
    },
    {
     "data": {
      "application/vnd.jupyter.widget-view+json": {
       "model_id": "",
       "version_major": 2,
       "version_minor": 0
      },
      "text/plain": [
       "criterion:   0%|          | 0/2 [00:00<?, ?it/s]"
      ]
     },
     "metadata": {},
     "output_type": "display_data"
    },
    {
     "data": {
      "application/vnd.jupyter.widget-view+json": {
       "model_id": "",
       "version_major": 2,
       "version_minor": 0
      },
      "text/plain": [
       "criterion:   0%|          | 0/2 [00:00<?, ?it/s]"
      ]
     },
     "metadata": {},
     "output_type": "display_data"
    },
    {
     "data": {
      "application/vnd.jupyter.widget-view+json": {
       "model_id": "",
       "version_major": 2,
       "version_minor": 0
      },
      "text/plain": [
       "criterion:   0%|          | 0/2 [00:00<?, ?it/s]"
      ]
     },
     "metadata": {},
     "output_type": "display_data"
    },
    {
     "data": {
      "application/vnd.jupyter.widget-view+json": {
       "model_id": "",
       "version_major": 2,
       "version_minor": 0
      },
      "text/plain": [
       "n_estimators:   0%|          | 0/10 [00:00<?, ?it/s]"
      ]
     },
     "metadata": {},
     "output_type": "display_data"
    },
    {
     "data": {
      "application/vnd.jupyter.widget-view+json": {
       "model_id": "",
       "version_major": 2,
       "version_minor": 0
      },
      "text/plain": [
       "criterion:   0%|          | 0/2 [00:00<?, ?it/s]"
      ]
     },
     "metadata": {},
     "output_type": "display_data"
    },
    {
     "data": {
      "application/vnd.jupyter.widget-view+json": {
       "model_id": "",
       "version_major": 2,
       "version_minor": 0
      },
      "text/plain": [
       "criterion:   0%|          | 0/2 [00:00<?, ?it/s]"
      ]
     },
     "metadata": {},
     "output_type": "display_data"
    },
    {
     "data": {
      "application/vnd.jupyter.widget-view+json": {
       "model_id": "",
       "version_major": 2,
       "version_minor": 0
      },
      "text/plain": [
       "criterion:   0%|          | 0/2 [00:00<?, ?it/s]"
      ]
     },
     "metadata": {},
     "output_type": "display_data"
    },
    {
     "data": {
      "application/vnd.jupyter.widget-view+json": {
       "model_id": "",
       "version_major": 2,
       "version_minor": 0
      },
      "text/plain": [
       "criterion:   0%|          | 0/2 [00:00<?, ?it/s]"
      ]
     },
     "metadata": {},
     "output_type": "display_data"
    },
    {
     "data": {
      "application/vnd.jupyter.widget-view+json": {
       "model_id": "",
       "version_major": 2,
       "version_minor": 0
      },
      "text/plain": [
       "criterion:   0%|          | 0/2 [00:00<?, ?it/s]"
      ]
     },
     "metadata": {},
     "output_type": "display_data"
    },
    {
     "data": {
      "application/vnd.jupyter.widget-view+json": {
       "model_id": "",
       "version_major": 2,
       "version_minor": 0
      },
      "text/plain": [
       "criterion:   0%|          | 0/2 [00:00<?, ?it/s]"
      ]
     },
     "metadata": {},
     "output_type": "display_data"
    },
    {
     "data": {
      "application/vnd.jupyter.widget-view+json": {
       "model_id": "",
       "version_major": 2,
       "version_minor": 0
      },
      "text/plain": [
       "criterion:   0%|          | 0/2 [00:00<?, ?it/s]"
      ]
     },
     "metadata": {},
     "output_type": "display_data"
    },
    {
     "data": {
      "application/vnd.jupyter.widget-view+json": {
       "model_id": "",
       "version_major": 2,
       "version_minor": 0
      },
      "text/plain": [
       "criterion:   0%|          | 0/2 [00:00<?, ?it/s]"
      ]
     },
     "metadata": {},
     "output_type": "display_data"
    },
    {
     "data": {
      "application/vnd.jupyter.widget-view+json": {
       "model_id": "",
       "version_major": 2,
       "version_minor": 0
      },
      "text/plain": [
       "criterion:   0%|          | 0/2 [00:00<?, ?it/s]"
      ]
     },
     "metadata": {},
     "output_type": "display_data"
    },
    {
     "data": {
      "application/vnd.jupyter.widget-view+json": {
       "model_id": "",
       "version_major": 2,
       "version_minor": 0
      },
      "text/plain": [
       "criterion:   0%|          | 0/2 [00:00<?, ?it/s]"
      ]
     },
     "metadata": {},
     "output_type": "display_data"
    },
    {
     "data": {
      "application/vnd.jupyter.widget-view+json": {
       "model_id": "",
       "version_major": 2,
       "version_minor": 0
      },
      "text/plain": [
       "n_estimators:   0%|          | 0/10 [00:00<?, ?it/s]"
      ]
     },
     "metadata": {},
     "output_type": "display_data"
    },
    {
     "data": {
      "application/vnd.jupyter.widget-view+json": {
       "model_id": "",
       "version_major": 2,
       "version_minor": 0
      },
      "text/plain": [
       "criterion:   0%|          | 0/2 [00:00<?, ?it/s]"
      ]
     },
     "metadata": {},
     "output_type": "display_data"
    },
    {
     "data": {
      "application/vnd.jupyter.widget-view+json": {
       "model_id": "",
       "version_major": 2,
       "version_minor": 0
      },
      "text/plain": [
       "criterion:   0%|          | 0/2 [00:00<?, ?it/s]"
      ]
     },
     "metadata": {},
     "output_type": "display_data"
    },
    {
     "data": {
      "application/vnd.jupyter.widget-view+json": {
       "model_id": "",
       "version_major": 2,
       "version_minor": 0
      },
      "text/plain": [
       "criterion:   0%|          | 0/2 [00:00<?, ?it/s]"
      ]
     },
     "metadata": {},
     "output_type": "display_data"
    },
    {
     "data": {
      "application/vnd.jupyter.widget-view+json": {
       "model_id": "",
       "version_major": 2,
       "version_minor": 0
      },
      "text/plain": [
       "criterion:   0%|          | 0/2 [00:00<?, ?it/s]"
      ]
     },
     "metadata": {},
     "output_type": "display_data"
    },
    {
     "data": {
      "application/vnd.jupyter.widget-view+json": {
       "model_id": "",
       "version_major": 2,
       "version_minor": 0
      },
      "text/plain": [
       "criterion:   0%|          | 0/2 [00:00<?, ?it/s]"
      ]
     },
     "metadata": {},
     "output_type": "display_data"
    },
    {
     "data": {
      "application/vnd.jupyter.widget-view+json": {
       "model_id": "",
       "version_major": 2,
       "version_minor": 0
      },
      "text/plain": [
       "criterion:   0%|          | 0/2 [00:00<?, ?it/s]"
      ]
     },
     "metadata": {},
     "output_type": "display_data"
    },
    {
     "data": {
      "application/vnd.jupyter.widget-view+json": {
       "model_id": "",
       "version_major": 2,
       "version_minor": 0
      },
      "text/plain": [
       "criterion:   0%|          | 0/2 [00:00<?, ?it/s]"
      ]
     },
     "metadata": {},
     "output_type": "display_data"
    },
    {
     "data": {
      "application/vnd.jupyter.widget-view+json": {
       "model_id": "",
       "version_major": 2,
       "version_minor": 0
      },
      "text/plain": [
       "criterion:   0%|          | 0/2 [00:00<?, ?it/s]"
      ]
     },
     "metadata": {},
     "output_type": "display_data"
    },
    {
     "data": {
      "application/vnd.jupyter.widget-view+json": {
       "model_id": "",
       "version_major": 2,
       "version_minor": 0
      },
      "text/plain": [
       "criterion:   0%|          | 0/2 [00:00<?, ?it/s]"
      ]
     },
     "metadata": {},
     "output_type": "display_data"
    },
    {
     "data": {
      "application/vnd.jupyter.widget-view+json": {
       "model_id": "",
       "version_major": 2,
       "version_minor": 0
      },
      "text/plain": [
       "criterion:   0%|          | 0/2 [00:00<?, ?it/s]"
      ]
     },
     "metadata": {},
     "output_type": "display_data"
    },
    {
     "data": {
      "application/vnd.jupyter.widget-view+json": {
       "model_id": "",
       "version_major": 2,
       "version_minor": 0
      },
      "text/plain": [
       "n_estimators:   0%|          | 0/10 [00:00<?, ?it/s]"
      ]
     },
     "metadata": {},
     "output_type": "display_data"
    },
    {
     "data": {
      "application/vnd.jupyter.widget-view+json": {
       "model_id": "",
       "version_major": 2,
       "version_minor": 0
      },
      "text/plain": [
       "criterion:   0%|          | 0/2 [00:00<?, ?it/s]"
      ]
     },
     "metadata": {},
     "output_type": "display_data"
    },
    {
     "data": {
      "application/vnd.jupyter.widget-view+json": {
       "model_id": "",
       "version_major": 2,
       "version_minor": 0
      },
      "text/plain": [
       "criterion:   0%|          | 0/2 [00:00<?, ?it/s]"
      ]
     },
     "metadata": {},
     "output_type": "display_data"
    },
    {
     "data": {
      "application/vnd.jupyter.widget-view+json": {
       "model_id": "",
       "version_major": 2,
       "version_minor": 0
      },
      "text/plain": [
       "criterion:   0%|          | 0/2 [00:00<?, ?it/s]"
      ]
     },
     "metadata": {},
     "output_type": "display_data"
    },
    {
     "data": {
      "application/vnd.jupyter.widget-view+json": {
       "model_id": "",
       "version_major": 2,
       "version_minor": 0
      },
      "text/plain": [
       "criterion:   0%|          | 0/2 [00:00<?, ?it/s]"
      ]
     },
     "metadata": {},
     "output_type": "display_data"
    },
    {
     "data": {
      "application/vnd.jupyter.widget-view+json": {
       "model_id": "",
       "version_major": 2,
       "version_minor": 0
      },
      "text/plain": [
       "criterion:   0%|          | 0/2 [00:00<?, ?it/s]"
      ]
     },
     "metadata": {},
     "output_type": "display_data"
    },
    {
     "data": {
      "application/vnd.jupyter.widget-view+json": {
       "model_id": "",
       "version_major": 2,
       "version_minor": 0
      },
      "text/plain": [
       "criterion:   0%|          | 0/2 [00:00<?, ?it/s]"
      ]
     },
     "metadata": {},
     "output_type": "display_data"
    },
    {
     "data": {
      "application/vnd.jupyter.widget-view+json": {
       "model_id": "",
       "version_major": 2,
       "version_minor": 0
      },
      "text/plain": [
       "criterion:   0%|          | 0/2 [00:00<?, ?it/s]"
      ]
     },
     "metadata": {},
     "output_type": "display_data"
    },
    {
     "data": {
      "application/vnd.jupyter.widget-view+json": {
       "model_id": "",
       "version_major": 2,
       "version_minor": 0
      },
      "text/plain": [
       "criterion:   0%|          | 0/2 [00:00<?, ?it/s]"
      ]
     },
     "metadata": {},
     "output_type": "display_data"
    },
    {
     "data": {
      "application/vnd.jupyter.widget-view+json": {
       "model_id": "",
       "version_major": 2,
       "version_minor": 0
      },
      "text/plain": [
       "criterion:   0%|          | 0/2 [00:00<?, ?it/s]"
      ]
     },
     "metadata": {},
     "output_type": "display_data"
    },
    {
     "data": {
      "application/vnd.jupyter.widget-view+json": {
       "model_id": "",
       "version_major": 2,
       "version_minor": 0
      },
      "text/plain": [
       "criterion:   0%|          | 0/2 [00:00<?, ?it/s]"
      ]
     },
     "metadata": {},
     "output_type": "display_data"
    },
    {
     "data": {
      "application/vnd.jupyter.widget-view+json": {
       "model_id": "",
       "version_major": 2,
       "version_minor": 0
      },
      "text/plain": [
       "n_estimators:   0%|          | 0/10 [00:00<?, ?it/s]"
      ]
     },
     "metadata": {},
     "output_type": "display_data"
    },
    {
     "data": {
      "application/vnd.jupyter.widget-view+json": {
       "model_id": "",
       "version_major": 2,
       "version_minor": 0
      },
      "text/plain": [
       "criterion:   0%|          | 0/2 [00:00<?, ?it/s]"
      ]
     },
     "metadata": {},
     "output_type": "display_data"
    },
    {
     "data": {
      "application/vnd.jupyter.widget-view+json": {
       "model_id": "",
       "version_major": 2,
       "version_minor": 0
      },
      "text/plain": [
       "criterion:   0%|          | 0/2 [00:00<?, ?it/s]"
      ]
     },
     "metadata": {},
     "output_type": "display_data"
    },
    {
     "data": {
      "application/vnd.jupyter.widget-view+json": {
       "model_id": "",
       "version_major": 2,
       "version_minor": 0
      },
      "text/plain": [
       "criterion:   0%|          | 0/2 [00:00<?, ?it/s]"
      ]
     },
     "metadata": {},
     "output_type": "display_data"
    },
    {
     "data": {
      "application/vnd.jupyter.widget-view+json": {
       "model_id": "",
       "version_major": 2,
       "version_minor": 0
      },
      "text/plain": [
       "criterion:   0%|          | 0/2 [00:00<?, ?it/s]"
      ]
     },
     "metadata": {},
     "output_type": "display_data"
    },
    {
     "data": {
      "application/vnd.jupyter.widget-view+json": {
       "model_id": "",
       "version_major": 2,
       "version_minor": 0
      },
      "text/plain": [
       "criterion:   0%|          | 0/2 [00:00<?, ?it/s]"
      ]
     },
     "metadata": {},
     "output_type": "display_data"
    },
    {
     "data": {
      "application/vnd.jupyter.widget-view+json": {
       "model_id": "",
       "version_major": 2,
       "version_minor": 0
      },
      "text/plain": [
       "criterion:   0%|          | 0/2 [00:00<?, ?it/s]"
      ]
     },
     "metadata": {},
     "output_type": "display_data"
    },
    {
     "data": {
      "application/vnd.jupyter.widget-view+json": {
       "model_id": "",
       "version_major": 2,
       "version_minor": 0
      },
      "text/plain": [
       "criterion:   0%|          | 0/2 [00:00<?, ?it/s]"
      ]
     },
     "metadata": {},
     "output_type": "display_data"
    },
    {
     "data": {
      "application/vnd.jupyter.widget-view+json": {
       "model_id": "",
       "version_major": 2,
       "version_minor": 0
      },
      "text/plain": [
       "criterion:   0%|          | 0/2 [00:00<?, ?it/s]"
      ]
     },
     "metadata": {},
     "output_type": "display_data"
    },
    {
     "data": {
      "application/vnd.jupyter.widget-view+json": {
       "model_id": "",
       "version_major": 2,
       "version_minor": 0
      },
      "text/plain": [
       "criterion:   0%|          | 0/2 [00:00<?, ?it/s]"
      ]
     },
     "metadata": {},
     "output_type": "display_data"
    },
    {
     "data": {
      "application/vnd.jupyter.widget-view+json": {
       "model_id": "",
       "version_major": 2,
       "version_minor": 0
      },
      "text/plain": [
       "criterion:   0%|          | 0/2 [00:00<?, ?it/s]"
      ]
     },
     "metadata": {},
     "output_type": "display_data"
    },
    {
     "data": {
      "application/vnd.jupyter.widget-view+json": {
       "model_id": "",
       "version_major": 2,
       "version_minor": 0
      },
      "text/plain": [
       "n_estimators:   0%|          | 0/10 [00:00<?, ?it/s]"
      ]
     },
     "metadata": {},
     "output_type": "display_data"
    },
    {
     "data": {
      "application/vnd.jupyter.widget-view+json": {
       "model_id": "",
       "version_major": 2,
       "version_minor": 0
      },
      "text/plain": [
       "criterion:   0%|          | 0/2 [00:00<?, ?it/s]"
      ]
     },
     "metadata": {},
     "output_type": "display_data"
    },
    {
     "data": {
      "application/vnd.jupyter.widget-view+json": {
       "model_id": "",
       "version_major": 2,
       "version_minor": 0
      },
      "text/plain": [
       "criterion:   0%|          | 0/2 [00:00<?, ?it/s]"
      ]
     },
     "metadata": {},
     "output_type": "display_data"
    },
    {
     "data": {
      "application/vnd.jupyter.widget-view+json": {
       "model_id": "",
       "version_major": 2,
       "version_minor": 0
      },
      "text/plain": [
       "criterion:   0%|          | 0/2 [00:00<?, ?it/s]"
      ]
     },
     "metadata": {},
     "output_type": "display_data"
    },
    {
     "data": {
      "application/vnd.jupyter.widget-view+json": {
       "model_id": "",
       "version_major": 2,
       "version_minor": 0
      },
      "text/plain": [
       "criterion:   0%|          | 0/2 [00:00<?, ?it/s]"
      ]
     },
     "metadata": {},
     "output_type": "display_data"
    },
    {
     "data": {
      "application/vnd.jupyter.widget-view+json": {
       "model_id": "",
       "version_major": 2,
       "version_minor": 0
      },
      "text/plain": [
       "criterion:   0%|          | 0/2 [00:00<?, ?it/s]"
      ]
     },
     "metadata": {},
     "output_type": "display_data"
    },
    {
     "data": {
      "application/vnd.jupyter.widget-view+json": {
       "model_id": "",
       "version_major": 2,
       "version_minor": 0
      },
      "text/plain": [
       "criterion:   0%|          | 0/2 [00:00<?, ?it/s]"
      ]
     },
     "metadata": {},
     "output_type": "display_data"
    },
    {
     "data": {
      "application/vnd.jupyter.widget-view+json": {
       "model_id": "",
       "version_major": 2,
       "version_minor": 0
      },
      "text/plain": [
       "criterion:   0%|          | 0/2 [00:00<?, ?it/s]"
      ]
     },
     "metadata": {},
     "output_type": "display_data"
    },
    {
     "data": {
      "application/vnd.jupyter.widget-view+json": {
       "model_id": "",
       "version_major": 2,
       "version_minor": 0
      },
      "text/plain": [
       "criterion:   0%|          | 0/2 [00:00<?, ?it/s]"
      ]
     },
     "metadata": {},
     "output_type": "display_data"
    },
    {
     "data": {
      "application/vnd.jupyter.widget-view+json": {
       "model_id": "",
       "version_major": 2,
       "version_minor": 0
      },
      "text/plain": [
       "criterion:   0%|          | 0/2 [00:00<?, ?it/s]"
      ]
     },
     "metadata": {},
     "output_type": "display_data"
    },
    {
     "data": {
      "application/vnd.jupyter.widget-view+json": {
       "model_id": "",
       "version_major": 2,
       "version_minor": 0
      },
      "text/plain": [
       "criterion:   0%|          | 0/2 [00:00<?, ?it/s]"
      ]
     },
     "metadata": {},
     "output_type": "display_data"
    },
    {
     "data": {
      "application/vnd.jupyter.widget-view+json": {
       "model_id": "",
       "version_major": 2,
       "version_minor": 0
      },
      "text/plain": [
       "n_estimators:   0%|          | 0/10 [00:00<?, ?it/s]"
      ]
     },
     "metadata": {},
     "output_type": "display_data"
    },
    {
     "data": {
      "application/vnd.jupyter.widget-view+json": {
       "model_id": "",
       "version_major": 2,
       "version_minor": 0
      },
      "text/plain": [
       "criterion:   0%|          | 0/2 [00:00<?, ?it/s]"
      ]
     },
     "metadata": {},
     "output_type": "display_data"
    },
    {
     "data": {
      "application/vnd.jupyter.widget-view+json": {
       "model_id": "",
       "version_major": 2,
       "version_minor": 0
      },
      "text/plain": [
       "criterion:   0%|          | 0/2 [00:00<?, ?it/s]"
      ]
     },
     "metadata": {},
     "output_type": "display_data"
    },
    {
     "data": {
      "application/vnd.jupyter.widget-view+json": {
       "model_id": "",
       "version_major": 2,
       "version_minor": 0
      },
      "text/plain": [
       "criterion:   0%|          | 0/2 [00:00<?, ?it/s]"
      ]
     },
     "metadata": {},
     "output_type": "display_data"
    },
    {
     "data": {
      "application/vnd.jupyter.widget-view+json": {
       "model_id": "",
       "version_major": 2,
       "version_minor": 0
      },
      "text/plain": [
       "criterion:   0%|          | 0/2 [00:00<?, ?it/s]"
      ]
     },
     "metadata": {},
     "output_type": "display_data"
    },
    {
     "data": {
      "application/vnd.jupyter.widget-view+json": {
       "model_id": "",
       "version_major": 2,
       "version_minor": 0
      },
      "text/plain": [
       "criterion:   0%|          | 0/2 [00:00<?, ?it/s]"
      ]
     },
     "metadata": {},
     "output_type": "display_data"
    },
    {
     "data": {
      "application/vnd.jupyter.widget-view+json": {
       "model_id": "",
       "version_major": 2,
       "version_minor": 0
      },
      "text/plain": [
       "criterion:   0%|          | 0/2 [00:00<?, ?it/s]"
      ]
     },
     "metadata": {},
     "output_type": "display_data"
    },
    {
     "data": {
      "application/vnd.jupyter.widget-view+json": {
       "model_id": "",
       "version_major": 2,
       "version_minor": 0
      },
      "text/plain": [
       "criterion:   0%|          | 0/2 [00:00<?, ?it/s]"
      ]
     },
     "metadata": {},
     "output_type": "display_data"
    },
    {
     "data": {
      "application/vnd.jupyter.widget-view+json": {
       "model_id": "",
       "version_major": 2,
       "version_minor": 0
      },
      "text/plain": [
       "criterion:   0%|          | 0/2 [00:00<?, ?it/s]"
      ]
     },
     "metadata": {},
     "output_type": "display_data"
    },
    {
     "data": {
      "application/vnd.jupyter.widget-view+json": {
       "model_id": "",
       "version_major": 2,
       "version_minor": 0
      },
      "text/plain": [
       "criterion:   0%|          | 0/2 [00:00<?, ?it/s]"
      ]
     },
     "metadata": {},
     "output_type": "display_data"
    },
    {
     "data": {
      "application/vnd.jupyter.widget-view+json": {
       "model_id": "",
       "version_major": 2,
       "version_minor": 0
      },
      "text/plain": [
       "criterion:   0%|          | 0/2 [00:00<?, ?it/s]"
      ]
     },
     "metadata": {},
     "output_type": "display_data"
    },
    {
     "name": "stdout",
     "output_type": "stream",
     "text": [
      "Лучшая модель: RandomForestClassifier(criterion='entropy', max_depth=8, n_estimators=50,\n",
      "                       random_state=0)\n",
      "CPU times: user 35.6 s, sys: 418 ms, total: 36 s\n",
      "Wall time: 38.9 s\n"
     ]
    }
   ],
   "source": [
    "%%time\n",
    "\n",
    "best_model = None\n",
    "best_result = 0\n",
    "\n",
    "p_max_depth = np.arange(1, 11, 1)\n",
    "p_estimators = np.arange(5, 55, 5)\n",
    "p_criterion = ['gini', 'entropy']\n",
    "\n",
    "# обучим модель в цикле с различными гиперпараметрами и выберем лучшую:\n",
    "for max_depth in tqdm(p_max_depth, position=0, desc='max_depth', leave=True):\n",
    "    for n_estimators in tqdm(p_estimators, position=1, desc='n_estimators', leave=False):\n",
    "        for criterion in tqdm(p_criterion, position=2, desc='criterion', leave=False):\n",
    "            model = RandomForestClassifier(random_state=0, \n",
    "                                           criterion=criterion, \n",
    "                                           n_estimators=n_estimators, \n",
    "                                           max_depth=max_depth)\n",
    "            model.fit(X_train_upsampled, y_train_upsampled)\n",
    "            y_pred = model.predict(X_valid)\n",
    "            result = f1_score(y_valid, y_pred)\n",
    "            if result > best_result:\n",
    "                random_forest_classifier_upsampled = model\n",
    "                best_result = result\n",
    "                \n",
    "print('Лучшая модель:', random_forest_classifier_upsampled)"
   ]
  },
  {
   "cell_type": "markdown",
   "metadata": {},
   "source": [
    "#### Алгоритм `GradientBoostingClassifier` "
   ]
  },
  {
   "cell_type": "code",
   "execution_count": 31,
   "metadata": {},
   "outputs": [
    {
     "data": {
      "application/vnd.jupyter.widget-view+json": {
       "model_id": "200d3b83a91543c883736ce869775014",
       "version_major": 2,
       "version_minor": 0
      },
      "text/plain": [
       "max_depth:   0%|          | 0/10 [00:00<?, ?it/s]"
      ]
     },
     "metadata": {},
     "output_type": "display_data"
    },
    {
     "data": {
      "application/vnd.jupyter.widget-view+json": {
       "model_id": "",
       "version_major": 2,
       "version_minor": 0
      },
      "text/plain": [
       "n_estimators:   0%|          | 0/10 [00:00<?, ?it/s]"
      ]
     },
     "metadata": {},
     "output_type": "display_data"
    },
    {
     "data": {
      "application/vnd.jupyter.widget-view+json": {
       "model_id": "",
       "version_major": 2,
       "version_minor": 0
      },
      "text/plain": [
       "splitter:   0%|          | 0/2 [00:00<?, ?it/s]"
      ]
     },
     "metadata": {},
     "output_type": "display_data"
    },
    {
     "data": {
      "application/vnd.jupyter.widget-view+json": {
       "model_id": "",
       "version_major": 2,
       "version_minor": 0
      },
      "text/plain": [
       "splitter:   0%|          | 0/2 [00:00<?, ?it/s]"
      ]
     },
     "metadata": {},
     "output_type": "display_data"
    },
    {
     "data": {
      "application/vnd.jupyter.widget-view+json": {
       "model_id": "",
       "version_major": 2,
       "version_minor": 0
      },
      "text/plain": [
       "splitter:   0%|          | 0/2 [00:00<?, ?it/s]"
      ]
     },
     "metadata": {},
     "output_type": "display_data"
    },
    {
     "data": {
      "application/vnd.jupyter.widget-view+json": {
       "model_id": "",
       "version_major": 2,
       "version_minor": 0
      },
      "text/plain": [
       "splitter:   0%|          | 0/2 [00:00<?, ?it/s]"
      ]
     },
     "metadata": {},
     "output_type": "display_data"
    },
    {
     "data": {
      "application/vnd.jupyter.widget-view+json": {
       "model_id": "",
       "version_major": 2,
       "version_minor": 0
      },
      "text/plain": [
       "splitter:   0%|          | 0/2 [00:00<?, ?it/s]"
      ]
     },
     "metadata": {},
     "output_type": "display_data"
    },
    {
     "data": {
      "application/vnd.jupyter.widget-view+json": {
       "model_id": "",
       "version_major": 2,
       "version_minor": 0
      },
      "text/plain": [
       "splitter:   0%|          | 0/2 [00:00<?, ?it/s]"
      ]
     },
     "metadata": {},
     "output_type": "display_data"
    },
    {
     "data": {
      "application/vnd.jupyter.widget-view+json": {
       "model_id": "",
       "version_major": 2,
       "version_minor": 0
      },
      "text/plain": [
       "splitter:   0%|          | 0/2 [00:00<?, ?it/s]"
      ]
     },
     "metadata": {},
     "output_type": "display_data"
    },
    {
     "data": {
      "application/vnd.jupyter.widget-view+json": {
       "model_id": "",
       "version_major": 2,
       "version_minor": 0
      },
      "text/plain": [
       "splitter:   0%|          | 0/2 [00:00<?, ?it/s]"
      ]
     },
     "metadata": {},
     "output_type": "display_data"
    },
    {
     "data": {
      "application/vnd.jupyter.widget-view+json": {
       "model_id": "",
       "version_major": 2,
       "version_minor": 0
      },
      "text/plain": [
       "splitter:   0%|          | 0/2 [00:00<?, ?it/s]"
      ]
     },
     "metadata": {},
     "output_type": "display_data"
    },
    {
     "data": {
      "application/vnd.jupyter.widget-view+json": {
       "model_id": "",
       "version_major": 2,
       "version_minor": 0
      },
      "text/plain": [
       "splitter:   0%|          | 0/2 [00:00<?, ?it/s]"
      ]
     },
     "metadata": {},
     "output_type": "display_data"
    },
    {
     "data": {
      "application/vnd.jupyter.widget-view+json": {
       "model_id": "",
       "version_major": 2,
       "version_minor": 0
      },
      "text/plain": [
       "n_estimators:   0%|          | 0/10 [00:00<?, ?it/s]"
      ]
     },
     "metadata": {},
     "output_type": "display_data"
    },
    {
     "data": {
      "application/vnd.jupyter.widget-view+json": {
       "model_id": "",
       "version_major": 2,
       "version_minor": 0
      },
      "text/plain": [
       "splitter:   0%|          | 0/2 [00:00<?, ?it/s]"
      ]
     },
     "metadata": {},
     "output_type": "display_data"
    },
    {
     "data": {
      "application/vnd.jupyter.widget-view+json": {
       "model_id": "",
       "version_major": 2,
       "version_minor": 0
      },
      "text/plain": [
       "splitter:   0%|          | 0/2 [00:00<?, ?it/s]"
      ]
     },
     "metadata": {},
     "output_type": "display_data"
    },
    {
     "data": {
      "application/vnd.jupyter.widget-view+json": {
       "model_id": "",
       "version_major": 2,
       "version_minor": 0
      },
      "text/plain": [
       "splitter:   0%|          | 0/2 [00:00<?, ?it/s]"
      ]
     },
     "metadata": {},
     "output_type": "display_data"
    },
    {
     "data": {
      "application/vnd.jupyter.widget-view+json": {
       "model_id": "",
       "version_major": 2,
       "version_minor": 0
      },
      "text/plain": [
       "splitter:   0%|          | 0/2 [00:00<?, ?it/s]"
      ]
     },
     "metadata": {},
     "output_type": "display_data"
    },
    {
     "data": {
      "application/vnd.jupyter.widget-view+json": {
       "model_id": "",
       "version_major": 2,
       "version_minor": 0
      },
      "text/plain": [
       "splitter:   0%|          | 0/2 [00:00<?, ?it/s]"
      ]
     },
     "metadata": {},
     "output_type": "display_data"
    },
    {
     "data": {
      "application/vnd.jupyter.widget-view+json": {
       "model_id": "",
       "version_major": 2,
       "version_minor": 0
      },
      "text/plain": [
       "splitter:   0%|          | 0/2 [00:00<?, ?it/s]"
      ]
     },
     "metadata": {},
     "output_type": "display_data"
    },
    {
     "data": {
      "application/vnd.jupyter.widget-view+json": {
       "model_id": "",
       "version_major": 2,
       "version_minor": 0
      },
      "text/plain": [
       "splitter:   0%|          | 0/2 [00:00<?, ?it/s]"
      ]
     },
     "metadata": {},
     "output_type": "display_data"
    },
    {
     "data": {
      "application/vnd.jupyter.widget-view+json": {
       "model_id": "",
       "version_major": 2,
       "version_minor": 0
      },
      "text/plain": [
       "splitter:   0%|          | 0/2 [00:00<?, ?it/s]"
      ]
     },
     "metadata": {},
     "output_type": "display_data"
    },
    {
     "data": {
      "application/vnd.jupyter.widget-view+json": {
       "model_id": "",
       "version_major": 2,
       "version_minor": 0
      },
      "text/plain": [
       "splitter:   0%|          | 0/2 [00:00<?, ?it/s]"
      ]
     },
     "metadata": {},
     "output_type": "display_data"
    },
    {
     "data": {
      "application/vnd.jupyter.widget-view+json": {
       "model_id": "",
       "version_major": 2,
       "version_minor": 0
      },
      "text/plain": [
       "splitter:   0%|          | 0/2 [00:00<?, ?it/s]"
      ]
     },
     "metadata": {},
     "output_type": "display_data"
    },
    {
     "data": {
      "application/vnd.jupyter.widget-view+json": {
       "model_id": "",
       "version_major": 2,
       "version_minor": 0
      },
      "text/plain": [
       "n_estimators:   0%|          | 0/10 [00:00<?, ?it/s]"
      ]
     },
     "metadata": {},
     "output_type": "display_data"
    },
    {
     "data": {
      "application/vnd.jupyter.widget-view+json": {
       "model_id": "",
       "version_major": 2,
       "version_minor": 0
      },
      "text/plain": [
       "splitter:   0%|          | 0/2 [00:00<?, ?it/s]"
      ]
     },
     "metadata": {},
     "output_type": "display_data"
    },
    {
     "data": {
      "application/vnd.jupyter.widget-view+json": {
       "model_id": "",
       "version_major": 2,
       "version_minor": 0
      },
      "text/plain": [
       "splitter:   0%|          | 0/2 [00:00<?, ?it/s]"
      ]
     },
     "metadata": {},
     "output_type": "display_data"
    },
    {
     "data": {
      "application/vnd.jupyter.widget-view+json": {
       "model_id": "",
       "version_major": 2,
       "version_minor": 0
      },
      "text/plain": [
       "splitter:   0%|          | 0/2 [00:00<?, ?it/s]"
      ]
     },
     "metadata": {},
     "output_type": "display_data"
    },
    {
     "data": {
      "application/vnd.jupyter.widget-view+json": {
       "model_id": "",
       "version_major": 2,
       "version_minor": 0
      },
      "text/plain": [
       "splitter:   0%|          | 0/2 [00:00<?, ?it/s]"
      ]
     },
     "metadata": {},
     "output_type": "display_data"
    },
    {
     "data": {
      "application/vnd.jupyter.widget-view+json": {
       "model_id": "",
       "version_major": 2,
       "version_minor": 0
      },
      "text/plain": [
       "splitter:   0%|          | 0/2 [00:00<?, ?it/s]"
      ]
     },
     "metadata": {},
     "output_type": "display_data"
    },
    {
     "data": {
      "application/vnd.jupyter.widget-view+json": {
       "model_id": "",
       "version_major": 2,
       "version_minor": 0
      },
      "text/plain": [
       "splitter:   0%|          | 0/2 [00:00<?, ?it/s]"
      ]
     },
     "metadata": {},
     "output_type": "display_data"
    },
    {
     "data": {
      "application/vnd.jupyter.widget-view+json": {
       "model_id": "",
       "version_major": 2,
       "version_minor": 0
      },
      "text/plain": [
       "splitter:   0%|          | 0/2 [00:00<?, ?it/s]"
      ]
     },
     "metadata": {},
     "output_type": "display_data"
    },
    {
     "data": {
      "application/vnd.jupyter.widget-view+json": {
       "model_id": "",
       "version_major": 2,
       "version_minor": 0
      },
      "text/plain": [
       "splitter:   0%|          | 0/2 [00:00<?, ?it/s]"
      ]
     },
     "metadata": {},
     "output_type": "display_data"
    },
    {
     "data": {
      "application/vnd.jupyter.widget-view+json": {
       "model_id": "",
       "version_major": 2,
       "version_minor": 0
      },
      "text/plain": [
       "splitter:   0%|          | 0/2 [00:00<?, ?it/s]"
      ]
     },
     "metadata": {},
     "output_type": "display_data"
    },
    {
     "data": {
      "application/vnd.jupyter.widget-view+json": {
       "model_id": "",
       "version_major": 2,
       "version_minor": 0
      },
      "text/plain": [
       "splitter:   0%|          | 0/2 [00:00<?, ?it/s]"
      ]
     },
     "metadata": {},
     "output_type": "display_data"
    },
    {
     "data": {
      "application/vnd.jupyter.widget-view+json": {
       "model_id": "",
       "version_major": 2,
       "version_minor": 0
      },
      "text/plain": [
       "n_estimators:   0%|          | 0/10 [00:00<?, ?it/s]"
      ]
     },
     "metadata": {},
     "output_type": "display_data"
    },
    {
     "data": {
      "application/vnd.jupyter.widget-view+json": {
       "model_id": "",
       "version_major": 2,
       "version_minor": 0
      },
      "text/plain": [
       "splitter:   0%|          | 0/2 [00:00<?, ?it/s]"
      ]
     },
     "metadata": {},
     "output_type": "display_data"
    },
    {
     "data": {
      "application/vnd.jupyter.widget-view+json": {
       "model_id": "",
       "version_major": 2,
       "version_minor": 0
      },
      "text/plain": [
       "splitter:   0%|          | 0/2 [00:00<?, ?it/s]"
      ]
     },
     "metadata": {},
     "output_type": "display_data"
    },
    {
     "data": {
      "application/vnd.jupyter.widget-view+json": {
       "model_id": "",
       "version_major": 2,
       "version_minor": 0
      },
      "text/plain": [
       "splitter:   0%|          | 0/2 [00:00<?, ?it/s]"
      ]
     },
     "metadata": {},
     "output_type": "display_data"
    },
    {
     "data": {
      "application/vnd.jupyter.widget-view+json": {
       "model_id": "",
       "version_major": 2,
       "version_minor": 0
      },
      "text/plain": [
       "splitter:   0%|          | 0/2 [00:00<?, ?it/s]"
      ]
     },
     "metadata": {},
     "output_type": "display_data"
    },
    {
     "data": {
      "application/vnd.jupyter.widget-view+json": {
       "model_id": "",
       "version_major": 2,
       "version_minor": 0
      },
      "text/plain": [
       "splitter:   0%|          | 0/2 [00:00<?, ?it/s]"
      ]
     },
     "metadata": {},
     "output_type": "display_data"
    },
    {
     "data": {
      "application/vnd.jupyter.widget-view+json": {
       "model_id": "",
       "version_major": 2,
       "version_minor": 0
      },
      "text/plain": [
       "splitter:   0%|          | 0/2 [00:00<?, ?it/s]"
      ]
     },
     "metadata": {},
     "output_type": "display_data"
    },
    {
     "data": {
      "application/vnd.jupyter.widget-view+json": {
       "model_id": "",
       "version_major": 2,
       "version_minor": 0
      },
      "text/plain": [
       "splitter:   0%|          | 0/2 [00:00<?, ?it/s]"
      ]
     },
     "metadata": {},
     "output_type": "display_data"
    },
    {
     "data": {
      "application/vnd.jupyter.widget-view+json": {
       "model_id": "",
       "version_major": 2,
       "version_minor": 0
      },
      "text/plain": [
       "splitter:   0%|          | 0/2 [00:00<?, ?it/s]"
      ]
     },
     "metadata": {},
     "output_type": "display_data"
    },
    {
     "data": {
      "application/vnd.jupyter.widget-view+json": {
       "model_id": "",
       "version_major": 2,
       "version_minor": 0
      },
      "text/plain": [
       "splitter:   0%|          | 0/2 [00:00<?, ?it/s]"
      ]
     },
     "metadata": {},
     "output_type": "display_data"
    },
    {
     "data": {
      "application/vnd.jupyter.widget-view+json": {
       "model_id": "",
       "version_major": 2,
       "version_minor": 0
      },
      "text/plain": [
       "splitter:   0%|          | 0/2 [00:00<?, ?it/s]"
      ]
     },
     "metadata": {},
     "output_type": "display_data"
    },
    {
     "data": {
      "application/vnd.jupyter.widget-view+json": {
       "model_id": "",
       "version_major": 2,
       "version_minor": 0
      },
      "text/plain": [
       "n_estimators:   0%|          | 0/10 [00:00<?, ?it/s]"
      ]
     },
     "metadata": {},
     "output_type": "display_data"
    },
    {
     "data": {
      "application/vnd.jupyter.widget-view+json": {
       "model_id": "",
       "version_major": 2,
       "version_minor": 0
      },
      "text/plain": [
       "splitter:   0%|          | 0/2 [00:00<?, ?it/s]"
      ]
     },
     "metadata": {},
     "output_type": "display_data"
    },
    {
     "data": {
      "application/vnd.jupyter.widget-view+json": {
       "model_id": "",
       "version_major": 2,
       "version_minor": 0
      },
      "text/plain": [
       "splitter:   0%|          | 0/2 [00:00<?, ?it/s]"
      ]
     },
     "metadata": {},
     "output_type": "display_data"
    },
    {
     "data": {
      "application/vnd.jupyter.widget-view+json": {
       "model_id": "",
       "version_major": 2,
       "version_minor": 0
      },
      "text/plain": [
       "splitter:   0%|          | 0/2 [00:00<?, ?it/s]"
      ]
     },
     "metadata": {},
     "output_type": "display_data"
    },
    {
     "data": {
      "application/vnd.jupyter.widget-view+json": {
       "model_id": "",
       "version_major": 2,
       "version_minor": 0
      },
      "text/plain": [
       "splitter:   0%|          | 0/2 [00:00<?, ?it/s]"
      ]
     },
     "metadata": {},
     "output_type": "display_data"
    },
    {
     "data": {
      "application/vnd.jupyter.widget-view+json": {
       "model_id": "",
       "version_major": 2,
       "version_minor": 0
      },
      "text/plain": [
       "splitter:   0%|          | 0/2 [00:00<?, ?it/s]"
      ]
     },
     "metadata": {},
     "output_type": "display_data"
    },
    {
     "data": {
      "application/vnd.jupyter.widget-view+json": {
       "model_id": "",
       "version_major": 2,
       "version_minor": 0
      },
      "text/plain": [
       "splitter:   0%|          | 0/2 [00:00<?, ?it/s]"
      ]
     },
     "metadata": {},
     "output_type": "display_data"
    },
    {
     "data": {
      "application/vnd.jupyter.widget-view+json": {
       "model_id": "",
       "version_major": 2,
       "version_minor": 0
      },
      "text/plain": [
       "splitter:   0%|          | 0/2 [00:00<?, ?it/s]"
      ]
     },
     "metadata": {},
     "output_type": "display_data"
    },
    {
     "data": {
      "application/vnd.jupyter.widget-view+json": {
       "model_id": "",
       "version_major": 2,
       "version_minor": 0
      },
      "text/plain": [
       "splitter:   0%|          | 0/2 [00:00<?, ?it/s]"
      ]
     },
     "metadata": {},
     "output_type": "display_data"
    },
    {
     "data": {
      "application/vnd.jupyter.widget-view+json": {
       "model_id": "",
       "version_major": 2,
       "version_minor": 0
      },
      "text/plain": [
       "splitter:   0%|          | 0/2 [00:00<?, ?it/s]"
      ]
     },
     "metadata": {},
     "output_type": "display_data"
    },
    {
     "data": {
      "application/vnd.jupyter.widget-view+json": {
       "model_id": "",
       "version_major": 2,
       "version_minor": 0
      },
      "text/plain": [
       "splitter:   0%|          | 0/2 [00:00<?, ?it/s]"
      ]
     },
     "metadata": {},
     "output_type": "display_data"
    },
    {
     "data": {
      "application/vnd.jupyter.widget-view+json": {
       "model_id": "",
       "version_major": 2,
       "version_minor": 0
      },
      "text/plain": [
       "n_estimators:   0%|          | 0/10 [00:00<?, ?it/s]"
      ]
     },
     "metadata": {},
     "output_type": "display_data"
    },
    {
     "data": {
      "application/vnd.jupyter.widget-view+json": {
       "model_id": "",
       "version_major": 2,
       "version_minor": 0
      },
      "text/plain": [
       "splitter:   0%|          | 0/2 [00:00<?, ?it/s]"
      ]
     },
     "metadata": {},
     "output_type": "display_data"
    },
    {
     "data": {
      "application/vnd.jupyter.widget-view+json": {
       "model_id": "",
       "version_major": 2,
       "version_minor": 0
      },
      "text/plain": [
       "splitter:   0%|          | 0/2 [00:00<?, ?it/s]"
      ]
     },
     "metadata": {},
     "output_type": "display_data"
    },
    {
     "data": {
      "application/vnd.jupyter.widget-view+json": {
       "model_id": "",
       "version_major": 2,
       "version_minor": 0
      },
      "text/plain": [
       "splitter:   0%|          | 0/2 [00:00<?, ?it/s]"
      ]
     },
     "metadata": {},
     "output_type": "display_data"
    },
    {
     "data": {
      "application/vnd.jupyter.widget-view+json": {
       "model_id": "",
       "version_major": 2,
       "version_minor": 0
      },
      "text/plain": [
       "splitter:   0%|          | 0/2 [00:00<?, ?it/s]"
      ]
     },
     "metadata": {},
     "output_type": "display_data"
    },
    {
     "data": {
      "application/vnd.jupyter.widget-view+json": {
       "model_id": "",
       "version_major": 2,
       "version_minor": 0
      },
      "text/plain": [
       "splitter:   0%|          | 0/2 [00:00<?, ?it/s]"
      ]
     },
     "metadata": {},
     "output_type": "display_data"
    },
    {
     "data": {
      "application/vnd.jupyter.widget-view+json": {
       "model_id": "",
       "version_major": 2,
       "version_minor": 0
      },
      "text/plain": [
       "splitter:   0%|          | 0/2 [00:00<?, ?it/s]"
      ]
     },
     "metadata": {},
     "output_type": "display_data"
    },
    {
     "data": {
      "application/vnd.jupyter.widget-view+json": {
       "model_id": "",
       "version_major": 2,
       "version_minor": 0
      },
      "text/plain": [
       "splitter:   0%|          | 0/2 [00:00<?, ?it/s]"
      ]
     },
     "metadata": {},
     "output_type": "display_data"
    },
    {
     "data": {
      "application/vnd.jupyter.widget-view+json": {
       "model_id": "",
       "version_major": 2,
       "version_minor": 0
      },
      "text/plain": [
       "splitter:   0%|          | 0/2 [00:00<?, ?it/s]"
      ]
     },
     "metadata": {},
     "output_type": "display_data"
    },
    {
     "data": {
      "application/vnd.jupyter.widget-view+json": {
       "model_id": "",
       "version_major": 2,
       "version_minor": 0
      },
      "text/plain": [
       "splitter:   0%|          | 0/2 [00:00<?, ?it/s]"
      ]
     },
     "metadata": {},
     "output_type": "display_data"
    },
    {
     "data": {
      "application/vnd.jupyter.widget-view+json": {
       "model_id": "",
       "version_major": 2,
       "version_minor": 0
      },
      "text/plain": [
       "splitter:   0%|          | 0/2 [00:00<?, ?it/s]"
      ]
     },
     "metadata": {},
     "output_type": "display_data"
    },
    {
     "data": {
      "application/vnd.jupyter.widget-view+json": {
       "model_id": "",
       "version_major": 2,
       "version_minor": 0
      },
      "text/plain": [
       "n_estimators:   0%|          | 0/10 [00:00<?, ?it/s]"
      ]
     },
     "metadata": {},
     "output_type": "display_data"
    },
    {
     "data": {
      "application/vnd.jupyter.widget-view+json": {
       "model_id": "",
       "version_major": 2,
       "version_minor": 0
      },
      "text/plain": [
       "splitter:   0%|          | 0/2 [00:00<?, ?it/s]"
      ]
     },
     "metadata": {},
     "output_type": "display_data"
    },
    {
     "data": {
      "application/vnd.jupyter.widget-view+json": {
       "model_id": "",
       "version_major": 2,
       "version_minor": 0
      },
      "text/plain": [
       "splitter:   0%|          | 0/2 [00:00<?, ?it/s]"
      ]
     },
     "metadata": {},
     "output_type": "display_data"
    },
    {
     "data": {
      "application/vnd.jupyter.widget-view+json": {
       "model_id": "",
       "version_major": 2,
       "version_minor": 0
      },
      "text/plain": [
       "splitter:   0%|          | 0/2 [00:00<?, ?it/s]"
      ]
     },
     "metadata": {},
     "output_type": "display_data"
    },
    {
     "data": {
      "application/vnd.jupyter.widget-view+json": {
       "model_id": "",
       "version_major": 2,
       "version_minor": 0
      },
      "text/plain": [
       "splitter:   0%|          | 0/2 [00:00<?, ?it/s]"
      ]
     },
     "metadata": {},
     "output_type": "display_data"
    },
    {
     "data": {
      "application/vnd.jupyter.widget-view+json": {
       "model_id": "",
       "version_major": 2,
       "version_minor": 0
      },
      "text/plain": [
       "splitter:   0%|          | 0/2 [00:00<?, ?it/s]"
      ]
     },
     "metadata": {},
     "output_type": "display_data"
    },
    {
     "data": {
      "application/vnd.jupyter.widget-view+json": {
       "model_id": "",
       "version_major": 2,
       "version_minor": 0
      },
      "text/plain": [
       "splitter:   0%|          | 0/2 [00:00<?, ?it/s]"
      ]
     },
     "metadata": {},
     "output_type": "display_data"
    },
    {
     "data": {
      "application/vnd.jupyter.widget-view+json": {
       "model_id": "",
       "version_major": 2,
       "version_minor": 0
      },
      "text/plain": [
       "splitter:   0%|          | 0/2 [00:00<?, ?it/s]"
      ]
     },
     "metadata": {},
     "output_type": "display_data"
    },
    {
     "data": {
      "application/vnd.jupyter.widget-view+json": {
       "model_id": "",
       "version_major": 2,
       "version_minor": 0
      },
      "text/plain": [
       "splitter:   0%|          | 0/2 [00:00<?, ?it/s]"
      ]
     },
     "metadata": {},
     "output_type": "display_data"
    },
    {
     "data": {
      "application/vnd.jupyter.widget-view+json": {
       "model_id": "",
       "version_major": 2,
       "version_minor": 0
      },
      "text/plain": [
       "splitter:   0%|          | 0/2 [00:00<?, ?it/s]"
      ]
     },
     "metadata": {},
     "output_type": "display_data"
    },
    {
     "data": {
      "application/vnd.jupyter.widget-view+json": {
       "model_id": "",
       "version_major": 2,
       "version_minor": 0
      },
      "text/plain": [
       "splitter:   0%|          | 0/2 [00:00<?, ?it/s]"
      ]
     },
     "metadata": {},
     "output_type": "display_data"
    },
    {
     "data": {
      "application/vnd.jupyter.widget-view+json": {
       "model_id": "",
       "version_major": 2,
       "version_minor": 0
      },
      "text/plain": [
       "n_estimators:   0%|          | 0/10 [00:00<?, ?it/s]"
      ]
     },
     "metadata": {},
     "output_type": "display_data"
    },
    {
     "data": {
      "application/vnd.jupyter.widget-view+json": {
       "model_id": "",
       "version_major": 2,
       "version_minor": 0
      },
      "text/plain": [
       "splitter:   0%|          | 0/2 [00:00<?, ?it/s]"
      ]
     },
     "metadata": {},
     "output_type": "display_data"
    },
    {
     "data": {
      "application/vnd.jupyter.widget-view+json": {
       "model_id": "",
       "version_major": 2,
       "version_minor": 0
      },
      "text/plain": [
       "splitter:   0%|          | 0/2 [00:00<?, ?it/s]"
      ]
     },
     "metadata": {},
     "output_type": "display_data"
    },
    {
     "data": {
      "application/vnd.jupyter.widget-view+json": {
       "model_id": "",
       "version_major": 2,
       "version_minor": 0
      },
      "text/plain": [
       "splitter:   0%|          | 0/2 [00:00<?, ?it/s]"
      ]
     },
     "metadata": {},
     "output_type": "display_data"
    },
    {
     "data": {
      "application/vnd.jupyter.widget-view+json": {
       "model_id": "",
       "version_major": 2,
       "version_minor": 0
      },
      "text/plain": [
       "splitter:   0%|          | 0/2 [00:00<?, ?it/s]"
      ]
     },
     "metadata": {},
     "output_type": "display_data"
    },
    {
     "data": {
      "application/vnd.jupyter.widget-view+json": {
       "model_id": "",
       "version_major": 2,
       "version_minor": 0
      },
      "text/plain": [
       "splitter:   0%|          | 0/2 [00:00<?, ?it/s]"
      ]
     },
     "metadata": {},
     "output_type": "display_data"
    },
    {
     "data": {
      "application/vnd.jupyter.widget-view+json": {
       "model_id": "",
       "version_major": 2,
       "version_minor": 0
      },
      "text/plain": [
       "splitter:   0%|          | 0/2 [00:00<?, ?it/s]"
      ]
     },
     "metadata": {},
     "output_type": "display_data"
    },
    {
     "data": {
      "application/vnd.jupyter.widget-view+json": {
       "model_id": "",
       "version_major": 2,
       "version_minor": 0
      },
      "text/plain": [
       "splitter:   0%|          | 0/2 [00:00<?, ?it/s]"
      ]
     },
     "metadata": {},
     "output_type": "display_data"
    },
    {
     "data": {
      "application/vnd.jupyter.widget-view+json": {
       "model_id": "",
       "version_major": 2,
       "version_minor": 0
      },
      "text/plain": [
       "splitter:   0%|          | 0/2 [00:00<?, ?it/s]"
      ]
     },
     "metadata": {},
     "output_type": "display_data"
    },
    {
     "data": {
      "application/vnd.jupyter.widget-view+json": {
       "model_id": "",
       "version_major": 2,
       "version_minor": 0
      },
      "text/plain": [
       "splitter:   0%|          | 0/2 [00:00<?, ?it/s]"
      ]
     },
     "metadata": {},
     "output_type": "display_data"
    },
    {
     "data": {
      "application/vnd.jupyter.widget-view+json": {
       "model_id": "",
       "version_major": 2,
       "version_minor": 0
      },
      "text/plain": [
       "splitter:   0%|          | 0/2 [00:00<?, ?it/s]"
      ]
     },
     "metadata": {},
     "output_type": "display_data"
    },
    {
     "data": {
      "application/vnd.jupyter.widget-view+json": {
       "model_id": "",
       "version_major": 2,
       "version_minor": 0
      },
      "text/plain": [
       "n_estimators:   0%|          | 0/10 [00:00<?, ?it/s]"
      ]
     },
     "metadata": {},
     "output_type": "display_data"
    },
    {
     "data": {
      "application/vnd.jupyter.widget-view+json": {
       "model_id": "",
       "version_major": 2,
       "version_minor": 0
      },
      "text/plain": [
       "splitter:   0%|          | 0/2 [00:00<?, ?it/s]"
      ]
     },
     "metadata": {},
     "output_type": "display_data"
    },
    {
     "data": {
      "application/vnd.jupyter.widget-view+json": {
       "model_id": "",
       "version_major": 2,
       "version_minor": 0
      },
      "text/plain": [
       "splitter:   0%|          | 0/2 [00:00<?, ?it/s]"
      ]
     },
     "metadata": {},
     "output_type": "display_data"
    },
    {
     "data": {
      "application/vnd.jupyter.widget-view+json": {
       "model_id": "",
       "version_major": 2,
       "version_minor": 0
      },
      "text/plain": [
       "splitter:   0%|          | 0/2 [00:00<?, ?it/s]"
      ]
     },
     "metadata": {},
     "output_type": "display_data"
    },
    {
     "data": {
      "application/vnd.jupyter.widget-view+json": {
       "model_id": "",
       "version_major": 2,
       "version_minor": 0
      },
      "text/plain": [
       "splitter:   0%|          | 0/2 [00:00<?, ?it/s]"
      ]
     },
     "metadata": {},
     "output_type": "display_data"
    },
    {
     "data": {
      "application/vnd.jupyter.widget-view+json": {
       "model_id": "",
       "version_major": 2,
       "version_minor": 0
      },
      "text/plain": [
       "splitter:   0%|          | 0/2 [00:00<?, ?it/s]"
      ]
     },
     "metadata": {},
     "output_type": "display_data"
    },
    {
     "data": {
      "application/vnd.jupyter.widget-view+json": {
       "model_id": "",
       "version_major": 2,
       "version_minor": 0
      },
      "text/plain": [
       "splitter:   0%|          | 0/2 [00:00<?, ?it/s]"
      ]
     },
     "metadata": {},
     "output_type": "display_data"
    },
    {
     "data": {
      "application/vnd.jupyter.widget-view+json": {
       "model_id": "",
       "version_major": 2,
       "version_minor": 0
      },
      "text/plain": [
       "splitter:   0%|          | 0/2 [00:00<?, ?it/s]"
      ]
     },
     "metadata": {},
     "output_type": "display_data"
    },
    {
     "data": {
      "application/vnd.jupyter.widget-view+json": {
       "model_id": "",
       "version_major": 2,
       "version_minor": 0
      },
      "text/plain": [
       "splitter:   0%|          | 0/2 [00:00<?, ?it/s]"
      ]
     },
     "metadata": {},
     "output_type": "display_data"
    },
    {
     "data": {
      "application/vnd.jupyter.widget-view+json": {
       "model_id": "",
       "version_major": 2,
       "version_minor": 0
      },
      "text/plain": [
       "splitter:   0%|          | 0/2 [00:00<?, ?it/s]"
      ]
     },
     "metadata": {},
     "output_type": "display_data"
    },
    {
     "data": {
      "application/vnd.jupyter.widget-view+json": {
       "model_id": "",
       "version_major": 2,
       "version_minor": 0
      },
      "text/plain": [
       "splitter:   0%|          | 0/2 [00:00<?, ?it/s]"
      ]
     },
     "metadata": {},
     "output_type": "display_data"
    },
    {
     "data": {
      "application/vnd.jupyter.widget-view+json": {
       "model_id": "",
       "version_major": 2,
       "version_minor": 0
      },
      "text/plain": [
       "n_estimators:   0%|          | 0/10 [00:00<?, ?it/s]"
      ]
     },
     "metadata": {},
     "output_type": "display_data"
    },
    {
     "data": {
      "application/vnd.jupyter.widget-view+json": {
       "model_id": "",
       "version_major": 2,
       "version_minor": 0
      },
      "text/plain": [
       "splitter:   0%|          | 0/2 [00:00<?, ?it/s]"
      ]
     },
     "metadata": {},
     "output_type": "display_data"
    },
    {
     "data": {
      "application/vnd.jupyter.widget-view+json": {
       "model_id": "",
       "version_major": 2,
       "version_minor": 0
      },
      "text/plain": [
       "splitter:   0%|          | 0/2 [00:00<?, ?it/s]"
      ]
     },
     "metadata": {},
     "output_type": "display_data"
    },
    {
     "data": {
      "application/vnd.jupyter.widget-view+json": {
       "model_id": "",
       "version_major": 2,
       "version_minor": 0
      },
      "text/plain": [
       "splitter:   0%|          | 0/2 [00:00<?, ?it/s]"
      ]
     },
     "metadata": {},
     "output_type": "display_data"
    },
    {
     "data": {
      "application/vnd.jupyter.widget-view+json": {
       "model_id": "",
       "version_major": 2,
       "version_minor": 0
      },
      "text/plain": [
       "splitter:   0%|          | 0/2 [00:00<?, ?it/s]"
      ]
     },
     "metadata": {},
     "output_type": "display_data"
    },
    {
     "data": {
      "application/vnd.jupyter.widget-view+json": {
       "model_id": "",
       "version_major": 2,
       "version_minor": 0
      },
      "text/plain": [
       "splitter:   0%|          | 0/2 [00:00<?, ?it/s]"
      ]
     },
     "metadata": {},
     "output_type": "display_data"
    },
    {
     "data": {
      "application/vnd.jupyter.widget-view+json": {
       "model_id": "",
       "version_major": 2,
       "version_minor": 0
      },
      "text/plain": [
       "splitter:   0%|          | 0/2 [00:00<?, ?it/s]"
      ]
     },
     "metadata": {},
     "output_type": "display_data"
    },
    {
     "data": {
      "application/vnd.jupyter.widget-view+json": {
       "model_id": "",
       "version_major": 2,
       "version_minor": 0
      },
      "text/plain": [
       "splitter:   0%|          | 0/2 [00:00<?, ?it/s]"
      ]
     },
     "metadata": {},
     "output_type": "display_data"
    },
    {
     "data": {
      "application/vnd.jupyter.widget-view+json": {
       "model_id": "",
       "version_major": 2,
       "version_minor": 0
      },
      "text/plain": [
       "splitter:   0%|          | 0/2 [00:00<?, ?it/s]"
      ]
     },
     "metadata": {},
     "output_type": "display_data"
    },
    {
     "data": {
      "application/vnd.jupyter.widget-view+json": {
       "model_id": "",
       "version_major": 2,
       "version_minor": 0
      },
      "text/plain": [
       "splitter:   0%|          | 0/2 [00:00<?, ?it/s]"
      ]
     },
     "metadata": {},
     "output_type": "display_data"
    },
    {
     "data": {
      "application/vnd.jupyter.widget-view+json": {
       "model_id": "",
       "version_major": 2,
       "version_minor": 0
      },
      "text/plain": [
       "splitter:   0%|          | 0/2 [00:00<?, ?it/s]"
      ]
     },
     "metadata": {},
     "output_type": "display_data"
    },
    {
     "name": "stdout",
     "output_type": "stream",
     "text": [
      "Лучшая модель: GradientBoostingClassifier(loss='deviance', max_depth=6, n_estimators=20,\n",
      "                           random_state=0)\n",
      "CPU times: user 1min 54s, sys: 529 ms, total: 1min 54s\n",
      "Wall time: 1min 58s\n"
     ]
    }
   ],
   "source": [
    "%%time\n",
    "\n",
    "best_model = None\n",
    "best_result = 0\n",
    "\n",
    "p_max_depth = np.arange(1, 11, 1)\n",
    "p_estimators = np.arange(5, 55, 5)\n",
    "p_loss = ['deviance', 'exponential']\n",
    "\n",
    "\n",
    "# обучим модель в цикле с различными гиперпараметрами и выберем лучшую:\n",
    "for max_depth in tqdm(p_max_depth, position=0, desc='max_depth', leave=True):\n",
    "    for n_estimators in tqdm(p_estimators, position=1, desc='n_estimators', leave=False):\n",
    "        for loss in tqdm(p_loss, position=3, desc='splitter', leave=False):\n",
    "            model = GradientBoostingClassifier(random_state=0, \n",
    "                                               loss=loss,\n",
    "                                               n_estimators=n_estimators, \n",
    "                                               max_depth=max_depth)\n",
    "            model.fit(X_train_upsampled, y_train_upsampled)\n",
    "            y_pred = model.predict(X_valid)\n",
    "            result = f1_score(y_valid, y_pred)\n",
    "            if result > best_result:\n",
    "                gradient_boosting_classifier_upsampled = model\n",
    "                best_result = result\n",
    "                \n",
    "print('Лучшая модель:', gradient_boosting_classifier_upsampled)"
   ]
  },
  {
   "cell_type": "markdown",
   "metadata": {},
   "source": [
    "#### Алгоритм `LogisticRegression`"
   ]
  },
  {
   "cell_type": "code",
   "execution_count": 32,
   "metadata": {},
   "outputs": [
    {
     "data": {
      "application/vnd.jupyter.widget-view+json": {
       "model_id": "b7cfa6b8bc584637a6bfcc90a76f6e88",
       "version_major": 2,
       "version_minor": 0
      },
      "text/plain": [
       "solver:   0%|          | 0/5 [00:00<?, ?it/s]"
      ]
     },
     "metadata": {},
     "output_type": "display_data"
    },
    {
     "name": "stdout",
     "output_type": "stream",
     "text": [
      "Лучшая модель: LogisticRegression(max_iter=1000, random_state=0, solver='newton-cg')\n",
      "CPU times: user 525 ms, sys: 524 ms, total: 1.05 s\n",
      "Wall time: 1.07 s\n"
     ]
    }
   ],
   "source": [
    "%%time\n",
    "\n",
    "best_model = None\n",
    "best_result = 0\n",
    "\n",
    "p_solver = ['newton-cg', 'lbfgs', 'liblinear', 'sag', 'saga']\n",
    "\n",
    "# обучим модель в цикле с различными гиперпараметрами и выберем лучшую:\n",
    "for solver in tqdm(p_solver, position=0, desc='solver', leave=True):\n",
    "        model = LogisticRegression(random_state=0,\n",
    "                                   solver=solver,\n",
    "                                   penalty='l2',\n",
    "                                   max_iter=1000)\n",
    "        model.fit(X_train_upsampled, y_train_upsampled)\n",
    "        y_pred = model.predict(X_valid)\n",
    "        result = f1_score(y_valid, y_pred)\n",
    "        if result > best_result:\n",
    "            logistic_regression_upsampled = model\n",
    "            best_result = result\n",
    "        \n",
    "print('Лучшая модель:', logistic_regression_upsampled)"
   ]
  },
  {
   "cell_type": "markdown",
   "metadata": {},
   "source": [
    "Оценим качество моделей на валидационной выборке:"
   ]
  },
  {
   "cell_type": "code",
   "execution_count": 33,
   "metadata": {
    "scrolled": true
   },
   "outputs": [
    {
     "data": {
      "text/html": [
       "<div>\n",
       "<style scoped>\n",
       "    .dataframe tbody tr th:only-of-type {\n",
       "        vertical-align: middle;\n",
       "    }\n",
       "\n",
       "    .dataframe tbody tr th {\n",
       "        vertical-align: top;\n",
       "    }\n",
       "\n",
       "    .dataframe thead th {\n",
       "        text-align: right;\n",
       "    }\n",
       "</style>\n",
       "<table border=\"1\" class=\"dataframe\">\n",
       "  <thead>\n",
       "    <tr style=\"text-align: right;\">\n",
       "      <th></th>\n",
       "      <th>DecisionTreeClassifier</th>\n",
       "      <th>RandomForestClassifier</th>\n",
       "      <th>GradientBoostingClassifier</th>\n",
       "      <th>LogisticRegression</th>\n",
       "    </tr>\n",
       "  </thead>\n",
       "  <tbody>\n",
       "    <tr>\n",
       "      <th>Accuracy</th>\n",
       "      <td>0.80</td>\n",
       "      <td>0.83</td>\n",
       "      <td>0.82</td>\n",
       "      <td>0.71</td>\n",
       "    </tr>\n",
       "    <tr>\n",
       "      <th>Precision</th>\n",
       "      <td>0.52</td>\n",
       "      <td>0.56</td>\n",
       "      <td>0.54</td>\n",
       "      <td>0.39</td>\n",
       "    </tr>\n",
       "    <tr>\n",
       "      <th>Recall</th>\n",
       "      <td>0.70</td>\n",
       "      <td>0.75</td>\n",
       "      <td>0.75</td>\n",
       "      <td>0.74</td>\n",
       "    </tr>\n",
       "    <tr>\n",
       "      <th>Specificity</th>\n",
       "      <td>0.83</td>\n",
       "      <td>0.85</td>\n",
       "      <td>0.84</td>\n",
       "      <td>0.70</td>\n",
       "    </tr>\n",
       "    <tr>\n",
       "      <th>F1</th>\n",
       "      <td>0.59</td>\n",
       "      <td>0.64</td>\n",
       "      <td>0.63</td>\n",
       "      <td>0.51</td>\n",
       "    </tr>\n",
       "    <tr>\n",
       "      <th>ROC_AUC</th>\n",
       "      <td>0.85</td>\n",
       "      <td>0.87</td>\n",
       "      <td>0.87</td>\n",
       "      <td>0.78</td>\n",
       "    </tr>\n",
       "  </tbody>\n",
       "</table>\n",
       "</div>"
      ],
      "text/plain": [
       "            DecisionTreeClassifier RandomForestClassifier  \\\n",
       "Accuracy                      0.80                   0.83   \n",
       "Precision                     0.52                   0.56   \n",
       "Recall                        0.70                   0.75   \n",
       "Specificity                   0.83                   0.85   \n",
       "F1                            0.59                   0.64   \n",
       "ROC_AUC                       0.85                   0.87   \n",
       "\n",
       "            GradientBoostingClassifier LogisticRegression  \n",
       "Accuracy                          0.82               0.71  \n",
       "Precision                         0.54               0.39  \n",
       "Recall                            0.75               0.74  \n",
       "Specificity                       0.84               0.70  \n",
       "F1                                0.63               0.51  \n",
       "ROC_AUC                           0.87               0.78  "
      ]
     },
     "metadata": {},
     "output_type": "display_data"
    }
   ],
   "source": [
    "# создадим пустой список:\n",
    "results=[]\n",
    "\n",
    "# зададим список моделей:\n",
    "models = [decision_tree_classifier_upsampled,\n",
    "          random_forest_classifier_upsampled,\n",
    "          gradient_boosting_classifier_upsampled,\n",
    "          logistic_regression_upsampled]\n",
    "\n",
    "# создадим датафрейм с метриками:\n",
    "for model in models:\n",
    "    make_prediction(model=model, X_train=X_train_upsampled, y_train=y_train_upsampled, X_test=X_valid, y_test=y_valid)\n",
    "    \n",
    "display(pd.DataFrame(results).T)"
   ]
  },
  {
   "cell_type": "markdown",
   "metadata": {},
   "source": [
    "Построим ROC-кривые для моделей:"
   ]
  },
  {
   "cell_type": "code",
   "execution_count": 34,
   "metadata": {
    "scrolled": false
   },
   "outputs": [
    {
     "data": {
      "image/png": "[encoded data removed]",
      "text/plain": [
       "<Figure size 720x576 with 1 Axes>"
      ]
     },
     "metadata": {
      "needs_background": "light"
     },
     "output_type": "display_data"
    }
   ],
   "source": [
    "plt.figure(figsize=(10, 8))\n",
    "\n",
    "for model in models:\n",
    "    fpr, tpr, thresholds = roc_curve(y_valid, model.predict_proba(X_valid)[:,1], pos_label=1)\n",
    "    plt.plot(fpr, tpr, lw=2,  label='{}, AUC={:.3f}'.format(type(model).__name__, \n",
    "                                                            roc_auc_score(y_valid, model.predict_proba(X_valid)[:,1])))\n",
    "    plt.xticks(np.arange(0.0, 1.1, step=0.1))\n",
    "    plt.xlabel('False Positive Rate', fontsize=15)\n",
    "    plt.yticks(np.arange(0.0, 1.1, step=0.1))\n",
    "    plt.ylabel('True Positive Rate', fontsize=15)    \n",
    "    plt.title('ROC curve')\n",
    "plt.plot([0,1], [0,1], color='red', linestyle='--', label='Случайный прогноз')    \n",
    "plt.legend(prop={'size':13}, loc='lower right')\n",
    "plt.grid(alpha=0.7)\n",
    "plt.show()"
   ]
  },
  {
   "cell_type": "markdown",
   "metadata": {},
   "source": [
    "### Обучим модели с учетом весов классов:"
   ]
  },
  {
   "cell_type": "markdown",
   "metadata": {},
   "source": [
    "#### Алгоритм `DecisionTreeClassifier`"
   ]
  },
  {
   "cell_type": "code",
   "execution_count": 35,
   "metadata": {
    "scrolled": true
   },
   "outputs": [
    {
     "data": {
      "application/vnd.jupyter.widget-view+json": {
       "model_id": "a6b116b3fb0741029172a634f925f755",
       "version_major": 2,
       "version_minor": 0
      },
      "text/plain": [
       "max_depth:   0%|          | 0/10 [00:00<?, ?it/s]"
      ]
     },
     "metadata": {},
     "output_type": "display_data"
    },
    {
     "data": {
      "application/vnd.jupyter.widget-view+json": {
       "model_id": "",
       "version_major": 2,
       "version_minor": 0
      },
      "text/plain": [
       "criterion:   0%|          | 0/2 [00:00<?, ?it/s]"
      ]
     },
     "metadata": {},
     "output_type": "display_data"
    },
    {
     "data": {
      "application/vnd.jupyter.widget-view+json": {
       "model_id": "",
       "version_major": 2,
       "version_minor": 0
      },
      "text/plain": [
       "splitter:   0%|          | 0/2 [00:00<?, ?it/s]"
      ]
     },
     "metadata": {},
     "output_type": "display_data"
    },
    {
     "data": {
      "application/vnd.jupyter.widget-view+json": {
       "model_id": "",
       "version_major": 2,
       "version_minor": 0
      },
      "text/plain": [
       "splitter:   0%|          | 0/2 [00:00<?, ?it/s]"
      ]
     },
     "metadata": {},
     "output_type": "display_data"
    },
    {
     "data": {
      "application/vnd.jupyter.widget-view+json": {
       "model_id": "",
       "version_major": 2,
       "version_minor": 0
      },
      "text/plain": [
       "criterion:   0%|          | 0/2 [00:00<?, ?it/s]"
      ]
     },
     "metadata": {},
     "output_type": "display_data"
    },
    {
     "data": {
      "application/vnd.jupyter.widget-view+json": {
       "model_id": "",
       "version_major": 2,
       "version_minor": 0
      },
      "text/plain": [
       "splitter:   0%|          | 0/2 [00:00<?, ?it/s]"
      ]
     },
     "metadata": {},
     "output_type": "display_data"
    },
    {
     "data": {
      "application/vnd.jupyter.widget-view+json": {
       "model_id": "",
       "version_major": 2,
       "version_minor": 0
      },
      "text/plain": [
       "splitter:   0%|          | 0/2 [00:00<?, ?it/s]"
      ]
     },
     "metadata": {},
     "output_type": "display_data"
    },
    {
     "data": {
      "application/vnd.jupyter.widget-view+json": {
       "model_id": "",
       "version_major": 2,
       "version_minor": 0
      },
      "text/plain": [
       "criterion:   0%|          | 0/2 [00:00<?, ?it/s]"
      ]
     },
     "metadata": {},
     "output_type": "display_data"
    },
    {
     "data": {
      "application/vnd.jupyter.widget-view+json": {
       "model_id": "",
       "version_major": 2,
       "version_minor": 0
      },
      "text/plain": [
       "splitter:   0%|          | 0/2 [00:00<?, ?it/s]"
      ]
     },
     "metadata": {},
     "output_type": "display_data"
    },
    {
     "data": {
      "application/vnd.jupyter.widget-view+json": {
       "model_id": "",
       "version_major": 2,
       "version_minor": 0
      },
      "text/plain": [
       "splitter:   0%|          | 0/2 [00:00<?, ?it/s]"
      ]
     },
     "metadata": {},
     "output_type": "display_data"
    },
    {
     "data": {
      "application/vnd.jupyter.widget-view+json": {
       "model_id": "",
       "version_major": 2,
       "version_minor": 0
      },
      "text/plain": [
       "criterion:   0%|          | 0/2 [00:00<?, ?it/s]"
      ]
     },
     "metadata": {},
     "output_type": "display_data"
    },
    {
     "data": {
      "application/vnd.jupyter.widget-view+json": {
       "model_id": "",
       "version_major": 2,
       "version_minor": 0
      },
      "text/plain": [
       "splitter:   0%|          | 0/2 [00:00<?, ?it/s]"
      ]
     },
     "metadata": {},
     "output_type": "display_data"
    },
    {
     "data": {
      "application/vnd.jupyter.widget-view+json": {
       "model_id": "",
       "version_major": 2,
       "version_minor": 0
      },
      "text/plain": [
       "splitter:   0%|          | 0/2 [00:00<?, ?it/s]"
      ]
     },
     "metadata": {},
     "output_type": "display_data"
    },
    {
     "data": {
      "application/vnd.jupyter.widget-view+json": {
       "model_id": "",
       "version_major": 2,
       "version_minor": 0
      },
      "text/plain": [
       "criterion:   0%|          | 0/2 [00:00<?, ?it/s]"
      ]
     },
     "metadata": {},
     "output_type": "display_data"
    },
    {
     "data": {
      "application/vnd.jupyter.widget-view+json": {
       "model_id": "",
       "version_major": 2,
       "version_minor": 0
      },
      "text/plain": [
       "splitter:   0%|          | 0/2 [00:00<?, ?it/s]"
      ]
     },
     "metadata": {},
     "output_type": "display_data"
    },
    {
     "data": {
      "application/vnd.jupyter.widget-view+json": {
       "model_id": "",
       "version_major": 2,
       "version_minor": 0
      },
      "text/plain": [
       "splitter:   0%|          | 0/2 [00:00<?, ?it/s]"
      ]
     },
     "metadata": {},
     "output_type": "display_data"
    },
    {
     "data": {
      "application/vnd.jupyter.widget-view+json": {
       "model_id": "",
       "version_major": 2,
       "version_minor": 0
      },
      "text/plain": [
       "criterion:   0%|          | 0/2 [00:00<?, ?it/s]"
      ]
     },
     "metadata": {},
     "output_type": "display_data"
    },
    {
     "data": {
      "application/vnd.jupyter.widget-view+json": {
       "model_id": "",
       "version_major": 2,
       "version_minor": 0
      },
      "text/plain": [
       "splitter:   0%|          | 0/2 [00:00<?, ?it/s]"
      ]
     },
     "metadata": {},
     "output_type": "display_data"
    },
    {
     "data": {
      "application/vnd.jupyter.widget-view+json": {
       "model_id": "",
       "version_major": 2,
       "version_minor": 0
      },
      "text/plain": [
       "splitter:   0%|          | 0/2 [00:00<?, ?it/s]"
      ]
     },
     "metadata": {},
     "output_type": "display_data"
    },
    {
     "data": {
      "application/vnd.jupyter.widget-view+json": {
       "model_id": "",
       "version_major": 2,
       "version_minor": 0
      },
      "text/plain": [
       "criterion:   0%|          | 0/2 [00:00<?, ?it/s]"
      ]
     },
     "metadata": {},
     "output_type": "display_data"
    },
    {
     "data": {
      "application/vnd.jupyter.widget-view+json": {
       "model_id": "",
       "version_major": 2,
       "version_minor": 0
      },
      "text/plain": [
       "splitter:   0%|          | 0/2 [00:00<?, ?it/s]"
      ]
     },
     "metadata": {},
     "output_type": "display_data"
    },
    {
     "data": {
      "application/vnd.jupyter.widget-view+json": {
       "model_id": "",
       "version_major": 2,
       "version_minor": 0
      },
      "text/plain": [
       "splitter:   0%|          | 0/2 [00:00<?, ?it/s]"
      ]
     },
     "metadata": {},
     "output_type": "display_data"
    },
    {
     "data": {
      "application/vnd.jupyter.widget-view+json": {
       "model_id": "",
       "version_major": 2,
       "version_minor": 0
      },
      "text/plain": [
       "criterion:   0%|          | 0/2 [00:00<?, ?it/s]"
      ]
     },
     "metadata": {},
     "output_type": "display_data"
    },
    {
     "data": {
      "application/vnd.jupyter.widget-view+json": {
       "model_id": "",
       "version_major": 2,
       "version_minor": 0
      },
      "text/plain": [
       "splitter:   0%|          | 0/2 [00:00<?, ?it/s]"
      ]
     },
     "metadata": {},
     "output_type": "display_data"
    },
    {
     "data": {
      "application/vnd.jupyter.widget-view+json": {
       "model_id": "",
       "version_major": 2,
       "version_minor": 0
      },
      "text/plain": [
       "splitter:   0%|          | 0/2 [00:00<?, ?it/s]"
      ]
     },
     "metadata": {},
     "output_type": "display_data"
    },
    {
     "data": {
      "application/vnd.jupyter.widget-view+json": {
       "model_id": "",
       "version_major": 2,
       "version_minor": 0
      },
      "text/plain": [
       "criterion:   0%|          | 0/2 [00:00<?, ?it/s]"
      ]
     },
     "metadata": {},
     "output_type": "display_data"
    },
    {
     "data": {
      "application/vnd.jupyter.widget-view+json": {
       "model_id": "",
       "version_major": 2,
       "version_minor": 0
      },
      "text/plain": [
       "splitter:   0%|          | 0/2 [00:00<?, ?it/s]"
      ]
     },
     "metadata": {},
     "output_type": "display_data"
    },
    {
     "data": {
      "application/vnd.jupyter.widget-view+json": {
       "model_id": "",
       "version_major": 2,
       "version_minor": 0
      },
      "text/plain": [
       "splitter:   0%|          | 0/2 [00:00<?, ?it/s]"
      ]
     },
     "metadata": {},
     "output_type": "display_data"
    },
    {
     "data": {
      "application/vnd.jupyter.widget-view+json": {
       "model_id": "",
       "version_major": 2,
       "version_minor": 0
      },
      "text/plain": [
       "criterion:   0%|          | 0/2 [00:00<?, ?it/s]"
      ]
     },
     "metadata": {},
     "output_type": "display_data"
    },
    {
     "data": {
      "application/vnd.jupyter.widget-view+json": {
       "model_id": "",
       "version_major": 2,
       "version_minor": 0
      },
      "text/plain": [
       "splitter:   0%|          | 0/2 [00:00<?, ?it/s]"
      ]
     },
     "metadata": {},
     "output_type": "display_data"
    },
    {
     "data": {
      "application/vnd.jupyter.widget-view+json": {
       "model_id": "",
       "version_major": 2,
       "version_minor": 0
      },
      "text/plain": [
       "splitter:   0%|          | 0/2 [00:00<?, ?it/s]"
      ]
     },
     "metadata": {},
     "output_type": "display_data"
    },
    {
     "name": "stdout",
     "output_type": "stream",
     "text": [
      "Лучшая модель: DecisionTreeClassifier(class_weight='balanced', criterion='entropy',\n",
      "                       max_depth=9, random_state=0, splitter='random')\n",
      "CPU times: user 1.33 s, sys: 78.8 ms, total: 1.41 s\n",
      "Wall time: 2.1 s\n"
     ]
    }
   ],
   "source": [
    "%%time\n",
    "\n",
    "best_model = None\n",
    "best_result = 0\n",
    "\n",
    "p_max_depth = np.arange(1, 11, 1)\n",
    "p_criterion = ['gini', 'entropy']\n",
    "p_splitter = ['best', 'random']\n",
    "\n",
    "# обучим модель в цикле с различными гиперпараметрами и выберем лучшую:\n",
    "for max_depth in tqdm(p_max_depth, position=0, desc='max_depth', leave=True):\n",
    "    for criterion in tqdm(p_criterion, position=1, desc='criterion', leave=False):\n",
    "        for splitter in tqdm(p_splitter, position=2, desc='splitter', leave=False):\n",
    "            model = DecisionTreeClassifier(random_state=0, \n",
    "                                           criterion=criterion, \n",
    "                                           splitter=splitter, \n",
    "                                           max_depth=max_depth,\n",
    "                                           class_weight='balanced')\n",
    "            model.fit(X_train, y_train)\n",
    "            y_pred = model.predict(X_valid)\n",
    "            result = f1_score(y_valid, y_pred)\n",
    "            if result > best_result:\n",
    "                decision_tree_classifier_balanced = model\n",
    "                best_result = result\n",
    "                \n",
    "print('Лучшая модель:', decision_tree_classifier_balanced)"
   ]
  },
  {
   "cell_type": "markdown",
   "metadata": {},
   "source": [
    "#### Алгоритм `RandomForestClassifier`"
   ]
  },
  {
   "cell_type": "code",
   "execution_count": 36,
   "metadata": {
    "scrolled": true
   },
   "outputs": [
    {
     "data": {
      "application/vnd.jupyter.widget-view+json": {
       "model_id": "feab3b4c65694a4ea685176a6c4e14ac",
       "version_major": 2,
       "version_minor": 0
      },
      "text/plain": [
       "max_depth:   0%|          | 0/10 [00:00<?, ?it/s]"
      ]
     },
     "metadata": {},
     "output_type": "display_data"
    },
    {
     "data": {
      "application/vnd.jupyter.widget-view+json": {
       "model_id": "",
       "version_major": 2,
       "version_minor": 0
      },
      "text/plain": [
       "n_estimators:   0%|          | 0/10 [00:00<?, ?it/s]"
      ]
     },
     "metadata": {},
     "output_type": "display_data"
    },
    {
     "data": {
      "application/vnd.jupyter.widget-view+json": {
       "model_id": "",
       "version_major": 2,
       "version_minor": 0
      },
      "text/plain": [
       "criterion:   0%|          | 0/2 [00:00<?, ?it/s]"
      ]
     },
     "metadata": {},
     "output_type": "display_data"
    },
    {
     "data": {
      "application/vnd.jupyter.widget-view+json": {
       "model_id": "",
       "version_major": 2,
       "version_minor": 0
      },
      "text/plain": [
       "criterion:   0%|          | 0/2 [00:00<?, ?it/s]"
      ]
     },
     "metadata": {},
     "output_type": "display_data"
    },
    {
     "data": {
      "application/vnd.jupyter.widget-view+json": {
       "model_id": "",
       "version_major": 2,
       "version_minor": 0
      },
      "text/plain": [
       "criterion:   0%|          | 0/2 [00:00<?, ?it/s]"
      ]
     },
     "metadata": {},
     "output_type": "display_data"
    },
    {
     "data": {
      "application/vnd.jupyter.widget-view+json": {
       "model_id": "",
       "version_major": 2,
       "version_minor": 0
      },
      "text/plain": [
       "criterion:   0%|          | 0/2 [00:00<?, ?it/s]"
      ]
     },
     "metadata": {},
     "output_type": "display_data"
    },
    {
     "data": {
      "application/vnd.jupyter.widget-view+json": {
       "model_id": "",
       "version_major": 2,
       "version_minor": 0
      },
      "text/plain": [
       "criterion:   0%|          | 0/2 [00:00<?, ?it/s]"
      ]
     },
     "metadata": {},
     "output_type": "display_data"
    },
    {
     "data": {
      "application/vnd.jupyter.widget-view+json": {
       "model_id": "",
       "version_major": 2,
       "version_minor": 0
      },
      "text/plain": [
       "criterion:   0%|          | 0/2 [00:00<?, ?it/s]"
      ]
     },
     "metadata": {},
     "output_type": "display_data"
    },
    {
     "data": {
      "application/vnd.jupyter.widget-view+json": {
       "model_id": "",
       "version_major": 2,
       "version_minor": 0
      },
      "text/plain": [
       "criterion:   0%|          | 0/2 [00:00<?, ?it/s]"
      ]
     },
     "metadata": {},
     "output_type": "display_data"
    },
    {
     "data": {
      "application/vnd.jupyter.widget-view+json": {
       "model_id": "",
       "version_major": 2,
       "version_minor": 0
      },
      "text/plain": [
       "criterion:   0%|          | 0/2 [00:00<?, ?it/s]"
      ]
     },
     "metadata": {},
     "output_type": "display_data"
    },
    {
     "data": {
      "application/vnd.jupyter.widget-view+json": {
       "model_id": "",
       "version_major": 2,
       "version_minor": 0
      },
      "text/plain": [
       "criterion:   0%|          | 0/2 [00:00<?, ?it/s]"
      ]
     },
     "metadata": {},
     "output_type": "display_data"
    },
    {
     "data": {
      "application/vnd.jupyter.widget-view+json": {
       "model_id": "",
       "version_major": 2,
       "version_minor": 0
      },
      "text/plain": [
       "criterion:   0%|          | 0/2 [00:00<?, ?it/s]"
      ]
     },
     "metadata": {},
     "output_type": "display_data"
    },
    {
     "data": {
      "application/vnd.jupyter.widget-view+json": {
       "model_id": "",
       "version_major": 2,
       "version_minor": 0
      },
      "text/plain": [
       "n_estimators:   0%|          | 0/10 [00:00<?, ?it/s]"
      ]
     },
     "metadata": {},
     "output_type": "display_data"
    },
    {
     "data": {
      "application/vnd.jupyter.widget-view+json": {
       "model_id": "",
       "version_major": 2,
       "version_minor": 0
      },
      "text/plain": [
       "criterion:   0%|          | 0/2 [00:00<?, ?it/s]"
      ]
     },
     "metadata": {},
     "output_type": "display_data"
    },
    {
     "data": {
      "application/vnd.jupyter.widget-view+json": {
       "model_id": "",
       "version_major": 2,
       "version_minor": 0
      },
      "text/plain": [
       "criterion:   0%|          | 0/2 [00:00<?, ?it/s]"
      ]
     },
     "metadata": {},
     "output_type": "display_data"
    },
    {
     "data": {
      "application/vnd.jupyter.widget-view+json": {
       "model_id": "",
       "version_major": 2,
       "version_minor": 0
      },
      "text/plain": [
       "criterion:   0%|          | 0/2 [00:00<?, ?it/s]"
      ]
     },
     "metadata": {},
     "output_type": "display_data"
    },
    {
     "data": {
      "application/vnd.jupyter.widget-view+json": {
       "model_id": "",
       "version_major": 2,
       "version_minor": 0
      },
      "text/plain": [
       "criterion:   0%|          | 0/2 [00:00<?, ?it/s]"
      ]
     },
     "metadata": {},
     "output_type": "display_data"
    },
    {
     "data": {
      "application/vnd.jupyter.widget-view+json": {
       "model_id": "",
       "version_major": 2,
       "version_minor": 0
      },
      "text/plain": [
       "criterion:   0%|          | 0/2 [00:00<?, ?it/s]"
      ]
     },
     "metadata": {},
     "output_type": "display_data"
    },
    {
     "data": {
      "application/vnd.jupyter.widget-view+json": {
       "model_id": "",
       "version_major": 2,
       "version_minor": 0
      },
      "text/plain": [
       "criterion:   0%|          | 0/2 [00:00<?, ?it/s]"
      ]
     },
     "metadata": {},
     "output_type": "display_data"
    },
    {
     "data": {
      "application/vnd.jupyter.widget-view+json": {
       "model_id": "",
       "version_major": 2,
       "version_minor": 0
      },
      "text/plain": [
       "criterion:   0%|          | 0/2 [00:00<?, ?it/s]"
      ]
     },
     "metadata": {},
     "output_type": "display_data"
    },
    {
     "data": {
      "application/vnd.jupyter.widget-view+json": {
       "model_id": "",
       "version_major": 2,
       "version_minor": 0
      },
      "text/plain": [
       "criterion:   0%|          | 0/2 [00:00<?, ?it/s]"
      ]
     },
     "metadata": {},
     "output_type": "display_data"
    },
    {
     "data": {
      "application/vnd.jupyter.widget-view+json": {
       "model_id": "",
       "version_major": 2,
       "version_minor": 0
      },
      "text/plain": [
       "criterion:   0%|          | 0/2 [00:00<?, ?it/s]"
      ]
     },
     "metadata": {},
     "output_type": "display_data"
    },
    {
     "data": {
      "application/vnd.jupyter.widget-view+json": {
       "model_id": "",
       "version_major": 2,
       "version_minor": 0
      },
      "text/plain": [
       "criterion:   0%|          | 0/2 [00:00<?, ?it/s]"
      ]
     },
     "metadata": {},
     "output_type": "display_data"
    },
    {
     "data": {
      "application/vnd.jupyter.widget-view+json": {
       "model_id": "",
       "version_major": 2,
       "version_minor": 0
      },
      "text/plain": [
       "n_estimators:   0%|          | 0/10 [00:00<?, ?it/s]"
      ]
     },
     "metadata": {},
     "output_type": "display_data"
    },
    {
     "data": {
      "application/vnd.jupyter.widget-view+json": {
       "model_id": "",
       "version_major": 2,
       "version_minor": 0
      },
      "text/plain": [
       "criterion:   0%|          | 0/2 [00:00<?, ?it/s]"
      ]
     },
     "metadata": {},
     "output_type": "display_data"
    },
    {
     "data": {
      "application/vnd.jupyter.widget-view+json": {
       "model_id": "",
       "version_major": 2,
       "version_minor": 0
      },
      "text/plain": [
       "criterion:   0%|          | 0/2 [00:00<?, ?it/s]"
      ]
     },
     "metadata": {},
     "output_type": "display_data"
    },
    {
     "data": {
      "application/vnd.jupyter.widget-view+json": {
       "model_id": "",
       "version_major": 2,
       "version_minor": 0
      },
      "text/plain": [
       "criterion:   0%|          | 0/2 [00:00<?, ?it/s]"
      ]
     },
     "metadata": {},
     "output_type": "display_data"
    },
    {
     "data": {
      "application/vnd.jupyter.widget-view+json": {
       "model_id": "",
       "version_major": 2,
       "version_minor": 0
      },
      "text/plain": [
       "criterion:   0%|          | 0/2 [00:00<?, ?it/s]"
      ]
     },
     "metadata": {},
     "output_type": "display_data"
    },
    {
     "data": {
      "application/vnd.jupyter.widget-view+json": {
       "model_id": "",
       "version_major": 2,
       "version_minor": 0
      },
      "text/plain": [
       "criterion:   0%|          | 0/2 [00:00<?, ?it/s]"
      ]
     },
     "metadata": {},
     "output_type": "display_data"
    },
    {
     "data": {
      "application/vnd.jupyter.widget-view+json": {
       "model_id": "",
       "version_major": 2,
       "version_minor": 0
      },
      "text/plain": [
       "criterion:   0%|          | 0/2 [00:00<?, ?it/s]"
      ]
     },
     "metadata": {},
     "output_type": "display_data"
    },
    {
     "data": {
      "application/vnd.jupyter.widget-view+json": {
       "model_id": "",
       "version_major": 2,
       "version_minor": 0
      },
      "text/plain": [
       "criterion:   0%|          | 0/2 [00:00<?, ?it/s]"
      ]
     },
     "metadata": {},
     "output_type": "display_data"
    },
    {
     "data": {
      "application/vnd.jupyter.widget-view+json": {
       "model_id": "",
       "version_major": 2,
       "version_minor": 0
      },
      "text/plain": [
       "criterion:   0%|          | 0/2 [00:00<?, ?it/s]"
      ]
     },
     "metadata": {},
     "output_type": "display_data"
    },
    {
     "data": {
      "application/vnd.jupyter.widget-view+json": {
       "model_id": "",
       "version_major": 2,
       "version_minor": 0
      },
      "text/plain": [
       "criterion:   0%|          | 0/2 [00:00<?, ?it/s]"
      ]
     },
     "metadata": {},
     "output_type": "display_data"
    },
    {
     "data": {
      "application/vnd.jupyter.widget-view+json": {
       "model_id": "",
       "version_major": 2,
       "version_minor": 0
      },
      "text/plain": [
       "criterion:   0%|          | 0/2 [00:00<?, ?it/s]"
      ]
     },
     "metadata": {},
     "output_type": "display_data"
    },
    {
     "data": {
      "application/vnd.jupyter.widget-view+json": {
       "model_id": "",
       "version_major": 2,
       "version_minor": 0
      },
      "text/plain": [
       "n_estimators:   0%|          | 0/10 [00:00<?, ?it/s]"
      ]
     },
     "metadata": {},
     "output_type": "display_data"
    },
    {
     "data": {
      "application/vnd.jupyter.widget-view+json": {
       "model_id": "",
       "version_major": 2,
       "version_minor": 0
      },
      "text/plain": [
       "criterion:   0%|          | 0/2 [00:00<?, ?it/s]"
      ]
     },
     "metadata": {},
     "output_type": "display_data"
    },
    {
     "data": {
      "application/vnd.jupyter.widget-view+json": {
       "model_id": "",
       "version_major": 2,
       "version_minor": 0
      },
      "text/plain": [
       "criterion:   0%|          | 0/2 [00:00<?, ?it/s]"
      ]
     },
     "metadata": {},
     "output_type": "display_data"
    },
    {
     "data": {
      "application/vnd.jupyter.widget-view+json": {
       "model_id": "",
       "version_major": 2,
       "version_minor": 0
      },
      "text/plain": [
       "criterion:   0%|          | 0/2 [00:00<?, ?it/s]"
      ]
     },
     "metadata": {},
     "output_type": "display_data"
    },
    {
     "data": {
      "application/vnd.jupyter.widget-view+json": {
       "model_id": "",
       "version_major": 2,
       "version_minor": 0
      },
      "text/plain": [
       "criterion:   0%|          | 0/2 [00:00<?, ?it/s]"
      ]
     },
     "metadata": {},
     "output_type": "display_data"
    },
    {
     "data": {
      "application/vnd.jupyter.widget-view+json": {
       "model_id": "",
       "version_major": 2,
       "version_minor": 0
      },
      "text/plain": [
       "criterion:   0%|          | 0/2 [00:00<?, ?it/s]"
      ]
     },
     "metadata": {},
     "output_type": "display_data"
    },
    {
     "data": {
      "application/vnd.jupyter.widget-view+json": {
       "model_id": "",
       "version_major": 2,
       "version_minor": 0
      },
      "text/plain": [
       "criterion:   0%|          | 0/2 [00:00<?, ?it/s]"
      ]
     },
     "metadata": {},
     "output_type": "display_data"
    },
    {
     "data": {
      "application/vnd.jupyter.widget-view+json": {
       "model_id": "",
       "version_major": 2,
       "version_minor": 0
      },
      "text/plain": [
       "criterion:   0%|          | 0/2 [00:00<?, ?it/s]"
      ]
     },
     "metadata": {},
     "output_type": "display_data"
    },
    {
     "data": {
      "application/vnd.jupyter.widget-view+json": {
       "model_id": "",
       "version_major": 2,
       "version_minor": 0
      },
      "text/plain": [
       "criterion:   0%|          | 0/2 [00:00<?, ?it/s]"
      ]
     },
     "metadata": {},
     "output_type": "display_data"
    },
    {
     "data": {
      "application/vnd.jupyter.widget-view+json": {
       "model_id": "",
       "version_major": 2,
       "version_minor": 0
      },
      "text/plain": [
       "criterion:   0%|          | 0/2 [00:00<?, ?it/s]"
      ]
     },
     "metadata": {},
     "output_type": "display_data"
    },
    {
     "data": {
      "application/vnd.jupyter.widget-view+json": {
       "model_id": "",
       "version_major": 2,
       "version_minor": 0
      },
      "text/plain": [
       "criterion:   0%|          | 0/2 [00:00<?, ?it/s]"
      ]
     },
     "metadata": {},
     "output_type": "display_data"
    },
    {
     "data": {
      "application/vnd.jupyter.widget-view+json": {
       "model_id": "",
       "version_major": 2,
       "version_minor": 0
      },
      "text/plain": [
       "n_estimators:   0%|          | 0/10 [00:00<?, ?it/s]"
      ]
     },
     "metadata": {},
     "output_type": "display_data"
    },
    {
     "data": {
      "application/vnd.jupyter.widget-view+json": {
       "model_id": "",
       "version_major": 2,
       "version_minor": 0
      },
      "text/plain": [
       "criterion:   0%|          | 0/2 [00:00<?, ?it/s]"
      ]
     },
     "metadata": {},
     "output_type": "display_data"
    },
    {
     "data": {
      "application/vnd.jupyter.widget-view+json": {
       "model_id": "",
       "version_major": 2,
       "version_minor": 0
      },
      "text/plain": [
       "criterion:   0%|          | 0/2 [00:00<?, ?it/s]"
      ]
     },
     "metadata": {},
     "output_type": "display_data"
    },
    {
     "data": {
      "application/vnd.jupyter.widget-view+json": {
       "model_id": "",
       "version_major": 2,
       "version_minor": 0
      },
      "text/plain": [
       "criterion:   0%|          | 0/2 [00:00<?, ?it/s]"
      ]
     },
     "metadata": {},
     "output_type": "display_data"
    },
    {
     "data": {
      "application/vnd.jupyter.widget-view+json": {
       "model_id": "",
       "version_major": 2,
       "version_minor": 0
      },
      "text/plain": [
       "criterion:   0%|          | 0/2 [00:00<?, ?it/s]"
      ]
     },
     "metadata": {},
     "output_type": "display_data"
    },
    {
     "data": {
      "application/vnd.jupyter.widget-view+json": {
       "model_id": "",
       "version_major": 2,
       "version_minor": 0
      },
      "text/plain": [
       "criterion:   0%|          | 0/2 [00:00<?, ?it/s]"
      ]
     },
     "metadata": {},
     "output_type": "display_data"
    },
    {
     "data": {
      "application/vnd.jupyter.widget-view+json": {
       "model_id": "",
       "version_major": 2,
       "version_minor": 0
      },
      "text/plain": [
       "criterion:   0%|          | 0/2 [00:00<?, ?it/s]"
      ]
     },
     "metadata": {},
     "output_type": "display_data"
    },
    {
     "data": {
      "application/vnd.jupyter.widget-view+json": {
       "model_id": "",
       "version_major": 2,
       "version_minor": 0
      },
      "text/plain": [
       "criterion:   0%|          | 0/2 [00:00<?, ?it/s]"
      ]
     },
     "metadata": {},
     "output_type": "display_data"
    },
    {
     "data": {
      "application/vnd.jupyter.widget-view+json": {
       "model_id": "",
       "version_major": 2,
       "version_minor": 0
      },
      "text/plain": [
       "criterion:   0%|          | 0/2 [00:00<?, ?it/s]"
      ]
     },
     "metadata": {},
     "output_type": "display_data"
    },
    {
     "data": {
      "application/vnd.jupyter.widget-view+json": {
       "model_id": "",
       "version_major": 2,
       "version_minor": 0
      },
      "text/plain": [
       "criterion:   0%|          | 0/2 [00:00<?, ?it/s]"
      ]
     },
     "metadata": {},
     "output_type": "display_data"
    },
    {
     "data": {
      "application/vnd.jupyter.widget-view+json": {
       "model_id": "",
       "version_major": 2,
       "version_minor": 0
      },
      "text/plain": [
       "criterion:   0%|          | 0/2 [00:00<?, ?it/s]"
      ]
     },
     "metadata": {},
     "output_type": "display_data"
    },
    {
     "data": {
      "application/vnd.jupyter.widget-view+json": {
       "model_id": "",
       "version_major": 2,
       "version_minor": 0
      },
      "text/plain": [
       "n_estimators:   0%|          | 0/10 [00:00<?, ?it/s]"
      ]
     },
     "metadata": {},
     "output_type": "display_data"
    },
    {
     "data": {
      "application/vnd.jupyter.widget-view+json": {
       "model_id": "",
       "version_major": 2,
       "version_minor": 0
      },
      "text/plain": [
       "criterion:   0%|          | 0/2 [00:00<?, ?it/s]"
      ]
     },
     "metadata": {},
     "output_type": "display_data"
    },
    {
     "data": {
      "application/vnd.jupyter.widget-view+json": {
       "model_id": "",
       "version_major": 2,
       "version_minor": 0
      },
      "text/plain": [
       "criterion:   0%|          | 0/2 [00:00<?, ?it/s]"
      ]
     },
     "metadata": {},
     "output_type": "display_data"
    },
    {
     "data": {
      "application/vnd.jupyter.widget-view+json": {
       "model_id": "",
       "version_major": 2,
       "version_minor": 0
      },
      "text/plain": [
       "criterion:   0%|          | 0/2 [00:00<?, ?it/s]"
      ]
     },
     "metadata": {},
     "output_type": "display_data"
    },
    {
     "data": {
      "application/vnd.jupyter.widget-view+json": {
       "model_id": "",
       "version_major": 2,
       "version_minor": 0
      },
      "text/plain": [
       "criterion:   0%|          | 0/2 [00:00<?, ?it/s]"
      ]
     },
     "metadata": {},
     "output_type": "display_data"
    },
    {
     "data": {
      "application/vnd.jupyter.widget-view+json": {
       "model_id": "",
       "version_major": 2,
       "version_minor": 0
      },
      "text/plain": [
       "criterion:   0%|          | 0/2 [00:00<?, ?it/s]"
      ]
     },
     "metadata": {},
     "output_type": "display_data"
    },
    {
     "data": {
      "application/vnd.jupyter.widget-view+json": {
       "model_id": "",
       "version_major": 2,
       "version_minor": 0
      },
      "text/plain": [
       "criterion:   0%|          | 0/2 [00:00<?, ?it/s]"
      ]
     },
     "metadata": {},
     "output_type": "display_data"
    },
    {
     "data": {
      "application/vnd.jupyter.widget-view+json": {
       "model_id": "",
       "version_major": 2,
       "version_minor": 0
      },
      "text/plain": [
       "criterion:   0%|          | 0/2 [00:00<?, ?it/s]"
      ]
     },
     "metadata": {},
     "output_type": "display_data"
    },
    {
     "data": {
      "application/vnd.jupyter.widget-view+json": {
       "model_id": "",
       "version_major": 2,
       "version_minor": 0
      },
      "text/plain": [
       "criterion:   0%|          | 0/2 [00:00<?, ?it/s]"
      ]
     },
     "metadata": {},
     "output_type": "display_data"
    },
    {
     "data": {
      "application/vnd.jupyter.widget-view+json": {
       "model_id": "",
       "version_major": 2,
       "version_minor": 0
      },
      "text/plain": [
       "criterion:   0%|          | 0/2 [00:00<?, ?it/s]"
      ]
     },
     "metadata": {},
     "output_type": "display_data"
    },
    {
     "data": {
      "application/vnd.jupyter.widget-view+json": {
       "model_id": "",
       "version_major": 2,
       "version_minor": 0
      },
      "text/plain": [
       "criterion:   0%|          | 0/2 [00:00<?, ?it/s]"
      ]
     },
     "metadata": {},
     "output_type": "display_data"
    },
    {
     "data": {
      "application/vnd.jupyter.widget-view+json": {
       "model_id": "",
       "version_major": 2,
       "version_minor": 0
      },
      "text/plain": [
       "n_estimators:   0%|          | 0/10 [00:00<?, ?it/s]"
      ]
     },
     "metadata": {},
     "output_type": "display_data"
    },
    {
     "data": {
      "application/vnd.jupyter.widget-view+json": {
       "model_id": "",
       "version_major": 2,
       "version_minor": 0
      },
      "text/plain": [
       "criterion:   0%|          | 0/2 [00:00<?, ?it/s]"
      ]
     },
     "metadata": {},
     "output_type": "display_data"
    },
    {
     "data": {
      "application/vnd.jupyter.widget-view+json": {
       "model_id": "",
       "version_major": 2,
       "version_minor": 0
      },
      "text/plain": [
       "criterion:   0%|          | 0/2 [00:00<?, ?it/s]"
      ]
     },
     "metadata": {},
     "output_type": "display_data"
    },
    {
     "data": {
      "application/vnd.jupyter.widget-view+json": {
       "model_id": "",
       "version_major": 2,
       "version_minor": 0
      },
      "text/plain": [
       "criterion:   0%|          | 0/2 [00:00<?, ?it/s]"
      ]
     },
     "metadata": {},
     "output_type": "display_data"
    },
    {
     "data": {
      "application/vnd.jupyter.widget-view+json": {
       "model_id": "",
       "version_major": 2,
       "version_minor": 0
      },
      "text/plain": [
       "criterion:   0%|          | 0/2 [00:00<?, ?it/s]"
      ]
     },
     "metadata": {},
     "output_type": "display_data"
    },
    {
     "data": {
      "application/vnd.jupyter.widget-view+json": {
       "model_id": "",
       "version_major": 2,
       "version_minor": 0
      },
      "text/plain": [
       "criterion:   0%|          | 0/2 [00:00<?, ?it/s]"
      ]
     },
     "metadata": {},
     "output_type": "display_data"
    },
    {
     "data": {
      "application/vnd.jupyter.widget-view+json": {
       "model_id": "",
       "version_major": 2,
       "version_minor": 0
      },
      "text/plain": [
       "criterion:   0%|          | 0/2 [00:00<?, ?it/s]"
      ]
     },
     "metadata": {},
     "output_type": "display_data"
    },
    {
     "data": {
      "application/vnd.jupyter.widget-view+json": {
       "model_id": "",
       "version_major": 2,
       "version_minor": 0
      },
      "text/plain": [
       "criterion:   0%|          | 0/2 [00:00<?, ?it/s]"
      ]
     },
     "metadata": {},
     "output_type": "display_data"
    },
    {
     "data": {
      "application/vnd.jupyter.widget-view+json": {
       "model_id": "",
       "version_major": 2,
       "version_minor": 0
      },
      "text/plain": [
       "criterion:   0%|          | 0/2 [00:00<?, ?it/s]"
      ]
     },
     "metadata": {},
     "output_type": "display_data"
    },
    {
     "data": {
      "application/vnd.jupyter.widget-view+json": {
       "model_id": "",
       "version_major": 2,
       "version_minor": 0
      },
      "text/plain": [
       "criterion:   0%|          | 0/2 [00:00<?, ?it/s]"
      ]
     },
     "metadata": {},
     "output_type": "display_data"
    },
    {
     "data": {
      "application/vnd.jupyter.widget-view+json": {
       "model_id": "",
       "version_major": 2,
       "version_minor": 0
      },
      "text/plain": [
       "criterion:   0%|          | 0/2 [00:00<?, ?it/s]"
      ]
     },
     "metadata": {},
     "output_type": "display_data"
    },
    {
     "data": {
      "application/vnd.jupyter.widget-view+json": {
       "model_id": "",
       "version_major": 2,
       "version_minor": 0
      },
      "text/plain": [
       "n_estimators:   0%|          | 0/10 [00:00<?, ?it/s]"
      ]
     },
     "metadata": {},
     "output_type": "display_data"
    },
    {
     "data": {
      "application/vnd.jupyter.widget-view+json": {
       "model_id": "",
       "version_major": 2,
       "version_minor": 0
      },
      "text/plain": [
       "criterion:   0%|          | 0/2 [00:00<?, ?it/s]"
      ]
     },
     "metadata": {},
     "output_type": "display_data"
    },
    {
     "data": {
      "application/vnd.jupyter.widget-view+json": {
       "model_id": "",
       "version_major": 2,
       "version_minor": 0
      },
      "text/plain": [
       "criterion:   0%|          | 0/2 [00:00<?, ?it/s]"
      ]
     },
     "metadata": {},
     "output_type": "display_data"
    },
    {
     "data": {
      "application/vnd.jupyter.widget-view+json": {
       "model_id": "",
       "version_major": 2,
       "version_minor": 0
      },
      "text/plain": [
       "criterion:   0%|          | 0/2 [00:00<?, ?it/s]"
      ]
     },
     "metadata": {},
     "output_type": "display_data"
    },
    {
     "data": {
      "application/vnd.jupyter.widget-view+json": {
       "model_id": "",
       "version_major": 2,
       "version_minor": 0
      },
      "text/plain": [
       "criterion:   0%|          | 0/2 [00:00<?, ?it/s]"
      ]
     },
     "metadata": {},
     "output_type": "display_data"
    },
    {
     "data": {
      "application/vnd.jupyter.widget-view+json": {
       "model_id": "",
       "version_major": 2,
       "version_minor": 0
      },
      "text/plain": [
       "criterion:   0%|          | 0/2 [00:00<?, ?it/s]"
      ]
     },
     "metadata": {},
     "output_type": "display_data"
    },
    {
     "data": {
      "application/vnd.jupyter.widget-view+json": {
       "model_id": "",
       "version_major": 2,
       "version_minor": 0
      },
      "text/plain": [
       "criterion:   0%|          | 0/2 [00:00<?, ?it/s]"
      ]
     },
     "metadata": {},
     "output_type": "display_data"
    },
    {
     "data": {
      "application/vnd.jupyter.widget-view+json": {
       "model_id": "",
       "version_major": 2,
       "version_minor": 0
      },
      "text/plain": [
       "criterion:   0%|          | 0/2 [00:00<?, ?it/s]"
      ]
     },
     "metadata": {},
     "output_type": "display_data"
    },
    {
     "data": {
      "application/vnd.jupyter.widget-view+json": {
       "model_id": "",
       "version_major": 2,
       "version_minor": 0
      },
      "text/plain": [
       "criterion:   0%|          | 0/2 [00:00<?, ?it/s]"
      ]
     },
     "metadata": {},
     "output_type": "display_data"
    },
    {
     "data": {
      "application/vnd.jupyter.widget-view+json": {
       "model_id": "",
       "version_major": 2,
       "version_minor": 0
      },
      "text/plain": [
       "criterion:   0%|          | 0/2 [00:00<?, ?it/s]"
      ]
     },
     "metadata": {},
     "output_type": "display_data"
    },
    {
     "data": {
      "application/vnd.jupyter.widget-view+json": {
       "model_id": "",
       "version_major": 2,
       "version_minor": 0
      },
      "text/plain": [
       "criterion:   0%|          | 0/2 [00:00<?, ?it/s]"
      ]
     },
     "metadata": {},
     "output_type": "display_data"
    },
    {
     "data": {
      "application/vnd.jupyter.widget-view+json": {
       "model_id": "",
       "version_major": 2,
       "version_minor": 0
      },
      "text/plain": [
       "n_estimators:   0%|          | 0/10 [00:00<?, ?it/s]"
      ]
     },
     "metadata": {},
     "output_type": "display_data"
    },
    {
     "data": {
      "application/vnd.jupyter.widget-view+json": {
       "model_id": "",
       "version_major": 2,
       "version_minor": 0
      },
      "text/plain": [
       "criterion:   0%|          | 0/2 [00:00<?, ?it/s]"
      ]
     },
     "metadata": {},
     "output_type": "display_data"
    },
    {
     "data": {
      "application/vnd.jupyter.widget-view+json": {
       "model_id": "",
       "version_major": 2,
       "version_minor": 0
      },
      "text/plain": [
       "criterion:   0%|          | 0/2 [00:00<?, ?it/s]"
      ]
     },
     "metadata": {},
     "output_type": "display_data"
    },
    {
     "data": {
      "application/vnd.jupyter.widget-view+json": {
       "model_id": "",
       "version_major": 2,
       "version_minor": 0
      },
      "text/plain": [
       "criterion:   0%|          | 0/2 [00:00<?, ?it/s]"
      ]
     },
     "metadata": {},
     "output_type": "display_data"
    },
    {
     "data": {
      "application/vnd.jupyter.widget-view+json": {
       "model_id": "",
       "version_major": 2,
       "version_minor": 0
      },
      "text/plain": [
       "criterion:   0%|          | 0/2 [00:00<?, ?it/s]"
      ]
     },
     "metadata": {},
     "output_type": "display_data"
    },
    {
     "data": {
      "application/vnd.jupyter.widget-view+json": {
       "model_id": "",
       "version_major": 2,
       "version_minor": 0
      },
      "text/plain": [
       "criterion:   0%|          | 0/2 [00:00<?, ?it/s]"
      ]
     },
     "metadata": {},
     "output_type": "display_data"
    },
    {
     "data": {
      "application/vnd.jupyter.widget-view+json": {
       "model_id": "",
       "version_major": 2,
       "version_minor": 0
      },
      "text/plain": [
       "criterion:   0%|          | 0/2 [00:00<?, ?it/s]"
      ]
     },
     "metadata": {},
     "output_type": "display_data"
    },
    {
     "data": {
      "application/vnd.jupyter.widget-view+json": {
       "model_id": "",
       "version_major": 2,
       "version_minor": 0
      },
      "text/plain": [
       "criterion:   0%|          | 0/2 [00:00<?, ?it/s]"
      ]
     },
     "metadata": {},
     "output_type": "display_data"
    },
    {
     "data": {
      "application/vnd.jupyter.widget-view+json": {
       "model_id": "",
       "version_major": 2,
       "version_minor": 0
      },
      "text/plain": [
       "criterion:   0%|          | 0/2 [00:00<?, ?it/s]"
      ]
     },
     "metadata": {},
     "output_type": "display_data"
    },
    {
     "data": {
      "application/vnd.jupyter.widget-view+json": {
       "model_id": "",
       "version_major": 2,
       "version_minor": 0
      },
      "text/plain": [
       "criterion:   0%|          | 0/2 [00:00<?, ?it/s]"
      ]
     },
     "metadata": {},
     "output_type": "display_data"
    },
    {
     "data": {
      "application/vnd.jupyter.widget-view+json": {
       "model_id": "",
       "version_major": 2,
       "version_minor": 0
      },
      "text/plain": [
       "criterion:   0%|          | 0/2 [00:00<?, ?it/s]"
      ]
     },
     "metadata": {},
     "output_type": "display_data"
    },
    {
     "data": {
      "application/vnd.jupyter.widget-view+json": {
       "model_id": "",
       "version_major": 2,
       "version_minor": 0
      },
      "text/plain": [
       "n_estimators:   0%|          | 0/10 [00:00<?, ?it/s]"
      ]
     },
     "metadata": {},
     "output_type": "display_data"
    },
    {
     "data": {
      "application/vnd.jupyter.widget-view+json": {
       "model_id": "",
       "version_major": 2,
       "version_minor": 0
      },
      "text/plain": [
       "criterion:   0%|          | 0/2 [00:00<?, ?it/s]"
      ]
     },
     "metadata": {},
     "output_type": "display_data"
    },
    {
     "data": {
      "application/vnd.jupyter.widget-view+json": {
       "model_id": "",
       "version_major": 2,
       "version_minor": 0
      },
      "text/plain": [
       "criterion:   0%|          | 0/2 [00:00<?, ?it/s]"
      ]
     },
     "metadata": {},
     "output_type": "display_data"
    },
    {
     "data": {
      "application/vnd.jupyter.widget-view+json": {
       "model_id": "",
       "version_major": 2,
       "version_minor": 0
      },
      "text/plain": [
       "criterion:   0%|          | 0/2 [00:00<?, ?it/s]"
      ]
     },
     "metadata": {},
     "output_type": "display_data"
    },
    {
     "data": {
      "application/vnd.jupyter.widget-view+json": {
       "model_id": "",
       "version_major": 2,
       "version_minor": 0
      },
      "text/plain": [
       "criterion:   0%|          | 0/2 [00:00<?, ?it/s]"
      ]
     },
     "metadata": {},
     "output_type": "display_data"
    },
    {
     "data": {
      "application/vnd.jupyter.widget-view+json": {
       "model_id": "",
       "version_major": 2,
       "version_minor": 0
      },
      "text/plain": [
       "criterion:   0%|          | 0/2 [00:00<?, ?it/s]"
      ]
     },
     "metadata": {},
     "output_type": "display_data"
    },
    {
     "data": {
      "application/vnd.jupyter.widget-view+json": {
       "model_id": "",
       "version_major": 2,
       "version_minor": 0
      },
      "text/plain": [
       "criterion:   0%|          | 0/2 [00:00<?, ?it/s]"
      ]
     },
     "metadata": {},
     "output_type": "display_data"
    },
    {
     "data": {
      "application/vnd.jupyter.widget-view+json": {
       "model_id": "",
       "version_major": 2,
       "version_minor": 0
      },
      "text/plain": [
       "criterion:   0%|          | 0/2 [00:00<?, ?it/s]"
      ]
     },
     "metadata": {},
     "output_type": "display_data"
    },
    {
     "data": {
      "application/vnd.jupyter.widget-view+json": {
       "model_id": "",
       "version_major": 2,
       "version_minor": 0
      },
      "text/plain": [
       "criterion:   0%|          | 0/2 [00:00<?, ?it/s]"
      ]
     },
     "metadata": {},
     "output_type": "display_data"
    },
    {
     "data": {
      "application/vnd.jupyter.widget-view+json": {
       "model_id": "",
       "version_major": 2,
       "version_minor": 0
      },
      "text/plain": [
       "criterion:   0%|          | 0/2 [00:00<?, ?it/s]"
      ]
     },
     "metadata": {},
     "output_type": "display_data"
    },
    {
     "data": {
      "application/vnd.jupyter.widget-view+json": {
       "model_id": "",
       "version_major": 2,
       "version_minor": 0
      },
      "text/plain": [
       "criterion:   0%|          | 0/2 [00:00<?, ?it/s]"
      ]
     },
     "metadata": {},
     "output_type": "display_data"
    },
    {
     "name": "stdout",
     "output_type": "stream",
     "text": [
      "Лучшая модель: RandomForestClassifier(class_weight='balanced', criterion='entropy',\n",
      "                       max_depth=7, n_estimators=50, random_state=0)\n",
      "CPU times: user 29.4 s, sys: 423 ms, total: 29.8 s\n",
      "Wall time: 33 s\n"
     ]
    }
   ],
   "source": [
    "%%time\n",
    "\n",
    "best_model = None\n",
    "best_result = 0\n",
    "\n",
    "p_max_depth = np.arange(1, 11, 1)\n",
    "p_estimators = np.arange(5, 55, 5)\n",
    "p_criterion = ['gini', 'entropy']\n",
    "\n",
    "# обучим модель в цикле с различными гиперпараметрами и выберем лучшую:\n",
    "for max_depth in tqdm(p_max_depth, position=0, desc='max_depth', leave=True):\n",
    "    for n_estimators in tqdm(p_estimators, position=1, desc='n_estimators', leave=False):\n",
    "        for criterion in tqdm(p_criterion, position=2, desc='criterion', leave=False):\n",
    "            model = RandomForestClassifier(random_state=0, \n",
    "                                           criterion=criterion, \n",
    "                                           n_estimators=n_estimators, \n",
    "                                           max_depth=max_depth,\n",
    "                                           class_weight='balanced')\n",
    "            model.fit(X_train, y_train)\n",
    "            y_pred = model.predict(X_valid)\n",
    "            result = f1_score(y_valid, y_pred)\n",
    "            if result > best_result:\n",
    "                random_forest_classifier_balanced = model\n",
    "                best_result = result\n",
    "                \n",
    "print('Лучшая модель:', random_forest_classifier_balanced)"
   ]
  },
  {
   "cell_type": "markdown",
   "metadata": {},
   "source": [
    "#### Алгоритм `LogisticRegression`"
   ]
  },
  {
   "cell_type": "code",
   "execution_count": 37,
   "metadata": {},
   "outputs": [
    {
     "data": {
      "application/vnd.jupyter.widget-view+json": {
       "model_id": "e0896e470d2e404597b13f7ea8462e3b",
       "version_major": 2,
       "version_minor": 0
      },
      "text/plain": [
       "solver:   0%|          | 0/5 [00:00<?, ?it/s]"
      ]
     },
     "metadata": {},
     "output_type": "display_data"
    },
    {
     "name": "stdout",
     "output_type": "stream",
     "text": [
      "Лучшая модель: LogisticRegression(class_weight='balanced', max_iter=1000, random_state=0,\n",
      "                   solver='liblinear')\n",
      "CPU times: user 564 ms, sys: 599 ms, total: 1.16 s\n",
      "Wall time: 1.2 s\n"
     ]
    }
   ],
   "source": [
    "%%time\n",
    "\n",
    "best_model = None\n",
    "best_result = 0\n",
    "\n",
    "p_solver = ['newton-cg', 'lbfgs', 'liblinear', 'sag', 'saga']\n",
    "\n",
    "# обучим модель в цикле с различными гиперпараметрами и выберем лучшую:\n",
    "for solver in tqdm(p_solver, position=0, desc='solver', leave=True):\n",
    "        model = LogisticRegression(random_state=0,\n",
    "                                   solver=solver,\n",
    "                                   penalty='l2',\n",
    "                                   max_iter=1000,\n",
    "                                   class_weight='balanced')\n",
    "        model.fit(X_train, y_train)\n",
    "        y_pred = model.predict(X_valid)\n",
    "        result = f1_score(y_valid, y_pred)\n",
    "        if result > best_result:\n",
    "            logistic_regression_balanced = model\n",
    "            best_result = result\n",
    "        \n",
    "print('Лучшая модель:', logistic_regression_balanced)"
   ]
  },
  {
   "cell_type": "markdown",
   "metadata": {},
   "source": [
    "Оценим качество моделей на валидационной выборке:"
   ]
  },
  {
   "cell_type": "code",
   "execution_count": 38,
   "metadata": {
    "scrolled": true
   },
   "outputs": [
    {
     "data": {
      "text/html": [
       "<div>\n",
       "<style scoped>\n",
       "    .dataframe tbody tr th:only-of-type {\n",
       "        vertical-align: middle;\n",
       "    }\n",
       "\n",
       "    .dataframe tbody tr th {\n",
       "        vertical-align: top;\n",
       "    }\n",
       "\n",
       "    .dataframe thead th {\n",
       "        text-align: right;\n",
       "    }\n",
       "</style>\n",
       "<table border=\"1\" class=\"dataframe\">\n",
       "  <thead>\n",
       "    <tr style=\"text-align: right;\">\n",
       "      <th></th>\n",
       "      <th>DecisionTreeClassifier</th>\n",
       "      <th>RandomForestClassifier</th>\n",
       "      <th>GradientBoostingClassifier</th>\n",
       "      <th>LogisticRegression</th>\n",
       "    </tr>\n",
       "  </thead>\n",
       "  <tbody>\n",
       "    <tr>\n",
       "      <th>Accuracy</th>\n",
       "      <td>0.81</td>\n",
       "      <td>0.82</td>\n",
       "      <td>0.82</td>\n",
       "      <td>0.71</td>\n",
       "    </tr>\n",
       "    <tr>\n",
       "      <th>Precision</th>\n",
       "      <td>0.52</td>\n",
       "      <td>0.55</td>\n",
       "      <td>0.54</td>\n",
       "      <td>0.39</td>\n",
       "    </tr>\n",
       "    <tr>\n",
       "      <th>Recall</th>\n",
       "      <td>0.63</td>\n",
       "      <td>0.73</td>\n",
       "      <td>0.68</td>\n",
       "      <td>0.74</td>\n",
       "    </tr>\n",
       "    <tr>\n",
       "      <th>Specificity</th>\n",
       "      <td>0.85</td>\n",
       "      <td>0.85</td>\n",
       "      <td>0.85</td>\n",
       "      <td>0.71</td>\n",
       "    </tr>\n",
       "    <tr>\n",
       "      <th>F1</th>\n",
       "      <td>0.57</td>\n",
       "      <td>0.63</td>\n",
       "      <td>0.60</td>\n",
       "      <td>0.51</td>\n",
       "    </tr>\n",
       "    <tr>\n",
       "      <th>ROC_AUC</th>\n",
       "      <td>0.79</td>\n",
       "      <td>0.87</td>\n",
       "      <td>0.86</td>\n",
       "      <td>0.78</td>\n",
       "    </tr>\n",
       "  </tbody>\n",
       "</table>\n",
       "</div>"
      ],
      "text/plain": [
       "            DecisionTreeClassifier RandomForestClassifier  \\\n",
       "Accuracy                      0.81                   0.82   \n",
       "Precision                     0.52                   0.55   \n",
       "Recall                        0.63                   0.73   \n",
       "Specificity                   0.85                   0.85   \n",
       "F1                            0.57                   0.63   \n",
       "ROC_AUC                       0.79                   0.87   \n",
       "\n",
       "            GradientBoostingClassifier LogisticRegression  \n",
       "Accuracy                          0.82               0.71  \n",
       "Precision                         0.54               0.39  \n",
       "Recall                            0.68               0.74  \n",
       "Specificity                       0.85               0.71  \n",
       "F1                                0.60               0.51  \n",
       "ROC_AUC                           0.86               0.78  "
      ]
     },
     "metadata": {},
     "output_type": "display_data"
    }
   ],
   "source": [
    "# создадим пустой список:\n",
    "results=[]\n",
    "\n",
    "# зададим список моделей:\n",
    "models = [decision_tree_classifier_balanced,\n",
    "          random_forest_classifier_balanced,\n",
    "          gradient_boosting_classifier,\n",
    "          logistic_regression_balanced]\n",
    "\n",
    "# создадим датафрейм с метриками:\n",
    "for model in models:\n",
    "    make_prediction(model=model, X_train=X_train_upsampled, y_train=y_train_upsampled, X_test=X_valid, y_test=y_valid)\n",
    "    \n",
    "display(pd.DataFrame(results).T)"
   ]
  },
  {
   "cell_type": "markdown",
   "metadata": {},
   "source": [
    "Построим ROC-кривые для моделей:"
   ]
  },
  {
   "cell_type": "code",
   "execution_count": 39,
   "metadata": {
    "scrolled": false
   },
   "outputs": [
    {
     "data": {
      "image/png": "[encoded data removed]",
      "text/plain": [
       "<Figure size 720x576 with 1 Axes>"
      ]
     },
     "metadata": {
      "needs_background": "light"
     },
     "output_type": "display_data"
    }
   ],
   "source": [
    "plt.figure(figsize=(10, 8))\n",
    "\n",
    "for model in models:\n",
    "    fpr, tpr, thresholds = roc_curve(y_valid, model.predict_proba(X_valid)[:,1], pos_label=1)\n",
    "    plt.plot(fpr, tpr, lw=2,  label='{}, AUC={:.3f}'.format(type(model).__name__, \n",
    "                                                            roc_auc_score(y_valid, model.predict_proba(X_valid)[:,1])))\n",
    "    plt.xticks(np.arange(0.0, 1.1, step=0.1))\n",
    "    plt.xlabel('False Positive Rate', fontsize=15)\n",
    "    plt.yticks(np.arange(0.0, 1.1, step=0.1))\n",
    "    plt.ylabel('True Positive Rate', fontsize=15)    \n",
    "    plt.title('ROC curve')\n",
    "plt.plot([0,1], [0,1], color='red', linestyle='--', label='Случайный прогноз')    \n",
    "plt.legend(prop={'size':13}, loc='lower right')\n",
    "plt.grid(alpha=0.7)\n",
    "plt.show()"
   ]
  },
  {
   "cell_type": "markdown",
   "metadata": {},
   "source": [
    "В процессе настройки моделей были подобраны гиперпараметры, показывающие лучший результат по метрике `F1`. Алгоритм `RandomForestClassifier` показал лучший результат по данной метрике, для обучения финальной модели применим его."
   ]
  },
  {
   "cell_type": "markdown",
   "metadata": {},
   "source": [
    "Подберем оптимальный порог решающего правила, максимизирующий метрику F1:"
   ]
  },
  {
   "cell_type": "code",
   "execution_count": 45,
   "metadata": {},
   "outputs": [
    {
     "name": "stdout",
     "output_type": "stream",
     "text": [
      "Оптимальный порог: 0.55\n",
      "F-score: 0.69\n"
     ]
    },
    {
     "data": {
      "image/png": "[encoded data removed]",
      "text/plain": [
       "<Figure size 800x500 with 1 Axes>"
      ]
     },
     "metadata": {
      "needs_background": "light"
     },
     "output_type": "display_data"
    },
    {
     "data": {
      "text/plain": [
       "<ggplot: (8784139450947)>"
      ]
     },
     "execution_count": 45,
     "metadata": {},
     "output_type": "execute_result"
    }
   ],
   "source": [
    "# зададим диапазон порога решающего правила:\n",
    "thresholds = np.arange(0.0, 1.0, 0.01)\n",
    "f_score = np.zeros(shape=(len(thresholds)))\n",
    "\n",
    "# рассчитаем f-score:\n",
    "for index, elem in enumerate(thresholds):\n",
    "    y_pred = random_forest_classifier_balanced.predict_proba(X_valid)[:,1]\n",
    "    y_pred_adj = (y_pred > elem).astype('int')\n",
    "    f_score[index] = f1_score(y_valid, y_pred_adj)\n",
    "\n",
    "# найдем оптимальный порог:\n",
    "index = np.argmax(f_score)\n",
    "threshold_opt = round(thresholds[index], ndigits = 2)\n",
    "f_score_opt = round(f_score[index], ndigits = 2)\n",
    "print('Оптимальный порог: {}\\nF-score: {}'.format(threshold_opt, f_score_opt))\n",
    "\n",
    "# построим график:\n",
    "df_threshold_tuning = pd.DataFrame({'F-score':f_score,\n",
    "                                    'Threshold':thresholds})\n",
    "\n",
    "plotnine.options.figure_size = (8, 5)\n",
    "(\n",
    "    ggplot(data = df_threshold_tuning)+\n",
    "    geom_point(aes(x = 'Threshold',\n",
    "                   y = 'F-score'),\n",
    "               size = 0.4)+\n",
    "    # оптимальный порог\n",
    "    geom_point(aes(x = threshold_opt,\n",
    "                   y = f_score_opt),\n",
    "               color = 'red',\n",
    "               size = 2)+\n",
    "    geom_line(aes(x = 'Threshold',\n",
    "                   y = 'F-score'))+\n",
    "    # подписи к графику\n",
    "    geom_text(aes(x = threshold_opt,\n",
    "                  y = f_score_opt),\n",
    "              label = 'Оптимальный порог: {}'.format(threshold_opt),\n",
    "              nudge_x = 0,\n",
    "              nudge_y = -0.1,\n",
    "              size = 8,\n",
    "              fontstyle = 'normal')+\n",
    "    labs(title = 'Оптимизация порога решающего правила')+\n",
    "    xlab('Threshold')+\n",
    "    ylab('F-score')+\n",
    "    theme_minimal()\n",
    ")"
   ]
  },
  {
   "cell_type": "markdown",
   "metadata": {},
   "source": [
    "## Тестирование модели"
   ]
  },
  {
   "cell_type": "markdown",
   "metadata": {},
   "source": [
    "Для обучения финальной модели объединим обучающую и валидационную выборки:"
   ]
  },
  {
   "cell_type": "code",
   "execution_count": 41,
   "metadata": {},
   "outputs": [],
   "source": [
    "X_train_final = pd.concat([X_train, X_valid])\n",
    "y_train_final = pd.concat([y_train, y_valid])"
   ]
  },
  {
   "cell_type": "markdown",
   "metadata": {},
   "source": [
    "Обучим модель на объединеной выборке:"
   ]
  },
  {
   "cell_type": "code",
   "execution_count": 42,
   "metadata": {
    "scrolled": true
   },
   "outputs": [
    {
     "data": {
      "text/html": [
       "<style>#sk-container-id-1 {color: black;background-color: white;}#sk-container-id-1 pre{padding: 0;}#sk-container-id-1 div.sk-toggleable {background-color: white;}#sk-container-id-1 label.sk-toggleable__label {cursor: pointer;display: block;width: 100%;margin-bottom: 0;padding: 0.3em;box-sizing: border-box;text-align: center;}#sk-container-id-1 label.sk-toggleable__label-arrow:before {content: \"▸\";float: left;margin-right: 0.25em;color: #696969;}#sk-container-id-1 label.sk-toggleable__label-arrow:hover:before {color: black;}#sk-container-id-1 div.sk-estimator:hover label.sk-toggleable__label-arrow:before {color: black;}#sk-container-id-1 div.sk-toggleable__content {max-height: 0;max-width: 0;overflow: hidden;text-align: left;background-color: #f0f8ff;}#sk-container-id-1 div.sk-toggleable__content pre {margin: 0.2em;color: black;border-radius: 0.25em;background-color: #f0f8ff;}#sk-container-id-1 input.sk-toggleable__control:checked~div.sk-toggleable__content {max-height: 200px;max-width: 100%;overflow: auto;}#sk-container-id-1 input.sk-toggleable__control:checked~label.sk-toggleable__label-arrow:before {content: \"▾\";}#sk-container-id-1 div.sk-estimator input.sk-toggleable__control:checked~label.sk-toggleable__label {background-color: #d4ebff;}#sk-container-id-1 div.sk-label input.sk-toggleable__control:checked~label.sk-toggleable__label {background-color: #d4ebff;}#sk-container-id-1 input.sk-hidden--visually {border: 0;clip: rect(1px 1px 1px 1px);clip: rect(1px, 1px, 1px, 1px);height: 1px;margin: -1px;overflow: hidden;padding: 0;position: absolute;width: 1px;}#sk-container-id-1 div.sk-estimator {font-family: monospace;background-color: #f0f8ff;border: 1px dotted black;border-radius: 0.25em;box-sizing: border-box;margin-bottom: 0.5em;}#sk-container-id-1 div.sk-estimator:hover {background-color: #d4ebff;}#sk-container-id-1 div.sk-parallel-item::after {content: \"\";width: 100%;border-bottom: 1px solid gray;flex-grow: 1;}#sk-container-id-1 div.sk-label:hover label.sk-toggleable__label {background-color: #d4ebff;}#sk-container-id-1 div.sk-serial::before {content: \"\";position: absolute;border-left: 1px solid gray;box-sizing: border-box;top: 0;bottom: 0;left: 50%;z-index: 0;}#sk-container-id-1 div.sk-serial {display: flex;flex-direction: column;align-items: center;background-color: white;padding-right: 0.2em;padding-left: 0.2em;position: relative;}#sk-container-id-1 div.sk-item {position: relative;z-index: 1;}#sk-container-id-1 div.sk-parallel {display: flex;align-items: stretch;justify-content: center;background-color: white;position: relative;}#sk-container-id-1 div.sk-item::before, #sk-container-id-1 div.sk-parallel-item::before {content: \"\";position: absolute;border-left: 1px solid gray;box-sizing: border-box;top: 0;bottom: 0;left: 50%;z-index: -1;}#sk-container-id-1 div.sk-parallel-item {display: flex;flex-direction: column;z-index: 1;position: relative;background-color: white;}#sk-container-id-1 div.sk-parallel-item:first-child::after {align-self: flex-end;width: 50%;}#sk-container-id-1 div.sk-parallel-item:last-child::after {align-self: flex-start;width: 50%;}#sk-container-id-1 div.sk-parallel-item:only-child::after {width: 0;}#sk-container-id-1 div.sk-dashed-wrapped {border: 1px dashed gray;margin: 0 0.4em 0.5em 0.4em;box-sizing: border-box;padding-bottom: 0.4em;background-color: white;}#sk-container-id-1 div.sk-label label {font-family: monospace;font-weight: bold;display: inline-block;line-height: 1.2em;}#sk-container-id-1 div.sk-label-container {text-align: center;}#sk-container-id-1 div.sk-container {/* jupyter's `normalize.less` sets `[hidden] { display: none; }` but bootstrap.min.css set `[hidden] { display: none !important; }` so we also need the `!important` here to be able to override the default hidden behavior on the sphinx rendered scikit-learn.org. See: https://github.com/scikit-learn/scikit-learn/issues/21755 */display: inline-block !important;position: relative;}#sk-container-id-1 div.sk-text-repr-fallback {display: none;}</style><div id=\"sk-container-id-1\" class=\"sk-top-container\"><div class=\"sk-text-repr-fallback\"><pre>RandomForestClassifier(class_weight=&#x27;balanced&#x27;, criterion=&#x27;entropy&#x27;,\n",
       "                       max_depth=7, n_estimators=50, random_state=0)</pre><b>In a Jupyter environment, please rerun this cell to show the HTML representation or trust the notebook. <br />On GitHub, the HTML representation is unable to render, please try loading this page with nbviewer.org.</b></div><div class=\"sk-container\" hidden><div class=\"sk-item\"><div class=\"sk-estimator sk-toggleable\"><input class=\"sk-toggleable__control sk-hidden--visually\" id=\"sk-estimator-id-1\" type=\"checkbox\" checked><label for=\"sk-estimator-id-1\" class=\"sk-toggleable__label sk-toggleable__label-arrow\">RandomForestClassifier</label><div class=\"sk-toggleable__content\"><pre>RandomForestClassifier(class_weight=&#x27;balanced&#x27;, criterion=&#x27;entropy&#x27;,\n",
       "                       max_depth=7, n_estimators=50, random_state=0)</pre></div></div></div></div></div>"
      ],
      "text/plain": [
       "RandomForestClassifier(class_weight='balanced', criterion='entropy',\n",
       "                       max_depth=7, n_estimators=50, random_state=0)"
      ]
     },
     "execution_count": 42,
     "metadata": {},
     "output_type": "execute_result"
    }
   ],
   "source": [
    "model = random_forest_classifier_balanced\n",
    "model.fit(X_train_final, y_train_final)"
   ]
  },
  {
   "cell_type": "markdown",
   "metadata": {},
   "source": [
    "Оценим качество модели на тестовой выборке:"
   ]
  },
  {
   "cell_type": "code",
   "execution_count": 43,
   "metadata": {},
   "outputs": [
    {
     "data": {
      "text/html": [
       "<div>\n",
       "<style scoped>\n",
       "    .dataframe tbody tr th:only-of-type {\n",
       "        vertical-align: middle;\n",
       "    }\n",
       "\n",
       "    .dataframe tbody tr th {\n",
       "        vertical-align: top;\n",
       "    }\n",
       "\n",
       "    .dataframe thead th {\n",
       "        text-align: right;\n",
       "    }\n",
       "</style>\n",
       "<table border=\"1\" class=\"dataframe\">\n",
       "  <thead>\n",
       "    <tr style=\"text-align: right;\">\n",
       "      <th></th>\n",
       "      <th>RandomForestClassifier</th>\n",
       "    </tr>\n",
       "  </thead>\n",
       "  <tbody>\n",
       "    <tr>\n",
       "      <th>Accuracy</th>\n",
       "      <td>0.84</td>\n",
       "    </tr>\n",
       "    <tr>\n",
       "      <th>Precision</th>\n",
       "      <td>0.60</td>\n",
       "    </tr>\n",
       "    <tr>\n",
       "      <th>Recall</th>\n",
       "      <td>0.62</td>\n",
       "    </tr>\n",
       "    <tr>\n",
       "      <th>Specificity</th>\n",
       "      <td>0.89</td>\n",
       "    </tr>\n",
       "    <tr>\n",
       "      <th>F1</th>\n",
       "      <td>0.61</td>\n",
       "    </tr>\n",
       "    <tr>\n",
       "      <th>ROC_AUC</th>\n",
       "      <td>0.86</td>\n",
       "    </tr>\n",
       "  </tbody>\n",
       "</table>\n",
       "</div>"
      ],
      "text/plain": [
       "            RandomForestClassifier\n",
       "Accuracy                      0.84\n",
       "Precision                     0.60\n",
       "Recall                        0.62\n",
       "Specificity                   0.89\n",
       "F1                            0.61\n",
       "ROC_AUC                       0.86"
      ]
     },
     "metadata": {},
     "output_type": "display_data"
    }
   ],
   "source": [
    "# создадим пустой список:\n",
    "results=[]\n",
    "\n",
    "# создадим датафрейм с метриками:\n",
    "y_pred = model.predict_proba(X_test)[:,1]\n",
    "y_pred_adj = (y_pred > threshold_opt).astype('int')\n",
    "results.append(pd.Series({'Accuracy': '{:.2f}'.format(accuracy_score(y_test, y_pred_adj)), \n",
    "                              'Precision': '{:.2f}'.format(precision_score(y_test, y_pred_adj)), \n",
    "                              'Recall': '{:.2f}'.format(recall_score(y_test, y_pred_adj)),\n",
    "                              'Specificity': '{:.2f}'.format(recall_score(y_test, y_pred_adj, pos_label=0)),\n",
    "                              'F1': '{:.2f}'.format(f1_score(y_test, y_pred_adj)), \n",
    "                              'ROC_AUC': '{:.2f}'.format(roc_auc_score(y_test, model.predict_proba(X_test)[:,1]))},\n",
    "                               name = type(model).__name__)\n",
    "                              )\n",
    "\n",
    "display(pd.DataFrame(results).T)"
   ]
  },
  {
   "cell_type": "code",
   "execution_count": 44,
   "metadata": {},
   "outputs": [
    {
     "name": "stdout",
     "output_type": "stream",
     "text": [
      "Метрика F1 на тестовой выборке показала значение: 0.61\n"
     ]
    }
   ],
   "source": [
    "print('Метрика F1 на тестовой выборке показала значение: {:.2f}'.format(f1_score(y_test, y_pred_adj)))"
   ]
  },
  {
   "cell_type": "markdown",
   "metadata": {},
   "source": [
    "## Вывод"
   ]
  },
  {
   "cell_type": "markdown",
   "metadata": {},
   "source": [
    "В ходе проведенного исследования была получена модель классификации клиентов Банка для предсказания оттока. Модель была обучена на обучающей выборке, а также была проведена оценка качества классификации на валидационной выборке. В рамках задачи было рассмотрено 4 алгоритма классификации:  `Решающее дерево`, `Случайный лес`, `Градиентный бустинг` и `Логистическая регрессия`. Для устранения несбалансированности классов было использовано увеличение числа примеров миноритарного класса, а также обучение моделей с учетом весов классов. В процессе настройки моделей были подобраны гиперпараметры, показывающие лучший результат по метрике F1. Алгоритм `Случайного леса` показал лучший результат по данной метрике, данный алгоритм был использован для проверки качества финальной модели на тестовой выборке. Также был найден оптимальный порог решающего правила классификации. Метрика F1 на тестовой выборке показала значение 0.61."
   ]
  }
 ],
 "metadata": {
  "ExecuteTimeLog": [
   {
    "duration": 1417,
    "start_time": "2022-12-18T14:36:28.034Z"
   },
   {
    "duration": 102,
    "start_time": "2022-12-18T14:36:45.245Z"
   },
   {
    "duration": 13,
    "start_time": "2022-12-18T14:51:56.535Z"
   },
   {
    "duration": 6,
    "start_time": "2022-12-18T14:52:04.715Z"
   },
   {
    "duration": 5,
    "start_time": "2022-12-18T14:52:23.977Z"
   },
   {
    "duration": 8,
    "start_time": "2022-12-18T14:52:30.055Z"
   },
   {
    "duration": 6,
    "start_time": "2022-12-18T14:52:40.814Z"
   },
   {
    "duration": 7,
    "start_time": "2022-12-18T14:53:03.743Z"
   },
   {
    "duration": 18,
    "start_time": "2022-12-18T14:53:30.323Z"
   },
   {
    "duration": 10,
    "start_time": "2022-12-18T15:06:43.179Z"
   },
   {
    "duration": 32,
    "start_time": "2022-12-18T15:06:58.235Z"
   },
   {
    "duration": 110,
    "start_time": "2022-12-18T15:07:24.660Z"
   },
   {
    "duration": 18,
    "start_time": "2022-12-18T15:07:28.891Z"
   },
   {
    "duration": 50609,
    "start_time": "2022-12-18T15:07:55.353Z"
   },
   {
    "duration": 20,
    "start_time": "2022-12-18T15:09:16.019Z"
   },
   {
    "duration": 1494,
    "start_time": "2022-12-18T15:09:24.603Z"
   },
   {
    "duration": 16,
    "start_time": "2022-12-18T15:09:53.835Z"
   },
   {
    "duration": 38,
    "start_time": "2022-12-18T15:11:09.054Z"
   },
   {
    "duration": 1103,
    "start_time": "2022-12-18T15:11:14.981Z"
   },
   {
    "duration": 11,
    "start_time": "2022-12-18T15:16:46.096Z"
   },
   {
    "duration": 12,
    "start_time": "2022-12-18T15:17:05.434Z"
   },
   {
    "duration": 12,
    "start_time": "2022-12-18T15:17:16.439Z"
   },
   {
    "duration": 1543,
    "start_time": "2022-12-19T20:04:05.810Z"
   },
   {
    "duration": 5,
    "start_time": "2022-12-19T20:04:11.716Z"
   },
   {
    "duration": 5,
    "start_time": "2022-12-19T20:04:16.223Z"
   },
   {
    "duration": 187,
    "start_time": "2022-12-19T20:04:16.237Z"
   },
   {
    "duration": 9,
    "start_time": "2022-12-19T20:04:16.426Z"
   },
   {
    "duration": 13,
    "start_time": "2022-12-19T20:04:16.437Z"
   },
   {
    "duration": 16,
    "start_time": "2022-12-19T20:04:16.451Z"
   },
   {
    "duration": 1319,
    "start_time": "2022-12-19T20:04:16.469Z"
   },
   {
    "duration": 20,
    "start_time": "2022-12-19T20:15:01.724Z"
   },
   {
    "duration": 6,
    "start_time": "2022-12-19T20:15:20.483Z"
   },
   {
    "duration": 7,
    "start_time": "2022-12-19T20:15:30.302Z"
   },
   {
    "duration": 5,
    "start_time": "2022-12-19T20:31:03.221Z"
   },
   {
    "duration": 12,
    "start_time": "2022-12-19T20:31:12.013Z"
   },
   {
    "duration": 313,
    "start_time": "2022-12-19T20:31:46.072Z"
   },
   {
    "duration": 2,
    "start_time": "2022-12-19T20:32:53.112Z"
   },
   {
    "duration": 135,
    "start_time": "2022-12-19T20:32:55.515Z"
   },
   {
    "duration": 3,
    "start_time": "2022-12-19T20:33:01.470Z"
   },
   {
    "duration": 124,
    "start_time": "2022-12-19T20:33:01.739Z"
   },
   {
    "duration": 4,
    "start_time": "2022-12-19T20:33:09.447Z"
   },
   {
    "duration": 114,
    "start_time": "2022-12-19T20:33:09.955Z"
   },
   {
    "duration": 3,
    "start_time": "2022-12-19T20:33:14.671Z"
   },
   {
    "duration": 30,
    "start_time": "2022-12-19T20:33:15.539Z"
   },
   {
    "duration": 3,
    "start_time": "2022-12-19T20:33:20.335Z"
   },
   {
    "duration": 121,
    "start_time": "2022-12-19T20:33:20.843Z"
   },
   {
    "duration": 20,
    "start_time": "2022-12-19T20:33:58.219Z"
   },
   {
    "duration": 211,
    "start_time": "2022-12-19T20:37:19.334Z"
   },
   {
    "duration": 25,
    "start_time": "2022-12-19T20:37:23.112Z"
   },
   {
    "duration": 5,
    "start_time": "2022-12-19T20:37:59.301Z"
   },
   {
    "duration": 52,
    "start_time": "2022-12-19T20:37:59.728Z"
   },
   {
    "duration": 9,
    "start_time": "2022-12-19T20:38:01.430Z"
   },
   {
    "duration": 11,
    "start_time": "2022-12-19T20:38:02.093Z"
   },
   {
    "duration": 1171,
    "start_time": "2022-12-19T20:38:03.567Z"
   },
   {
    "duration": 6,
    "start_time": "2022-12-19T20:38:04.909Z"
   },
   {
    "duration": 12,
    "start_time": "2022-12-19T20:38:05.480Z"
   },
   {
    "duration": 20,
    "start_time": "2022-12-19T20:38:07.486Z"
   },
   {
    "duration": 6,
    "start_time": "2022-12-19T20:39:02.365Z"
   },
   {
    "duration": 50,
    "start_time": "2022-12-19T20:39:02.511Z"
   },
   {
    "duration": 8,
    "start_time": "2022-12-19T20:39:02.936Z"
   },
   {
    "duration": 11,
    "start_time": "2022-12-19T20:39:03.225Z"
   },
   {
    "duration": 1233,
    "start_time": "2022-12-19T20:39:04.070Z"
   },
   {
    "duration": 7,
    "start_time": "2022-12-19T20:39:05.305Z"
   },
   {
    "duration": 16,
    "start_time": "2022-12-19T20:39:05.678Z"
   },
   {
    "duration": 19,
    "start_time": "2022-12-19T20:39:07.873Z"
   },
   {
    "duration": 1567,
    "start_time": "2022-12-19T21:01:53.156Z"
   },
   {
    "duration": 59,
    "start_time": "2022-12-19T21:01:54.726Z"
   },
   {
    "duration": 9,
    "start_time": "2022-12-19T21:01:54.787Z"
   },
   {
    "duration": 19,
    "start_time": "2022-12-19T21:01:54.799Z"
   },
   {
    "duration": 1286,
    "start_time": "2022-12-19T21:01:54.820Z"
   },
   {
    "duration": 9,
    "start_time": "2022-12-19T21:01:56.107Z"
   },
   {
    "duration": 17,
    "start_time": "2022-12-19T21:01:56.118Z"
   },
   {
    "duration": 7,
    "start_time": "2022-12-19T21:01:56.150Z"
   },
   {
    "duration": 144,
    "start_time": "2022-12-19T21:01:56.159Z"
   },
   {
    "duration": 0,
    "start_time": "2022-12-19T21:01:56.305Z"
   },
   {
    "duration": 0,
    "start_time": "2022-12-19T21:01:56.306Z"
   },
   {
    "duration": 0,
    "start_time": "2022-12-19T21:01:56.308Z"
   },
   {
    "duration": 0,
    "start_time": "2022-12-19T21:01:56.309Z"
   },
   {
    "duration": 7,
    "start_time": "2022-12-19T21:02:09.630Z"
   },
   {
    "duration": 54,
    "start_time": "2022-12-19T21:02:09.882Z"
   },
   {
    "duration": 10,
    "start_time": "2022-12-19T21:02:10.883Z"
   },
   {
    "duration": 17,
    "start_time": "2022-12-19T21:02:11.579Z"
   },
   {
    "duration": 1322,
    "start_time": "2022-12-19T21:02:12.639Z"
   },
   {
    "duration": 7,
    "start_time": "2022-12-19T21:02:14.007Z"
   },
   {
    "duration": 11,
    "start_time": "2022-12-19T21:02:14.453Z"
   },
   {
    "duration": 6,
    "start_time": "2022-12-19T21:02:15.356Z"
   },
   {
    "duration": 21,
    "start_time": "2022-12-19T21:02:26.199Z"
   },
   {
    "duration": 5,
    "start_time": "2022-12-19T21:02:50.574Z"
   },
   {
    "duration": 14,
    "start_time": "2022-12-19T21:02:58.457Z"
   },
   {
    "duration": 4,
    "start_time": "2022-12-19T21:02:59.597Z"
   },
   {
    "duration": 136,
    "start_time": "2022-12-19T21:03:01.955Z"
   },
   {
    "duration": 8,
    "start_time": "2022-12-19T21:03:20.121Z"
   },
   {
    "duration": 15,
    "start_time": "2022-12-19T21:04:28.768Z"
   },
   {
    "duration": 1701,
    "start_time": "2022-12-21T10:50:38.500Z"
   },
   {
    "duration": 190,
    "start_time": "2022-12-21T10:50:40.209Z"
   },
   {
    "duration": 6,
    "start_time": "2022-12-21T10:50:44.384Z"
   },
   {
    "duration": 50,
    "start_time": "2022-12-21T10:50:45.003Z"
   },
   {
    "duration": 7,
    "start_time": "2022-12-21T10:50:46.608Z"
   },
   {
    "duration": 12,
    "start_time": "2022-12-21T10:50:47.367Z"
   },
   {
    "duration": 1184,
    "start_time": "2022-12-21T10:50:48.171Z"
   },
   {
    "duration": 8,
    "start_time": "2022-12-21T10:50:49.357Z"
   },
   {
    "duration": 13,
    "start_time": "2022-12-21T10:50:50.132Z"
   },
   {
    "duration": 5,
    "start_time": "2022-12-21T10:50:57.535Z"
   },
   {
    "duration": 6,
    "start_time": "2022-12-21T10:51:09.914Z"
   },
   {
    "duration": 57,
    "start_time": "2022-12-21T10:51:10.039Z"
   },
   {
    "duration": 9,
    "start_time": "2022-12-21T10:51:10.941Z"
   },
   {
    "duration": 15,
    "start_time": "2022-12-21T10:51:11.675Z"
   },
   {
    "duration": 1183,
    "start_time": "2022-12-21T10:51:12.775Z"
   },
   {
    "duration": 6,
    "start_time": "2022-12-21T10:51:15.122Z"
   },
   {
    "duration": 18,
    "start_time": "2022-12-21T10:51:23.346Z"
   },
   {
    "duration": 18,
    "start_time": "2022-12-21T10:51:59.935Z"
   },
   {
    "duration": 13,
    "start_time": "2022-12-21T10:52:00.883Z"
   },
   {
    "duration": 23,
    "start_time": "2022-12-21T10:52:09.659Z"
   },
   {
    "duration": 7,
    "start_time": "2022-12-21T10:56:15.120Z"
   },
   {
    "duration": 61,
    "start_time": "2022-12-21T10:56:15.251Z"
   },
   {
    "duration": 12,
    "start_time": "2022-12-21T10:56:15.999Z"
   },
   {
    "duration": 18,
    "start_time": "2022-12-21T10:56:16.645Z"
   },
   {
    "duration": 1765,
    "start_time": "2022-12-21T10:56:17.843Z"
   },
   {
    "duration": 8,
    "start_time": "2022-12-21T10:56:19.610Z"
   },
   {
    "duration": 46,
    "start_time": "2022-12-21T10:56:19.621Z"
   },
   {
    "duration": 15,
    "start_time": "2022-12-21T10:56:22.355Z"
   },
   {
    "duration": 7,
    "start_time": "2022-12-21T10:57:15.829Z"
   },
   {
    "duration": 60,
    "start_time": "2022-12-21T10:57:15.945Z"
   },
   {
    "duration": 7,
    "start_time": "2022-12-21T10:57:16.368Z"
   },
   {
    "duration": 14,
    "start_time": "2022-12-21T10:57:16.753Z"
   },
   {
    "duration": 1207,
    "start_time": "2022-12-21T10:57:17.687Z"
   },
   {
    "duration": 7,
    "start_time": "2022-12-21T10:57:18.896Z"
   },
   {
    "duration": 11,
    "start_time": "2022-12-21T10:57:19.472Z"
   },
   {
    "duration": 17,
    "start_time": "2022-12-21T10:57:23.081Z"
   },
   {
    "duration": 6,
    "start_time": "2022-12-21T10:57:23.540Z"
   },
   {
    "duration": 4,
    "start_time": "2022-12-21T10:57:24.069Z"
   },
   {
    "duration": 12,
    "start_time": "2022-12-21T10:57:24.916Z"
   },
   {
    "duration": 3,
    "start_time": "2022-12-21T11:02:48.687Z"
   },
   {
    "duration": 5,
    "start_time": "2022-12-21T11:03:07.508Z"
   },
   {
    "duration": 105,
    "start_time": "2022-12-21T11:03:23.907Z"
   },
   {
    "duration": 10,
    "start_time": "2022-12-21T11:03:47.411Z"
   },
   {
    "duration": 11,
    "start_time": "2022-12-21T11:03:51.044Z"
   },
   {
    "duration": 3,
    "start_time": "2022-12-21T11:04:05.623Z"
   },
   {
    "duration": 12,
    "start_time": "2022-12-21T11:04:15.449Z"
   },
   {
    "duration": 4,
    "start_time": "2022-12-21T11:04:29.804Z"
   },
   {
    "duration": 15,
    "start_time": "2022-12-21T11:04:34.613Z"
   },
   {
    "duration": 4,
    "start_time": "2022-12-21T11:05:46.454Z"
   },
   {
    "duration": 23,
    "start_time": "2022-12-21T11:05:50.812Z"
   },
   {
    "duration": 6,
    "start_time": "2022-12-21T11:08:29.179Z"
   },
   {
    "duration": 49,
    "start_time": "2022-12-21T11:08:29.669Z"
   },
   {
    "duration": 5,
    "start_time": "2022-12-21T11:08:31.462Z"
   },
   {
    "duration": 16,
    "start_time": "2022-12-21T11:09:27.919Z"
   },
   {
    "duration": 5,
    "start_time": "2022-12-21T11:09:33.046Z"
   },
   {
    "duration": 47,
    "start_time": "2022-12-21T11:09:33.284Z"
   },
   {
    "duration": 3,
    "start_time": "2022-12-21T11:09:34.420Z"
   },
   {
    "duration": 12,
    "start_time": "2022-12-21T11:09:34.908Z"
   },
   {
    "duration": 20,
    "start_time": "2022-12-21T11:09:43.544Z"
   },
   {
    "duration": 10,
    "start_time": "2022-12-21T11:27:22.673Z"
   },
   {
    "duration": 7,
    "start_time": "2022-12-21T11:28:01.845Z"
   },
   {
    "duration": 49,
    "start_time": "2022-12-21T11:28:02.082Z"
   },
   {
    "duration": 4,
    "start_time": "2022-12-21T11:28:04.750Z"
   },
   {
    "duration": 9,
    "start_time": "2022-12-21T11:28:07.129Z"
   },
   {
    "duration": 13,
    "start_time": "2022-12-21T11:28:11.551Z"
   },
   {
    "duration": 25,
    "start_time": "2022-12-21T11:28:18.121Z"
   },
   {
    "duration": 1137,
    "start_time": "2022-12-21T11:28:47.276Z"
   },
   {
    "duration": 1290,
    "start_time": "2022-12-21T11:28:56.149Z"
   },
   {
    "duration": 1225,
    "start_time": "2022-12-21T11:29:07.857Z"
   },
   {
    "duration": 999,
    "start_time": "2022-12-21T11:29:40.671Z"
   },
   {
    "duration": 974,
    "start_time": "2022-12-21T11:29:52.521Z"
   },
   {
    "duration": 27,
    "start_time": "2022-12-21T11:31:10.240Z"
   },
   {
    "duration": 77,
    "start_time": "2022-12-21T11:31:22.961Z"
   },
   {
    "duration": 15,
    "start_time": "2022-12-21T11:31:27.336Z"
   },
   {
    "duration": 16,
    "start_time": "2022-12-21T11:31:29.106Z"
   },
   {
    "duration": 3,
    "start_time": "2022-12-21T11:32:12.499Z"
   },
   {
    "duration": 4,
    "start_time": "2022-12-21T11:32:18.795Z"
   },
   {
    "duration": 58,
    "start_time": "2022-12-21T11:32:18.912Z"
   },
   {
    "duration": 4,
    "start_time": "2022-12-21T11:32:19.270Z"
   },
   {
    "duration": 8,
    "start_time": "2022-12-21T11:32:19.490Z"
   },
   {
    "duration": 15,
    "start_time": "2022-12-21T11:32:20.359Z"
   },
   {
    "duration": 27,
    "start_time": "2022-12-21T11:32:22.505Z"
   },
   {
    "duration": 903,
    "start_time": "2022-12-21T11:32:23.909Z"
   },
   {
    "duration": 1127,
    "start_time": "2022-12-21T11:32:24.814Z"
   },
   {
    "duration": 0,
    "start_time": "2022-12-21T11:32:25.943Z"
   },
   {
    "duration": 6,
    "start_time": "2022-12-21T11:32:39.611Z"
   },
   {
    "duration": 12,
    "start_time": "2022-12-21T11:32:42.702Z"
   },
   {
    "duration": 17,
    "start_time": "2022-12-21T11:32:45.155Z"
   },
   {
    "duration": 5,
    "start_time": "2022-12-21T11:33:26.681Z"
   },
   {
    "duration": 6,
    "start_time": "2022-12-21T11:33:34.336Z"
   },
   {
    "duration": 5,
    "start_time": "2022-12-21T11:34:17.373Z"
   },
   {
    "duration": 19,
    "start_time": "2022-12-21T11:34:43.046Z"
   },
   {
    "duration": 4,
    "start_time": "2022-12-21T11:35:17.157Z"
   },
   {
    "duration": 55,
    "start_time": "2022-12-21T11:35:17.162Z"
   },
   {
    "duration": 3,
    "start_time": "2022-12-21T11:35:17.220Z"
   },
   {
    "duration": 11,
    "start_time": "2022-12-21T11:35:17.225Z"
   },
   {
    "duration": 164,
    "start_time": "2022-12-21T11:35:17.238Z"
   },
   {
    "duration": 20,
    "start_time": "2022-12-21T11:35:17.404Z"
   },
   {
    "duration": 918,
    "start_time": "2022-12-21T11:35:17.426Z"
   },
   {
    "duration": 9,
    "start_time": "2022-12-21T11:35:18.346Z"
   },
   {
    "duration": 13,
    "start_time": "2022-12-21T11:35:18.357Z"
   },
   {
    "duration": 9,
    "start_time": "2022-12-21T11:35:18.372Z"
   },
   {
    "duration": 16,
    "start_time": "2022-12-21T11:35:18.384Z"
   },
   {
    "duration": 0,
    "start_time": "2022-12-21T11:35:18.402Z"
   },
   {
    "duration": 5,
    "start_time": "2022-12-21T11:58:29.683Z"
   },
   {
    "duration": 15,
    "start_time": "2022-12-21T12:04:26.569Z"
   },
   {
    "duration": 4,
    "start_time": "2022-12-21T12:06:18.154Z"
   },
   {
    "duration": 46,
    "start_time": "2022-12-21T12:06:18.274Z"
   },
   {
    "duration": 3,
    "start_time": "2022-12-21T12:06:18.322Z"
   },
   {
    "duration": 14,
    "start_time": "2022-12-21T12:06:18.327Z"
   },
   {
    "duration": 14,
    "start_time": "2022-12-21T12:06:18.342Z"
   },
   {
    "duration": 917,
    "start_time": "2022-12-21T12:06:18.359Z"
   },
   {
    "duration": 5,
    "start_time": "2022-12-21T12:06:19.278Z"
   },
   {
    "duration": 10,
    "start_time": "2022-12-21T12:06:21.100Z"
   },
   {
    "duration": 17,
    "start_time": "2022-12-21T12:06:24.810Z"
   },
   {
    "duration": 6,
    "start_time": "2022-12-21T12:08:19.307Z"
   },
   {
    "duration": 3060,
    "start_time": "2022-12-21T12:08:36.452Z"
   },
   {
    "duration": 23,
    "start_time": "2022-12-21T12:08:43.504Z"
   },
   {
    "duration": 5,
    "start_time": "2022-12-21T12:09:03.065Z"
   },
   {
    "duration": 45,
    "start_time": "2022-12-21T12:09:03.181Z"
   },
   {
    "duration": 3,
    "start_time": "2022-12-21T12:09:03.573Z"
   },
   {
    "duration": 9,
    "start_time": "2022-12-21T12:09:03.799Z"
   },
   {
    "duration": 12,
    "start_time": "2022-12-21T12:09:04.077Z"
   },
   {
    "duration": 853,
    "start_time": "2022-12-21T12:09:05.108Z"
   },
   {
    "duration": 6,
    "start_time": "2022-12-21T12:09:06.815Z"
   },
   {
    "duration": 19,
    "start_time": "2022-12-21T12:09:12.020Z"
   },
   {
    "duration": 10,
    "start_time": "2022-12-21T12:09:54.684Z"
   },
   {
    "duration": 8,
    "start_time": "2022-12-21T12:10:08.778Z"
   },
   {
    "duration": 18,
    "start_time": "2022-12-21T12:10:12.276Z"
   },
   {
    "duration": 21,
    "start_time": "2022-12-21T12:11:49.110Z"
   },
   {
    "duration": 4,
    "start_time": "2022-12-21T12:12:56.114Z"
   },
   {
    "duration": 46,
    "start_time": "2022-12-21T12:12:56.677Z"
   },
   {
    "duration": 4,
    "start_time": "2022-12-21T12:12:58.365Z"
   },
   {
    "duration": 5,
    "start_time": "2022-12-21T12:12:59.417Z"
   },
   {
    "duration": 8,
    "start_time": "2022-12-21T12:13:01.881Z"
   },
   {
    "duration": 12,
    "start_time": "2022-12-21T12:13:01.968Z"
   },
   {
    "duration": 15,
    "start_time": "2022-12-21T12:13:03.609Z"
   },
   {
    "duration": 6,
    "start_time": "2022-12-21T12:13:04.178Z"
   },
   {
    "duration": 9,
    "start_time": "2022-12-21T12:13:04.470Z"
   },
   {
    "duration": 13,
    "start_time": "2022-12-21T12:13:09.365Z"
   },
   {
    "duration": 6,
    "start_time": "2022-12-21T12:13:20.207Z"
   },
   {
    "duration": 92,
    "start_time": "2022-12-21T12:17:40.675Z"
   },
   {
    "duration": 1231,
    "start_time": "2022-12-21T12:18:20.024Z"
   },
   {
    "duration": 16,
    "start_time": "2022-12-21T12:23:52.008Z"
   },
   {
    "duration": 7,
    "start_time": "2022-12-21T12:24:43.198Z"
   },
   {
    "duration": 7,
    "start_time": "2022-12-21T12:25:30.322Z"
   },
   {
    "duration": 58,
    "start_time": "2022-12-21T12:25:30.503Z"
   },
   {
    "duration": 4,
    "start_time": "2022-12-21T12:25:30.954Z"
   },
   {
    "duration": 4,
    "start_time": "2022-12-21T12:25:31.351Z"
   },
   {
    "duration": 10,
    "start_time": "2022-12-21T12:25:31.810Z"
   },
   {
    "duration": 8,
    "start_time": "2022-12-21T12:25:32.046Z"
   },
   {
    "duration": 14,
    "start_time": "2022-12-21T12:25:32.551Z"
   },
   {
    "duration": 897,
    "start_time": "2022-12-21T12:25:33.358Z"
   },
   {
    "duration": 8,
    "start_time": "2022-12-21T12:25:34.257Z"
   },
   {
    "duration": 9,
    "start_time": "2022-12-21T12:25:34.503Z"
   },
   {
    "duration": 6,
    "start_time": "2022-12-21T12:25:35.053Z"
   },
   {
    "duration": 12,
    "start_time": "2022-12-21T12:25:35.748Z"
   },
   {
    "duration": 21,
    "start_time": "2022-12-21T12:25:42.438Z"
   },
   {
    "duration": 3407,
    "start_time": "2022-12-21T12:25:49.784Z"
   },
   {
    "duration": 18,
    "start_time": "2022-12-21T12:38:57.160Z"
   },
   {
    "duration": 18,
    "start_time": "2022-12-21T12:39:47.166Z"
   },
   {
    "duration": 7,
    "start_time": "2022-12-21T12:41:54.605Z"
   },
   {
    "duration": 47,
    "start_time": "2022-12-21T12:41:54.712Z"
   },
   {
    "duration": 4,
    "start_time": "2022-12-21T12:41:55.082Z"
   },
   {
    "duration": 4,
    "start_time": "2022-12-21T12:41:55.375Z"
   },
   {
    "duration": 8,
    "start_time": "2022-12-21T12:41:55.660Z"
   },
   {
    "duration": 8,
    "start_time": "2022-12-21T12:41:55.955Z"
   },
   {
    "duration": 13,
    "start_time": "2022-12-21T12:41:56.226Z"
   },
   {
    "duration": 966,
    "start_time": "2022-12-21T12:41:56.820Z"
   },
   {
    "duration": 6,
    "start_time": "2022-12-21T12:41:57.787Z"
   },
   {
    "duration": 11,
    "start_time": "2022-12-21T12:41:58.162Z"
   },
   {
    "duration": 5,
    "start_time": "2022-12-21T12:41:58.860Z"
   },
   {
    "duration": 12,
    "start_time": "2022-12-21T12:41:59.460Z"
   },
   {
    "duration": 15,
    "start_time": "2022-12-21T12:42:00.057Z"
   },
   {
    "duration": 1486,
    "start_time": "2022-12-21T12:42:32.211Z"
   },
   {
    "duration": 54,
    "start_time": "2022-12-21T12:42:33.699Z"
   },
   {
    "duration": 5,
    "start_time": "2022-12-21T12:42:33.755Z"
   },
   {
    "duration": 16,
    "start_time": "2022-12-21T12:42:33.764Z"
   },
   {
    "duration": 17,
    "start_time": "2022-12-21T12:42:33.782Z"
   },
   {
    "duration": 13,
    "start_time": "2022-12-21T12:42:33.801Z"
   },
   {
    "duration": 12,
    "start_time": "2022-12-21T12:42:33.816Z"
   },
   {
    "duration": 1054,
    "start_time": "2022-12-21T12:42:33.829Z"
   },
   {
    "duration": 8,
    "start_time": "2022-12-21T12:42:34.885Z"
   },
   {
    "duration": 17,
    "start_time": "2022-12-21T12:42:34.896Z"
   },
   {
    "duration": 11,
    "start_time": "2022-12-21T12:42:34.915Z"
   },
   {
    "duration": 31,
    "start_time": "2022-12-21T12:42:34.928Z"
   },
   {
    "duration": 22,
    "start_time": "2022-12-21T12:42:34.961Z"
   },
   {
    "duration": 4244,
    "start_time": "2022-12-21T12:42:38.118Z"
   },
   {
    "duration": 107,
    "start_time": "2022-12-21T12:51:59.899Z"
   },
   {
    "duration": 2,
    "start_time": "2022-12-21T12:53:20.421Z"
   },
   {
    "duration": 10,
    "start_time": "2022-12-21T12:53:21.675Z"
   },
   {
    "duration": 46724,
    "start_time": "2022-12-21T12:54:22.517Z"
   },
   {
    "duration": 0,
    "start_time": "2022-12-21T12:55:09.242Z"
   },
   {
    "duration": 1314,
    "start_time": "2022-12-21T12:57:08.004Z"
   },
   {
    "duration": 54,
    "start_time": "2022-12-21T12:57:09.320Z"
   },
   {
    "duration": 4,
    "start_time": "2022-12-21T12:57:09.377Z"
   },
   {
    "duration": 6,
    "start_time": "2022-12-21T12:57:09.383Z"
   },
   {
    "duration": 9,
    "start_time": "2022-12-21T12:57:09.390Z"
   },
   {
    "duration": 9,
    "start_time": "2022-12-21T12:57:09.401Z"
   },
   {
    "duration": 12,
    "start_time": "2022-12-21T12:57:09.411Z"
   },
   {
    "duration": 909,
    "start_time": "2022-12-21T12:57:09.425Z"
   },
   {
    "duration": 6,
    "start_time": "2022-12-21T12:57:10.336Z"
   },
   {
    "duration": 11,
    "start_time": "2022-12-21T12:57:10.351Z"
   },
   {
    "duration": 5,
    "start_time": "2022-12-21T12:57:10.363Z"
   },
   {
    "duration": 15,
    "start_time": "2022-12-21T12:57:10.369Z"
   },
   {
    "duration": 16,
    "start_time": "2022-12-21T12:57:10.385Z"
   },
   {
    "duration": 3661,
    "start_time": "2022-12-21T12:57:10.402Z"
   },
   {
    "duration": 5,
    "start_time": "2022-12-21T13:09:59.769Z"
   },
   {
    "duration": 295,
    "start_time": "2022-12-21T13:10:05.250Z"
   },
   {
    "duration": 181,
    "start_time": "2022-12-21T13:10:14.385Z"
   },
   {
    "duration": 14519,
    "start_time": "2022-12-21T13:11:40.977Z"
   },
   {
    "duration": 0,
    "start_time": "2022-12-21T13:12:35.563Z"
   },
   {
    "duration": 1393,
    "start_time": "2022-12-21T13:12:50.732Z"
   },
   {
    "duration": 56,
    "start_time": "2022-12-21T13:12:52.127Z"
   },
   {
    "duration": 4,
    "start_time": "2022-12-21T13:12:52.184Z"
   },
   {
    "duration": 28,
    "start_time": "2022-12-21T13:12:52.190Z"
   },
   {
    "duration": 50,
    "start_time": "2022-12-21T13:12:52.220Z"
   },
   {
    "duration": 37,
    "start_time": "2022-12-21T13:12:52.271Z"
   },
   {
    "duration": 34,
    "start_time": "2022-12-21T13:12:52.310Z"
   },
   {
    "duration": 1045,
    "start_time": "2022-12-21T13:12:52.345Z"
   },
   {
    "duration": 7,
    "start_time": "2022-12-21T13:12:53.393Z"
   },
   {
    "duration": 18,
    "start_time": "2022-12-21T13:12:53.403Z"
   },
   {
    "duration": 11,
    "start_time": "2022-12-21T13:12:53.423Z"
   },
   {
    "duration": 27,
    "start_time": "2022-12-21T13:12:53.437Z"
   },
   {
    "duration": 14,
    "start_time": "2022-12-21T13:12:53.465Z"
   },
   {
    "duration": 4032,
    "start_time": "2022-12-21T13:12:53.481Z"
   },
   {
    "duration": 36639,
    "start_time": "2022-12-21T13:12:57.515Z"
   },
   {
    "duration": 0,
    "start_time": "2022-12-21T13:13:34.156Z"
   },
   {
    "duration": 0,
    "start_time": "2022-12-21T13:13:34.157Z"
   },
   {
    "duration": 1500,
    "start_time": "2022-12-21T13:17:22.237Z"
   },
   {
    "duration": 68,
    "start_time": "2022-12-21T13:17:23.740Z"
   },
   {
    "duration": 6,
    "start_time": "2022-12-21T13:17:23.810Z"
   },
   {
    "duration": 12,
    "start_time": "2022-12-21T13:17:23.819Z"
   },
   {
    "duration": 21,
    "start_time": "2022-12-21T13:17:23.833Z"
   },
   {
    "duration": 17,
    "start_time": "2022-12-21T13:17:23.856Z"
   },
   {
    "duration": 15,
    "start_time": "2022-12-21T13:17:23.875Z"
   },
   {
    "duration": 929,
    "start_time": "2022-12-21T13:17:23.892Z"
   },
   {
    "duration": 6,
    "start_time": "2022-12-21T13:17:24.823Z"
   },
   {
    "duration": 27,
    "start_time": "2022-12-21T13:17:24.832Z"
   },
   {
    "duration": 7,
    "start_time": "2022-12-21T13:17:24.861Z"
   },
   {
    "duration": 22,
    "start_time": "2022-12-21T13:17:24.870Z"
   },
   {
    "duration": 18,
    "start_time": "2022-12-21T13:17:24.894Z"
   },
   {
    "duration": 3482,
    "start_time": "2022-12-21T13:17:26.298Z"
   },
   {
    "duration": 4,
    "start_time": "2022-12-21T13:19:26.516Z"
   },
   {
    "duration": 68,
    "start_time": "2022-12-21T13:19:26.522Z"
   },
   {
    "duration": 4,
    "start_time": "2022-12-21T13:19:26.592Z"
   },
   {
    "duration": 11,
    "start_time": "2022-12-21T13:19:26.601Z"
   },
   {
    "duration": 15,
    "start_time": "2022-12-21T13:19:26.614Z"
   },
   {
    "duration": 9,
    "start_time": "2022-12-21T13:19:26.631Z"
   },
   {
    "duration": 18,
    "start_time": "2022-12-21T13:19:26.642Z"
   },
   {
    "duration": 896,
    "start_time": "2022-12-21T13:19:26.661Z"
   },
   {
    "duration": 6,
    "start_time": "2022-12-21T13:19:27.559Z"
   },
   {
    "duration": 25,
    "start_time": "2022-12-21T13:19:27.567Z"
   },
   {
    "duration": 10,
    "start_time": "2022-12-21T13:19:27.595Z"
   },
   {
    "duration": 13,
    "start_time": "2022-12-21T13:19:27.606Z"
   },
   {
    "duration": 13,
    "start_time": "2022-12-21T13:19:27.621Z"
   },
   {
    "duration": 3146,
    "start_time": "2022-12-21T13:19:27.636Z"
   },
   {
    "duration": 37257,
    "start_time": "2022-12-21T13:19:30.784Z"
   },
   {
    "duration": 0,
    "start_time": "2022-12-21T13:20:08.053Z"
   },
   {
    "duration": 0,
    "start_time": "2022-12-21T13:20:08.054Z"
   },
   {
    "duration": 0,
    "start_time": "2022-12-21T13:20:08.055Z"
   },
   {
    "duration": 3379,
    "start_time": "2022-12-21T13:20:10.278Z"
   },
   {
    "duration": 6,
    "start_time": "2022-12-21T13:21:33.348Z"
   },
   {
    "duration": 77,
    "start_time": "2022-12-21T13:21:33.357Z"
   },
   {
    "duration": 5,
    "start_time": "2022-12-21T13:21:33.435Z"
   },
   {
    "duration": 61,
    "start_time": "2022-12-21T13:21:33.443Z"
   },
   {
    "duration": 13,
    "start_time": "2022-12-21T13:21:33.506Z"
   },
   {
    "duration": 8,
    "start_time": "2022-12-21T13:21:33.521Z"
   },
   {
    "duration": 13,
    "start_time": "2022-12-21T13:21:33.531Z"
   },
   {
    "duration": 970,
    "start_time": "2022-12-21T13:21:33.546Z"
   },
   {
    "duration": 7,
    "start_time": "2022-12-21T13:21:34.519Z"
   },
   {
    "duration": 32,
    "start_time": "2022-12-21T13:21:34.528Z"
   },
   {
    "duration": 15,
    "start_time": "2022-12-21T13:21:34.563Z"
   },
   {
    "duration": 18,
    "start_time": "2022-12-21T13:21:34.580Z"
   },
   {
    "duration": 19,
    "start_time": "2022-12-21T13:21:34.600Z"
   },
   {
    "duration": 3978,
    "start_time": "2022-12-21T13:21:34.620Z"
   },
   {
    "duration": 73769,
    "start_time": "2022-12-21T13:21:38.600Z"
   },
   {
    "duration": 803,
    "start_time": "2022-12-21T13:23:02.354Z"
   },
   {
    "duration": 8,
    "start_time": "2022-12-21T13:23:03.159Z"
   },
   {
    "duration": 10175,
    "start_time": "2022-12-21T13:23:03.169Z"
   },
   {
    "duration": 9773,
    "start_time": "2022-12-21T13:24:31.316Z"
   },
   {
    "duration": 37615,
    "start_time": "2022-12-21T13:24:47.594Z"
   },
   {
    "duration": 4,
    "start_time": "2022-12-21T13:25:25.211Z"
   },
   {
    "duration": 5,
    "start_time": "2022-12-21T13:25:34.116Z"
   },
   {
    "duration": 5,
    "start_time": "2022-12-21T13:25:46.564Z"
   },
   {
    "duration": 5,
    "start_time": "2022-12-21T13:25:51.288Z"
   },
   {
    "duration": 5,
    "start_time": "2022-12-21T13:27:21.147Z"
   },
   {
    "duration": 57,
    "start_time": "2022-12-21T13:27:21.154Z"
   },
   {
    "duration": 5,
    "start_time": "2022-12-21T13:27:21.213Z"
   },
   {
    "duration": 10,
    "start_time": "2022-12-21T13:27:21.219Z"
   },
   {
    "duration": 15,
    "start_time": "2022-12-21T13:27:21.231Z"
   },
   {
    "duration": 6,
    "start_time": "2022-12-21T13:27:21.248Z"
   },
   {
    "duration": 23,
    "start_time": "2022-12-21T13:27:21.256Z"
   },
   {
    "duration": 887,
    "start_time": "2022-12-21T13:27:21.280Z"
   },
   {
    "duration": 6,
    "start_time": "2022-12-21T13:27:22.168Z"
   },
   {
    "duration": 12,
    "start_time": "2022-12-21T13:27:22.176Z"
   },
   {
    "duration": 4,
    "start_time": "2022-12-21T13:27:22.191Z"
   },
   {
    "duration": 11,
    "start_time": "2022-12-21T13:27:22.197Z"
   },
   {
    "duration": 15,
    "start_time": "2022-12-21T13:27:22.210Z"
   },
   {
    "duration": 3133,
    "start_time": "2022-12-21T13:27:22.227Z"
   },
   {
    "duration": 80312,
    "start_time": "2022-12-21T13:27:25.362Z"
   },
   {
    "duration": 330836,
    "start_time": "2022-12-21T13:28:45.676Z"
   },
   {
    "duration": 566,
    "start_time": "2022-12-21T13:34:16.514Z"
   },
   {
    "duration": 5,
    "start_time": "2022-12-21T13:34:17.081Z"
   },
   {
    "duration": 2274,
    "start_time": "2022-12-21T13:34:17.087Z"
   },
   {
    "duration": 297,
    "start_time": "2022-12-21T13:34:19.454Z"
   },
   {
    "duration": 18277,
    "start_time": "2022-12-21T13:34:53.241Z"
   },
   {
    "duration": 552,
    "start_time": "2022-12-21T13:35:11.520Z"
   },
   {
    "duration": 6,
    "start_time": "2022-12-21T13:35:12.075Z"
   },
   {
    "duration": 869,
    "start_time": "2022-12-21T13:35:12.085Z"
   },
   {
    "duration": 300,
    "start_time": "2022-12-21T13:35:12.956Z"
   },
   {
    "duration": 60503,
    "start_time": "2022-12-21T13:35:13.261Z"
   },
   {
    "duration": 607,
    "start_time": "2022-12-21T13:36:13.766Z"
   },
   {
    "duration": 5,
    "start_time": "2022-12-21T13:36:14.375Z"
   },
   {
    "duration": 571,
    "start_time": "2022-12-21T13:36:14.381Z"
   },
   {
    "duration": 260,
    "start_time": "2022-12-21T13:36:14.954Z"
   },
   {
    "duration": 6,
    "start_time": "2022-12-21T13:43:29.957Z"
   },
   {
    "duration": 12,
    "start_time": "2022-12-21T13:47:30.954Z"
   },
   {
    "duration": 18,
    "start_time": "2022-12-21T13:48:55.357Z"
   },
   {
    "duration": 5,
    "start_time": "2022-12-21T13:49:09.829Z"
   },
   {
    "duration": 5,
    "start_time": "2022-12-21T13:52:24.475Z"
   },
   {
    "duration": 6,
    "start_time": "2022-12-21T13:52:32.479Z"
   },
   {
    "duration": 3,
    "start_time": "2022-12-21T13:52:42.076Z"
   },
   {
    "duration": 16,
    "start_time": "2022-12-21T13:57:21.636Z"
   },
   {
    "duration": 16,
    "start_time": "2022-12-21T13:57:36.709Z"
   },
   {
    "duration": 5,
    "start_time": "2022-12-21T13:57:57.007Z"
   },
   {
    "duration": 15,
    "start_time": "2022-12-21T13:58:10.654Z"
   },
   {
    "duration": 206,
    "start_time": "2022-12-21T13:58:54.857Z"
   },
   {
    "duration": 12,
    "start_time": "2022-12-21T13:59:24.227Z"
   },
   {
    "duration": 6,
    "start_time": "2022-12-21T13:59:28.500Z"
   },
   {
    "duration": 15,
    "start_time": "2022-12-21T13:59:36.880Z"
   },
   {
    "duration": 5,
    "start_time": "2022-12-21T14:00:07.886Z"
   },
   {
    "duration": 6,
    "start_time": "2022-12-21T14:00:11.584Z"
   },
   {
    "duration": 11,
    "start_time": "2022-12-21T14:00:16.397Z"
   },
   {
    "duration": 6,
    "start_time": "2022-12-21T14:00:16.551Z"
   },
   {
    "duration": 11,
    "start_time": "2022-12-21T14:00:17.881Z"
   },
   {
    "duration": 6,
    "start_time": "2022-12-21T14:00:18.102Z"
   },
   {
    "duration": 15,
    "start_time": "2022-12-21T14:00:19.145Z"
   },
   {
    "duration": 6,
    "start_time": "2022-12-21T14:00:19.333Z"
   },
   {
    "duration": 10,
    "start_time": "2022-12-21T14:03:25.559Z"
   },
   {
    "duration": 17,
    "start_time": "2022-12-21T14:03:28.915Z"
   },
   {
    "duration": 4,
    "start_time": "2022-12-21T14:03:41.041Z"
   },
   {
    "duration": 4,
    "start_time": "2022-12-21T14:12:26.241Z"
   },
   {
    "duration": 53,
    "start_time": "2022-12-21T14:12:26.247Z"
   },
   {
    "duration": 3,
    "start_time": "2022-12-21T14:12:26.302Z"
   },
   {
    "duration": 10,
    "start_time": "2022-12-21T14:12:26.306Z"
   },
   {
    "duration": 13,
    "start_time": "2022-12-21T14:12:26.318Z"
   },
   {
    "duration": 10,
    "start_time": "2022-12-21T14:12:26.332Z"
   },
   {
    "duration": 12,
    "start_time": "2022-12-21T14:12:26.344Z"
   },
   {
    "duration": 908,
    "start_time": "2022-12-21T14:12:26.357Z"
   },
   {
    "duration": 5,
    "start_time": "2022-12-21T14:12:27.266Z"
   },
   {
    "duration": 29,
    "start_time": "2022-12-21T14:12:27.273Z"
   },
   {
    "duration": 18,
    "start_time": "2022-12-21T14:12:27.305Z"
   },
   {
    "duration": 20,
    "start_time": "2022-12-21T14:12:27.336Z"
   },
   {
    "duration": 38,
    "start_time": "2022-12-21T14:12:27.358Z"
   },
   {
    "duration": 3410,
    "start_time": "2022-12-21T14:12:27.398Z"
   },
   {
    "duration": 66620,
    "start_time": "2022-12-21T14:12:30.809Z"
   },
   {
    "duration": 69827,
    "start_time": "2022-12-21T14:13:37.431Z"
   },
   {
    "duration": 1196,
    "start_time": "2022-12-21T14:14:47.259Z"
   },
   {
    "duration": 94,
    "start_time": "2022-12-21T14:14:48.459Z"
   },
   {
    "duration": 1398,
    "start_time": "2022-12-21T14:14:48.555Z"
   },
   {
    "duration": 579,
    "start_time": "2022-12-21T14:14:49.955Z"
   },
   {
    "duration": 19,
    "start_time": "2022-12-21T14:14:50.536Z"
   },
   {
    "duration": 5,
    "start_time": "2022-12-21T14:14:50.557Z"
   },
   {
    "duration": 4323,
    "start_time": "2022-12-21T14:14:50.563Z"
   },
   {
    "duration": 87750,
    "start_time": "2022-12-21T14:14:54.888Z"
   },
   {
    "duration": 102247,
    "start_time": "2022-12-21T14:16:22.640Z"
   },
   {
    "duration": 1864,
    "start_time": "2022-12-21T14:18:04.889Z"
   },
   {
    "duration": 9,
    "start_time": "2022-12-21T14:18:06.757Z"
   },
   {
    "duration": 1587,
    "start_time": "2022-12-21T14:18:06.767Z"
   },
   {
    "duration": 583,
    "start_time": "2022-12-21T14:18:08.358Z"
   },
   {
    "duration": 1739,
    "start_time": "2022-12-21T14:19:15.821Z"
   },
   {
    "duration": 1205,
    "start_time": "2022-12-21T14:19:24.551Z"
   },
   {
    "duration": 4113,
    "start_time": "2022-12-21T14:21:28.447Z"
   },
   {
    "duration": 89719,
    "start_time": "2022-12-21T14:21:59.168Z"
   },
   {
    "duration": 160,
    "start_time": "2022-12-21T14:23:28.888Z"
   },
   {
    "duration": 1939,
    "start_time": "2022-12-21T14:23:29.051Z"
   },
   {
    "duration": 1510,
    "start_time": "2022-12-21T14:23:31.055Z"
   },
   {
    "duration": 103149,
    "start_time": "2022-12-21T14:24:42.012Z"
   },
   {
    "duration": 1989,
    "start_time": "2022-12-21T14:26:25.163Z"
   },
   {
    "duration": 1872,
    "start_time": "2022-12-21T14:27:16.782Z"
   },
   {
    "duration": 7,
    "start_time": "2022-12-21T14:31:13.521Z"
   },
   {
    "duration": 10,
    "start_time": "2022-12-21T14:31:21.119Z"
   },
   {
    "duration": 206,
    "start_time": "2022-12-21T14:32:33.343Z"
   },
   {
    "duration": 227,
    "start_time": "2022-12-21T14:32:45.833Z"
   },
   {
    "duration": 97616,
    "start_time": "2022-12-21T14:37:17.677Z"
   },
   {
    "duration": 207,
    "start_time": "2022-12-21T14:38:55.295Z"
   },
   {
    "duration": 8,
    "start_time": "2022-12-21T14:43:30.247Z"
   },
   {
    "duration": 15,
    "start_time": "2022-12-21T14:43:34.742Z"
   },
   {
    "duration": 6,
    "start_time": "2022-12-21T14:43:34.983Z"
   },
   {
    "duration": 87,
    "start_time": "2022-12-21T14:46:09.954Z"
   },
   {
    "duration": 7,
    "start_time": "2022-12-21T14:55:17.948Z"
   },
   {
    "duration": 57,
    "start_time": "2022-12-21T14:55:17.957Z"
   },
   {
    "duration": 5,
    "start_time": "2022-12-21T14:55:18.015Z"
   },
   {
    "duration": 9,
    "start_time": "2022-12-21T14:55:18.021Z"
   },
   {
    "duration": 10,
    "start_time": "2022-12-21T14:55:18.033Z"
   },
   {
    "duration": 11,
    "start_time": "2022-12-21T14:55:18.045Z"
   },
   {
    "duration": 20,
    "start_time": "2022-12-21T14:55:18.059Z"
   },
   {
    "duration": 940,
    "start_time": "2022-12-21T14:55:18.082Z"
   },
   {
    "duration": 7,
    "start_time": "2022-12-21T14:55:19.024Z"
   },
   {
    "duration": 24,
    "start_time": "2022-12-21T14:55:19.033Z"
   },
   {
    "duration": 10,
    "start_time": "2022-12-21T14:55:19.060Z"
   },
   {
    "duration": 15,
    "start_time": "2022-12-21T14:55:19.071Z"
   },
   {
    "duration": 42,
    "start_time": "2022-12-21T14:55:19.090Z"
   },
   {
    "duration": 4534,
    "start_time": "2022-12-21T14:55:19.136Z"
   },
   {
    "duration": 74939,
    "start_time": "2022-12-21T14:55:23.672Z"
   },
   {
    "duration": 75836,
    "start_time": "2022-12-21T14:56:38.613Z"
   },
   {
    "duration": 1630,
    "start_time": "2022-12-21T14:57:54.452Z"
   },
   {
    "duration": 6,
    "start_time": "2022-12-21T14:57:56.154Z"
   },
   {
    "duration": 1591,
    "start_time": "2022-12-21T14:57:56.162Z"
   },
   {
    "duration": 950,
    "start_time": "2022-12-21T14:57:57.755Z"
   },
   {
    "duration": 15,
    "start_time": "2022-12-21T14:57:58.707Z"
   },
   {
    "duration": 22,
    "start_time": "2022-12-21T14:57:58.724Z"
   },
   {
    "duration": 5606,
    "start_time": "2022-12-21T14:57:58.751Z"
   },
   {
    "duration": 103133,
    "start_time": "2022-12-21T14:58:04.359Z"
   },
   {
    "duration": 106962,
    "start_time": "2022-12-21T14:59:47.493Z"
   },
   {
    "duration": 1498,
    "start_time": "2022-12-21T15:01:34.457Z"
   },
   {
    "duration": 1698,
    "start_time": "2022-12-21T15:01:35.958Z"
   },
   {
    "duration": 490,
    "start_time": "2022-12-21T15:01:37.658Z"
   },
   {
    "duration": 5067,
    "start_time": "2022-12-21T15:01:38.152Z"
   },
   {
    "duration": 93114,
    "start_time": "2022-12-21T15:01:43.221Z"
   },
   {
    "duration": 1238,
    "start_time": "2022-12-21T15:03:16.337Z"
   },
   {
    "duration": 83,
    "start_time": "2022-12-21T15:03:17.577Z"
   },
   {
    "duration": 0,
    "start_time": "2022-12-21T15:03:17.662Z"
   },
   {
    "duration": 0,
    "start_time": "2022-12-21T15:03:17.664Z"
   },
   {
    "duration": 0,
    "start_time": "2022-12-21T15:03:17.665Z"
   },
   {
    "duration": 0,
    "start_time": "2022-12-21T15:03:17.666Z"
   },
   {
    "duration": 8497,
    "start_time": "2022-12-21T15:03:40.455Z"
   },
   {
    "duration": 600,
    "start_time": "2022-12-21T15:03:48.958Z"
   },
   {
    "duration": 6,
    "start_time": "2022-12-21T15:07:49.058Z"
   },
   {
    "duration": 357,
    "start_time": "2022-12-21T15:07:50.047Z"
   },
   {
    "duration": 148,
    "start_time": "2022-12-21T15:07:52.648Z"
   },
   {
    "duration": 6,
    "start_time": "2022-12-21T15:08:37.695Z"
   },
   {
    "duration": 1133,
    "start_time": "2022-12-21T15:08:38.051Z"
   },
   {
    "duration": 166,
    "start_time": "2022-12-21T15:08:39.186Z"
   },
   {
    "duration": 226,
    "start_time": "2022-12-21T15:09:04.630Z"
   },
   {
    "duration": 144,
    "start_time": "2022-12-21T15:09:07.155Z"
   },
   {
    "duration": 1360,
    "start_time": "2022-12-21T15:09:40.285Z"
   },
   {
    "duration": 53,
    "start_time": "2022-12-21T15:09:41.647Z"
   },
   {
    "duration": 4,
    "start_time": "2022-12-21T15:09:41.701Z"
   },
   {
    "duration": 13,
    "start_time": "2022-12-21T15:09:41.707Z"
   },
   {
    "duration": 12,
    "start_time": "2022-12-21T15:09:41.722Z"
   },
   {
    "duration": 12,
    "start_time": "2022-12-21T15:09:41.736Z"
   },
   {
    "duration": 16,
    "start_time": "2022-12-21T15:09:41.750Z"
   },
   {
    "duration": 985,
    "start_time": "2022-12-21T15:09:41.768Z"
   },
   {
    "duration": 6,
    "start_time": "2022-12-21T15:09:42.754Z"
   },
   {
    "duration": 12,
    "start_time": "2022-12-21T15:09:42.762Z"
   },
   {
    "duration": 4,
    "start_time": "2022-12-21T15:09:42.776Z"
   },
   {
    "duration": 18,
    "start_time": "2022-12-21T15:09:42.782Z"
   },
   {
    "duration": 109,
    "start_time": "2022-12-21T15:09:42.802Z"
   },
   {
    "duration": 4065,
    "start_time": "2022-12-21T15:09:42.912Z"
   },
   {
    "duration": 69424,
    "start_time": "2022-12-21T15:09:46.979Z"
   },
   {
    "duration": 77296,
    "start_time": "2022-12-21T15:10:56.405Z"
   },
   {
    "duration": 1758,
    "start_time": "2022-12-21T15:12:13.703Z"
   },
   {
    "duration": 89,
    "start_time": "2022-12-21T15:12:15.463Z"
   },
   {
    "duration": 2514,
    "start_time": "2022-12-21T15:12:15.555Z"
   },
   {
    "duration": 597,
    "start_time": "2022-12-21T15:12:18.070Z"
   },
   {
    "duration": 11,
    "start_time": "2022-12-21T15:12:18.669Z"
   },
   {
    "duration": 6,
    "start_time": "2022-12-21T15:12:18.682Z"
   },
   {
    "duration": 4467,
    "start_time": "2022-12-21T15:12:18.689Z"
   },
   {
    "duration": 90008,
    "start_time": "2022-12-21T15:12:23.158Z"
   },
   {
    "duration": 104543,
    "start_time": "2022-12-21T15:13:53.169Z"
   },
   {
    "duration": 2454,
    "start_time": "2022-12-21T15:15:37.714Z"
   },
   {
    "duration": 3098,
    "start_time": "2022-12-21T15:15:40.171Z"
   },
   {
    "duration": 566,
    "start_time": "2022-12-21T15:15:43.274Z"
   },
   {
    "duration": 4536,
    "start_time": "2022-12-21T15:15:43.842Z"
   },
   {
    "duration": 91980,
    "start_time": "2022-12-21T15:15:48.379Z"
   },
   {
    "duration": 1998,
    "start_time": "2022-12-21T15:17:20.361Z"
   },
   {
    "duration": 2391,
    "start_time": "2022-12-21T15:17:22.361Z"
   },
   {
    "duration": 494,
    "start_time": "2022-12-21T15:17:24.754Z"
   },
   {
    "duration": 5,
    "start_time": "2022-12-21T15:17:25.252Z"
   },
   {
    "duration": 357,
    "start_time": "2022-12-21T15:17:25.259Z"
   },
   {
    "duration": 167,
    "start_time": "2022-12-21T15:17:25.618Z"
   },
   {
    "duration": 378,
    "start_time": "2022-12-21T15:18:14.437Z"
   },
   {
    "duration": 371,
    "start_time": "2022-12-21T15:18:38.888Z"
   },
   {
    "duration": 103,
    "start_time": "2022-12-21T15:18:53.418Z"
   },
   {
    "duration": 360,
    "start_time": "2022-12-21T15:19:00.450Z"
   },
   {
    "duration": 463,
    "start_time": "2022-12-21T15:19:01.743Z"
   },
   {
    "duration": 333,
    "start_time": "2022-12-21T15:19:09.812Z"
   },
   {
    "duration": 394,
    "start_time": "2022-12-21T15:19:10.839Z"
   },
   {
    "duration": 1646,
    "start_time": "2022-12-21T15:19:47.449Z"
   },
   {
    "duration": 91,
    "start_time": "2022-12-21T15:19:49.097Z"
   },
   {
    "duration": 5,
    "start_time": "2022-12-21T15:19:49.190Z"
   },
   {
    "duration": 63,
    "start_time": "2022-12-21T15:19:49.197Z"
   },
   {
    "duration": 13,
    "start_time": "2022-12-21T15:19:49.261Z"
   },
   {
    "duration": 10,
    "start_time": "2022-12-21T15:19:49.276Z"
   },
   {
    "duration": 15,
    "start_time": "2022-12-21T15:19:49.287Z"
   },
   {
    "duration": 1298,
    "start_time": "2022-12-21T15:19:49.304Z"
   },
   {
    "duration": 6,
    "start_time": "2022-12-21T15:19:50.603Z"
   },
   {
    "duration": 12,
    "start_time": "2022-12-21T15:19:50.611Z"
   },
   {
    "duration": 4,
    "start_time": "2022-12-21T15:19:50.624Z"
   },
   {
    "duration": 25,
    "start_time": "2022-12-21T15:19:50.630Z"
   },
   {
    "duration": 105,
    "start_time": "2022-12-21T15:19:50.657Z"
   },
   {
    "duration": 3764,
    "start_time": "2022-12-21T15:19:50.763Z"
   },
   {
    "duration": 68094,
    "start_time": "2022-12-21T15:19:54.553Z"
   },
   {
    "duration": 74580,
    "start_time": "2022-12-21T15:21:02.648Z"
   },
   {
    "duration": 1455,
    "start_time": "2022-12-21T15:22:17.229Z"
   },
   {
    "duration": 69,
    "start_time": "2022-12-21T15:22:18.686Z"
   },
   {
    "duration": 1096,
    "start_time": "2022-12-21T15:22:18.760Z"
   },
   {
    "duration": 513,
    "start_time": "2022-12-21T15:22:19.858Z"
   },
   {
    "duration": 12,
    "start_time": "2022-12-21T15:22:20.373Z"
   },
   {
    "duration": 36,
    "start_time": "2022-12-21T15:22:20.387Z"
   },
   {
    "duration": 4571,
    "start_time": "2022-12-21T15:22:20.425Z"
   },
   {
    "duration": 88082,
    "start_time": "2022-12-21T15:22:24.998Z"
   },
   {
    "duration": 101785,
    "start_time": "2022-12-21T15:23:53.081Z"
   },
   {
    "duration": 1202,
    "start_time": "2022-12-21T15:25:34.867Z"
   },
   {
    "duration": 2785,
    "start_time": "2022-12-21T15:25:36.071Z"
   },
   {
    "duration": 597,
    "start_time": "2022-12-21T15:25:38.862Z"
   },
   {
    "duration": 4526,
    "start_time": "2022-12-21T15:25:39.461Z"
   },
   {
    "duration": 89158,
    "start_time": "2022-12-21T15:25:43.989Z"
   },
   {
    "duration": 1208,
    "start_time": "2022-12-21T15:27:13.148Z"
   },
   {
    "duration": 1594,
    "start_time": "2022-12-21T15:27:14.360Z"
   },
   {
    "duration": 473,
    "start_time": "2022-12-21T15:27:15.956Z"
   },
   {
    "duration": 6,
    "start_time": "2022-12-21T15:27:16.430Z"
   },
   {
    "duration": 307,
    "start_time": "2022-12-21T15:27:16.437Z"
   },
   {
    "duration": 397,
    "start_time": "2022-12-21T15:27:16.746Z"
   },
   {
    "duration": 5,
    "start_time": "2022-12-23T16:47:00.883Z"
   },
   {
    "duration": 5,
    "start_time": "2022-12-23T16:47:11.010Z"
   },
   {
    "duration": 50,
    "start_time": "2022-12-23T16:47:12.654Z"
   },
   {
    "duration": 45,
    "start_time": "2022-12-23T16:47:39.032Z"
   },
   {
    "duration": 10,
    "start_time": "2022-12-23T16:47:46.815Z"
   },
   {
    "duration": 11,
    "start_time": "2022-12-23T16:47:51.563Z"
   },
   {
    "duration": 52,
    "start_time": "2022-12-23T16:48:09.572Z"
   },
   {
    "duration": 11,
    "start_time": "2022-12-23T16:48:36.818Z"
   },
   {
    "duration": 35,
    "start_time": "2022-12-23T16:48:49.012Z"
   },
   {
    "duration": 4,
    "start_time": "2022-12-23T16:49:20.226Z"
   },
   {
    "duration": 47,
    "start_time": "2022-12-23T16:49:20.515Z"
   },
   {
    "duration": 14,
    "start_time": "2022-12-23T16:49:20.974Z"
   },
   {
    "duration": 38,
    "start_time": "2022-12-23T16:49:21.466Z"
   },
   {
    "duration": 4,
    "start_time": "2022-12-23T16:49:22.212Z"
   },
   {
    "duration": 4,
    "start_time": "2022-12-23T16:49:23.316Z"
   },
   {
    "duration": 9,
    "start_time": "2022-12-23T16:49:23.859Z"
   },
   {
    "duration": 7,
    "start_time": "2022-12-23T16:49:24.522Z"
   },
   {
    "duration": 10,
    "start_time": "2022-12-23T16:49:25.509Z"
   },
   {
    "duration": 1010,
    "start_time": "2022-12-23T16:49:49.555Z"
   },
   {
    "duration": 864,
    "start_time": "2022-12-23T16:49:57.418Z"
   },
   {
    "duration": 118,
    "start_time": "2022-12-23T16:50:21.710Z"
   },
   {
    "duration": 6,
    "start_time": "2022-12-23T16:51:11.916Z"
   },
   {
    "duration": 124,
    "start_time": "2022-12-23T16:51:15.374Z"
   },
   {
    "duration": 112,
    "start_time": "2022-12-23T16:51:24.528Z"
   },
   {
    "duration": 101,
    "start_time": "2022-12-23T16:59:25.277Z"
   },
   {
    "duration": 10,
    "start_time": "2022-12-23T16:59:40.115Z"
   },
   {
    "duration": 5,
    "start_time": "2022-12-23T17:21:09.868Z"
   },
   {
    "duration": 49,
    "start_time": "2022-12-23T17:21:10.114Z"
   },
   {
    "duration": 11,
    "start_time": "2022-12-23T17:21:10.623Z"
   },
   {
    "duration": 44,
    "start_time": "2022-12-23T17:21:11.371Z"
   },
   {
    "duration": 4,
    "start_time": "2022-12-23T17:21:12.050Z"
   },
   {
    "duration": 4,
    "start_time": "2022-12-23T17:21:14.173Z"
   },
   {
    "duration": 8,
    "start_time": "2022-12-23T17:21:16.320Z"
   },
   {
    "duration": 7,
    "start_time": "2022-12-23T17:21:18.351Z"
   },
   {
    "duration": 11,
    "start_time": "2022-12-23T17:21:19.650Z"
   },
   {
    "duration": 912,
    "start_time": "2022-12-23T17:21:23.675Z"
   },
   {
    "duration": 212,
    "start_time": "2022-12-23T17:21:25.826Z"
   },
   {
    "duration": 7,
    "start_time": "2022-12-23T17:22:53.372Z"
   },
   {
    "duration": 5,
    "start_time": "2022-12-23T17:24:44.984Z"
   },
   {
    "duration": 4,
    "start_time": "2022-12-23T17:25:38.924Z"
   },
   {
    "duration": 2,
    "start_time": "2022-12-23T17:26:31.266Z"
   },
   {
    "duration": 4,
    "start_time": "2022-12-23T17:30:31.107Z"
   },
   {
    "duration": 4,
    "start_time": "2022-12-23T17:30:33.957Z"
   },
   {
    "duration": 49,
    "start_time": "2022-12-23T17:30:34.329Z"
   },
   {
    "duration": 17,
    "start_time": "2022-12-23T17:30:34.684Z"
   },
   {
    "duration": 32,
    "start_time": "2022-12-23T17:30:34.922Z"
   },
   {
    "duration": 4,
    "start_time": "2022-12-23T17:30:35.178Z"
   },
   {
    "duration": 4,
    "start_time": "2022-12-23T17:30:35.573Z"
   },
   {
    "duration": 7,
    "start_time": "2022-12-23T17:30:35.834Z"
   },
   {
    "duration": 7,
    "start_time": "2022-12-23T17:30:36.219Z"
   },
   {
    "duration": 10,
    "start_time": "2022-12-23T17:30:36.854Z"
   },
   {
    "duration": 817,
    "start_time": "2022-12-23T17:30:38.757Z"
   },
   {
    "duration": 102,
    "start_time": "2022-12-23T17:30:39.669Z"
   },
   {
    "duration": 3,
    "start_time": "2022-12-23T17:30:40.843Z"
   },
   {
    "duration": 4,
    "start_time": "2022-12-23T17:30:42.482Z"
   },
   {
    "duration": 9,
    "start_time": "2022-12-23T17:31:15.524Z"
   },
   {
    "duration": 25,
    "start_time": "2022-12-23T17:31:34.710Z"
   },
   {
    "duration": 5,
    "start_time": "2022-12-23T17:32:05.445Z"
   },
   {
    "duration": 3,
    "start_time": "2022-12-23T17:32:06.037Z"
   },
   {
    "duration": 4,
    "start_time": "2022-12-23T17:32:47.670Z"
   },
   {
    "duration": 2,
    "start_time": "2022-12-23T17:33:34.048Z"
   },
   {
    "duration": 108,
    "start_time": "2022-12-23T17:37:22.715Z"
   },
   {
    "duration": 10,
    "start_time": "2022-12-23T17:37:33.315Z"
   },
   {
    "duration": 13,
    "start_time": "2022-12-23T17:37:39.484Z"
   },
   {
    "duration": 15,
    "start_time": "2022-12-23T17:43:03.978Z"
   },
   {
    "duration": 7178,
    "start_time": "2022-12-23T17:43:52.532Z"
   },
   {
    "duration": 19,
    "start_time": "2022-12-23T17:44:17.264Z"
   },
   {
    "duration": 2262,
    "start_time": "2022-12-23T17:44:27.174Z"
   },
   {
    "duration": 49,
    "start_time": "2022-12-23T17:44:29.439Z"
   },
   {
    "duration": 15,
    "start_time": "2022-12-23T17:44:29.622Z"
   },
   {
    "duration": 362,
    "start_time": "2022-12-23T17:44:30.029Z"
   },
   {
    "duration": 139,
    "start_time": "2022-12-23T17:44:30.522Z"
   },
   {
    "duration": 4,
    "start_time": "2022-12-23T17:44:31.023Z"
   },
   {
    "duration": 13,
    "start_time": "2022-12-23T17:44:31.517Z"
   },
   {
    "duration": 8,
    "start_time": "2022-12-23T17:44:31.827Z"
   },
   {
    "duration": 15,
    "start_time": "2022-12-23T17:44:32.413Z"
   },
   {
    "duration": 958,
    "start_time": "2022-12-23T17:44:34.032Z"
   },
   {
    "duration": 106,
    "start_time": "2022-12-23T17:44:35.123Z"
   },
   {
    "duration": 2,
    "start_time": "2022-12-23T17:44:35.922Z"
   },
   {
    "duration": 4,
    "start_time": "2022-12-23T17:44:37.054Z"
   },
   {
    "duration": 11,
    "start_time": "2022-12-23T17:44:38.121Z"
   },
   {
    "duration": 23,
    "start_time": "2022-12-23T17:44:38.578Z"
   },
   {
    "duration": 6,
    "start_time": "2022-12-23T17:44:39.126Z"
   },
   {
    "duration": 2,
    "start_time": "2022-12-23T17:44:39.380Z"
   },
   {
    "duration": 16,
    "start_time": "2022-12-23T17:44:39.823Z"
   },
   {
    "duration": 13,
    "start_time": "2022-12-23T17:45:19.494Z"
   },
   {
    "duration": 8,
    "start_time": "2022-12-23T17:45:22.772Z"
   },
   {
    "duration": 10,
    "start_time": "2022-12-23T17:45:25.632Z"
   },
   {
    "duration": 16,
    "start_time": "2022-12-23T17:45:29.207Z"
   },
   {
    "duration": 6155,
    "start_time": "2022-12-23T17:45:48.329Z"
   },
   {
    "duration": 18,
    "start_time": "2022-12-23T17:45:56.821Z"
   },
   {
    "duration": 60,
    "start_time": "2022-12-23T17:48:19.916Z"
   },
   {
    "duration": 2193,
    "start_time": "2022-12-23T17:48:43.968Z"
   },
   {
    "duration": 2204,
    "start_time": "2022-12-23T17:49:05.420Z"
   },
   {
    "duration": 2195,
    "start_time": "2022-12-23T17:49:34.796Z"
   },
   {
    "duration": 1396,
    "start_time": "2022-12-23T17:49:39.071Z"
   },
   {
    "duration": 0,
    "start_time": "2022-12-23T17:49:40.469Z"
   },
   {
    "duration": 0,
    "start_time": "2022-12-23T17:49:40.471Z"
   },
   {
    "duration": 0,
    "start_time": "2022-12-23T17:49:40.472Z"
   },
   {
    "duration": 0,
    "start_time": "2022-12-23T17:49:40.473Z"
   },
   {
    "duration": 9,
    "start_time": "2022-12-23T17:49:40.544Z"
   },
   {
    "duration": 10,
    "start_time": "2022-12-23T17:49:40.812Z"
   },
   {
    "duration": 10,
    "start_time": "2022-12-23T17:49:41.062Z"
   },
   {
    "duration": 2314,
    "start_time": "2022-12-23T17:50:32.764Z"
   },
   {
    "duration": 16,
    "start_time": "2022-12-23T17:50:35.080Z"
   },
   {
    "duration": 2127,
    "start_time": "2022-12-23T17:50:41.812Z"
   },
   {
    "duration": 17,
    "start_time": "2022-12-23T17:50:43.941Z"
   },
   {
    "duration": 9,
    "start_time": "2022-12-23T17:51:09.361Z"
   },
   {
    "duration": 71,
    "start_time": "2022-12-23T17:51:12.148Z"
   },
   {
    "duration": 15,
    "start_time": "2022-12-23T17:51:12.723Z"
   },
   {
    "duration": 43,
    "start_time": "2022-12-23T17:51:13.064Z"
   },
   {
    "duration": 5,
    "start_time": "2022-12-23T17:51:13.517Z"
   },
   {
    "duration": 9,
    "start_time": "2022-12-23T17:51:14.003Z"
   },
   {
    "duration": 10,
    "start_time": "2022-12-23T17:51:14.819Z"
   },
   {
    "duration": 9,
    "start_time": "2022-12-23T17:51:15.376Z"
   },
   {
    "duration": 15,
    "start_time": "2022-12-23T17:51:15.916Z"
   },
   {
    "duration": 985,
    "start_time": "2022-12-23T17:51:16.764Z"
   },
   {
    "duration": 129,
    "start_time": "2022-12-23T17:51:17.751Z"
   },
   {
    "duration": 2,
    "start_time": "2022-12-23T17:51:18.156Z"
   },
   {
    "duration": 7,
    "start_time": "2022-12-23T17:51:19.319Z"
   },
   {
    "duration": 12,
    "start_time": "2022-12-23T17:51:20.020Z"
   },
   {
    "duration": 100,
    "start_time": "2022-12-23T17:51:20.634Z"
   },
   {
    "duration": 4,
    "start_time": "2022-12-23T17:51:21.837Z"
   },
   {
    "duration": 3,
    "start_time": "2022-12-23T17:51:22.335Z"
   },
   {
    "duration": 23,
    "start_time": "2022-12-23T17:51:22.662Z"
   },
   {
    "duration": 14,
    "start_time": "2022-12-23T17:51:51.059Z"
   },
   {
    "duration": 6,
    "start_time": "2022-12-23T17:54:04.524Z"
   },
   {
    "duration": 14,
    "start_time": "2022-12-23T17:54:08.217Z"
   },
   {
    "duration": 4,
    "start_time": "2022-12-23T17:54:32.656Z"
   },
   {
    "duration": 25,
    "start_time": "2022-12-23T17:54:38.188Z"
   },
   {
    "duration": 2238,
    "start_time": "2022-12-23T17:54:51.169Z"
   },
   {
    "duration": 7,
    "start_time": "2022-12-23T17:54:53.410Z"
   },
   {
    "duration": 64,
    "start_time": "2022-12-23T17:54:53.419Z"
   },
   {
    "duration": 17,
    "start_time": "2022-12-23T17:54:53.485Z"
   },
   {
    "duration": 46,
    "start_time": "2022-12-23T17:54:53.506Z"
   },
   {
    "duration": 4,
    "start_time": "2022-12-23T17:54:53.554Z"
   },
   {
    "duration": 19,
    "start_time": "2022-12-23T17:54:53.559Z"
   },
   {
    "duration": 8,
    "start_time": "2022-12-23T17:54:53.580Z"
   },
   {
    "duration": 21,
    "start_time": "2022-12-23T17:54:53.589Z"
   },
   {
    "duration": 17,
    "start_time": "2022-12-23T17:54:53.613Z"
   },
   {
    "duration": 933,
    "start_time": "2022-12-23T17:54:53.632Z"
   },
   {
    "duration": 141,
    "start_time": "2022-12-23T17:54:54.567Z"
   },
   {
    "duration": 6,
    "start_time": "2022-12-23T17:54:54.715Z"
   },
   {
    "duration": 22,
    "start_time": "2022-12-23T17:54:54.725Z"
   },
   {
    "duration": 23,
    "start_time": "2022-12-23T17:54:54.749Z"
   },
   {
    "duration": 31,
    "start_time": "2022-12-23T17:54:54.774Z"
   },
   {
    "duration": 12,
    "start_time": "2022-12-23T17:54:54.807Z"
   },
   {
    "duration": 29,
    "start_time": "2022-12-23T17:54:54.821Z"
   },
   {
    "duration": 38,
    "start_time": "2022-12-23T17:54:54.852Z"
   },
   {
    "duration": 81046,
    "start_time": "2022-12-23T17:59:50.040Z"
   },
   {
    "duration": 3,
    "start_time": "2022-12-23T18:01:28.219Z"
   },
   {
    "duration": 4007,
    "start_time": "2022-12-23T18:01:59.748Z"
   },
   {
    "duration": 81302,
    "start_time": "2022-12-23T18:02:30.537Z"
   },
   {
    "duration": 585,
    "start_time": "2022-12-23T18:03:51.842Z"
   },
   {
    "duration": 517,
    "start_time": "2022-12-23T18:04:45.443Z"
   },
   {
    "duration": 79570,
    "start_time": "2022-12-23T18:04:52.728Z"
   },
   {
    "duration": 712,
    "start_time": "2022-12-23T18:09:45.572Z"
   },
   {
    "duration": 578,
    "start_time": "2022-12-23T18:09:53.015Z"
   },
   {
    "duration": 80121,
    "start_time": "2022-12-23T18:12:05.710Z"
   },
   {
    "duration": 1017,
    "start_time": "2022-12-23T18:13:34.635Z"
   },
   {
    "duration": 935,
    "start_time": "2022-12-23T18:13:48.021Z"
   },
   {
    "duration": 865,
    "start_time": "2022-12-23T18:13:58.789Z"
   },
   {
    "duration": 871,
    "start_time": "2022-12-23T18:14:18.969Z"
   },
   {
    "duration": 930,
    "start_time": "2022-12-23T18:14:33.942Z"
   },
   {
    "duration": 861,
    "start_time": "2022-12-23T18:14:42.862Z"
   },
   {
    "duration": 974,
    "start_time": "2022-12-23T18:14:48.128Z"
   },
   {
    "duration": 942,
    "start_time": "2022-12-23T18:14:56.515Z"
   },
   {
    "duration": 999,
    "start_time": "2022-12-23T18:15:04.843Z"
   },
   {
    "duration": 1060,
    "start_time": "2022-12-23T18:15:13.613Z"
   },
   {
    "duration": 1166,
    "start_time": "2022-12-23T18:15:20.328Z"
   },
   {
    "duration": 6,
    "start_time": "2022-12-23T18:16:55.948Z"
   },
   {
    "duration": 2211,
    "start_time": "2022-12-23T19:04:00.875Z"
   },
   {
    "duration": 6,
    "start_time": "2022-12-23T19:04:03.090Z"
   },
   {
    "duration": 68,
    "start_time": "2022-12-23T19:04:03.098Z"
   },
   {
    "duration": 16,
    "start_time": "2022-12-23T19:04:03.168Z"
   },
   {
    "duration": 46,
    "start_time": "2022-12-23T19:04:03.186Z"
   },
   {
    "duration": 5,
    "start_time": "2022-12-23T19:04:03.233Z"
   },
   {
    "duration": 13,
    "start_time": "2022-12-23T19:04:03.239Z"
   },
   {
    "duration": 15,
    "start_time": "2022-12-23T19:04:03.254Z"
   },
   {
    "duration": 15,
    "start_time": "2022-12-23T19:04:03.271Z"
   },
   {
    "duration": 10,
    "start_time": "2022-12-23T19:04:03.299Z"
   },
   {
    "duration": 989,
    "start_time": "2022-12-23T19:04:03.311Z"
   },
   {
    "duration": 114,
    "start_time": "2022-12-23T19:04:04.302Z"
   },
   {
    "duration": 3,
    "start_time": "2022-12-23T19:04:04.418Z"
   },
   {
    "duration": 14,
    "start_time": "2022-12-23T19:04:04.422Z"
   },
   {
    "duration": 12,
    "start_time": "2022-12-23T19:04:04.440Z"
   },
   {
    "duration": 23,
    "start_time": "2022-12-23T19:04:04.454Z"
   },
   {
    "duration": 23,
    "start_time": "2022-12-23T19:04:04.478Z"
   },
   {
    "duration": 11,
    "start_time": "2022-12-23T19:04:04.503Z"
   },
   {
    "duration": 30,
    "start_time": "2022-12-23T19:04:04.516Z"
   },
   {
    "duration": 4492,
    "start_time": "2022-12-23T19:04:04.547Z"
   },
   {
    "duration": 5517,
    "start_time": "2022-12-23T19:04:09.042Z"
   },
   {
    "duration": 84381,
    "start_time": "2022-12-23T19:04:14.562Z"
   },
   {
    "duration": 81776,
    "start_time": "2022-12-23T19:05:38.945Z"
   },
   {
    "duration": 1578,
    "start_time": "2022-12-23T19:07:00.723Z"
   },
   {
    "duration": 7,
    "start_time": "2022-12-23T19:07:02.304Z"
   },
   {
    "duration": 1691,
    "start_time": "2022-12-23T19:07:02.314Z"
   },
   {
    "duration": 566,
    "start_time": "2022-12-23T19:07:04.007Z"
   },
   {
    "duration": 26,
    "start_time": "2022-12-23T19:07:04.576Z"
   },
   {
    "duration": 116,
    "start_time": "2022-12-23T19:07:04.604Z"
   },
   {
    "duration": 4316,
    "start_time": "2022-12-23T19:07:04.722Z"
   },
   {
    "duration": 94788,
    "start_time": "2022-12-23T19:07:09.040Z"
   },
   {
    "duration": 116270,
    "start_time": "2022-12-23T19:08:43.830Z"
   },
   {
    "duration": 3615,
    "start_time": "2022-12-23T19:10:40.102Z"
   },
   {
    "duration": 2589,
    "start_time": "2022-12-23T19:10:43.719Z"
   },
   {
    "duration": 675,
    "start_time": "2022-12-23T19:10:46.310Z"
   },
   {
    "duration": 4762,
    "start_time": "2022-12-23T19:10:46.987Z"
   },
   {
    "duration": 78630,
    "start_time": "2022-12-23T19:10:51.751Z"
   },
   {
    "duration": 1139,
    "start_time": "2022-12-23T19:12:10.383Z"
   },
   {
    "duration": 10784,
    "start_time": "2022-12-23T19:12:11.524Z"
   },
   {
    "duration": 566,
    "start_time": "2022-12-23T19:12:22.310Z"
   },
   {
    "duration": 16,
    "start_time": "2022-12-23T19:14:12.265Z"
   },
   {
    "duration": 22,
    "start_time": "2022-12-23T19:14:30.295Z"
   },
   {
    "duration": 5,
    "start_time": "2022-12-23T19:15:17.569Z"
   },
   {
    "duration": 70448,
    "start_time": "2022-12-23T19:15:21.233Z"
   },
   {
    "duration": 1834,
    "start_time": "2022-12-23T19:16:40.253Z"
   },
   {
    "duration": 14,
    "start_time": "2022-12-23T19:17:47.335Z"
   },
   {
    "duration": 51,
    "start_time": "2022-12-23T19:18:52.043Z"
   },
   {
    "duration": 1968,
    "start_time": "2022-12-23T19:18:57.857Z"
   },
   {
    "duration": 30405,
    "start_time": "2022-12-23T19:19:03.238Z"
   },
   {
    "duration": 49,
    "start_time": "2022-12-23T19:19:44.816Z"
   },
   {
    "duration": 48,
    "start_time": "2022-12-23T19:19:49.812Z"
   },
   {
    "duration": 2147,
    "start_time": "2022-12-23T19:19:57.619Z"
   },
   {
    "duration": 2313,
    "start_time": "2022-12-23T19:20:01.419Z"
   },
   {
    "duration": 39,
    "start_time": "2022-12-23T19:20:12.822Z"
   },
   {
    "duration": 19,
    "start_time": "2022-12-23T19:20:16.214Z"
   },
   {
    "duration": 22,
    "start_time": "2022-12-23T19:20:31.530Z"
   },
   {
    "duration": 4,
    "start_time": "2022-12-23T19:20:34.202Z"
   },
   {
    "duration": 18,
    "start_time": "2022-12-23T19:20:37.545Z"
   },
   {
    "duration": 28,
    "start_time": "2022-12-23T19:22:14.319Z"
   },
   {
    "duration": 20,
    "start_time": "2022-12-23T19:22:17.231Z"
   },
   {
    "duration": 5,
    "start_time": "2022-12-23T19:22:20.619Z"
   },
   {
    "duration": 2064,
    "start_time": "2022-12-23T19:22:32.423Z"
   },
   {
    "duration": 24,
    "start_time": "2022-12-23T19:23:03.227Z"
   },
   {
    "duration": 2093,
    "start_time": "2022-12-23T19:23:21.687Z"
   },
   {
    "duration": 1752,
    "start_time": "2022-12-23T19:23:29.023Z"
   },
   {
    "duration": 10,
    "start_time": "2022-12-23T19:23:57.370Z"
   },
   {
    "duration": 58,
    "start_time": "2022-12-23T19:24:04.244Z"
   },
   {
    "duration": 23,
    "start_time": "2022-12-23T19:24:04.654Z"
   },
   {
    "duration": 51,
    "start_time": "2022-12-23T19:24:04.924Z"
   },
   {
    "duration": 4,
    "start_time": "2022-12-23T19:24:05.134Z"
   },
   {
    "duration": 6,
    "start_time": "2022-12-23T19:24:05.523Z"
   },
   {
    "duration": 11,
    "start_time": "2022-12-23T19:24:05.762Z"
   },
   {
    "duration": 12,
    "start_time": "2022-12-23T19:24:06.032Z"
   },
   {
    "duration": 13,
    "start_time": "2022-12-23T19:24:06.431Z"
   },
   {
    "duration": 1456,
    "start_time": "2022-12-23T19:24:07.219Z"
   },
   {
    "duration": 339,
    "start_time": "2022-12-23T19:24:08.677Z"
   },
   {
    "duration": 5,
    "start_time": "2022-12-23T19:24:09.019Z"
   },
   {
    "duration": 23,
    "start_time": "2022-12-23T19:24:09.026Z"
   },
   {
    "duration": 15,
    "start_time": "2022-12-23T19:24:09.226Z"
   },
   {
    "duration": 4,
    "start_time": "2022-12-23T19:24:09.511Z"
   },
   {
    "duration": 3,
    "start_time": "2022-12-23T19:24:09.640Z"
   },
   {
    "duration": 26,
    "start_time": "2022-12-23T19:24:09.780Z"
   },
   {
    "duration": 289,
    "start_time": "2022-12-23T19:24:10.353Z"
   },
   {
    "duration": 17,
    "start_time": "2022-12-23T19:24:10.644Z"
   },
   {
    "duration": 78698,
    "start_time": "2022-12-23T19:24:10.982Z"
   },
   {
    "duration": 80388,
    "start_time": "2022-12-23T19:25:29.682Z"
   },
   {
    "duration": 7229,
    "start_time": "2022-12-23T19:26:50.072Z"
   },
   {
    "duration": 10,
    "start_time": "2022-12-23T19:26:57.304Z"
   },
   {
    "duration": 101,
    "start_time": "2022-12-23T19:26:57.315Z"
   },
   {
    "duration": 0,
    "start_time": "2022-12-23T19:26:57.419Z"
   },
   {
    "duration": 0,
    "start_time": "2022-12-23T19:26:57.421Z"
   },
   {
    "duration": 0,
    "start_time": "2022-12-23T19:26:57.423Z"
   },
   {
    "duration": 0,
    "start_time": "2022-12-23T19:26:57.425Z"
   },
   {
    "duration": 0,
    "start_time": "2022-12-23T19:26:57.427Z"
   },
   {
    "duration": 0,
    "start_time": "2022-12-23T19:26:57.429Z"
   },
   {
    "duration": 0,
    "start_time": "2022-12-23T19:26:57.431Z"
   },
   {
    "duration": 0,
    "start_time": "2022-12-23T19:26:57.433Z"
   },
   {
    "duration": 0,
    "start_time": "2022-12-23T19:26:57.436Z"
   },
   {
    "duration": 0,
    "start_time": "2022-12-23T19:26:57.437Z"
   },
   {
    "duration": 0,
    "start_time": "2022-12-23T19:26:57.439Z"
   },
   {
    "duration": 0,
    "start_time": "2022-12-23T19:26:57.440Z"
   },
   {
    "duration": 0,
    "start_time": "2022-12-23T19:26:57.443Z"
   },
   {
    "duration": 0,
    "start_time": "2022-12-23T19:26:57.444Z"
   },
   {
    "duration": 0,
    "start_time": "2022-12-23T19:26:57.445Z"
   },
   {
    "duration": 5,
    "start_time": "2022-12-23T19:33:57.643Z"
   },
   {
    "duration": 2226,
    "start_time": "2022-12-23T19:34:47.125Z"
   },
   {
    "duration": 68,
    "start_time": "2022-12-23T19:34:49.354Z"
   },
   {
    "duration": 4,
    "start_time": "2022-12-23T19:34:56.061Z"
   },
   {
    "duration": 52,
    "start_time": "2022-12-23T19:34:56.545Z"
   },
   {
    "duration": 14,
    "start_time": "2022-12-23T19:34:56.988Z"
   },
   {
    "duration": 34,
    "start_time": "2022-12-23T19:34:57.240Z"
   },
   {
    "duration": 4,
    "start_time": "2022-12-23T19:34:57.525Z"
   },
   {
    "duration": 6,
    "start_time": "2022-12-23T19:34:57.917Z"
   },
   {
    "duration": 14,
    "start_time": "2022-12-23T19:34:58.181Z"
   },
   {
    "duration": 14,
    "start_time": "2022-12-23T19:34:58.443Z"
   },
   {
    "duration": 13,
    "start_time": "2022-12-23T19:34:58.863Z"
   },
   {
    "duration": 1273,
    "start_time": "2022-12-23T19:34:59.692Z"
   },
   {
    "duration": 293,
    "start_time": "2022-12-23T19:35:00.967Z"
   },
   {
    "duration": 5,
    "start_time": "2022-12-23T19:35:01.262Z"
   },
   {
    "duration": 10,
    "start_time": "2022-12-23T19:35:01.340Z"
   },
   {
    "duration": 13,
    "start_time": "2022-12-23T19:35:01.525Z"
   },
   {
    "duration": 5,
    "start_time": "2022-12-23T19:35:01.676Z"
   },
   {
    "duration": 3,
    "start_time": "2022-12-23T19:35:01.769Z"
   },
   {
    "duration": 29,
    "start_time": "2022-12-23T19:35:01.848Z"
   },
   {
    "duration": 4028,
    "start_time": "2022-12-23T19:35:02.221Z"
   },
   {
    "duration": 5767,
    "start_time": "2022-12-23T19:35:06.251Z"
   },
   {
    "duration": 73559,
    "start_time": "2022-12-23T19:35:12.020Z"
   },
   {
    "duration": 79132,
    "start_time": "2022-12-23T19:36:25.581Z"
   },
   {
    "duration": 1293,
    "start_time": "2022-12-23T19:37:44.715Z"
   },
   {
    "duration": 88,
    "start_time": "2022-12-23T19:37:46.010Z"
   },
   {
    "duration": 1398,
    "start_time": "2022-12-23T19:37:46.101Z"
   },
   {
    "duration": 657,
    "start_time": "2022-12-23T19:37:47.500Z"
   },
   {
    "duration": 15,
    "start_time": "2022-12-23T19:37:48.158Z"
   },
   {
    "duration": 359,
    "start_time": "2022-12-23T19:37:48.175Z"
   },
   {
    "duration": 4464,
    "start_time": "2022-12-23T19:37:48.535Z"
   },
   {
    "duration": 95838,
    "start_time": "2022-12-23T19:37:53.001Z"
   },
   {
    "duration": 116684,
    "start_time": "2022-12-23T19:39:28.840Z"
   },
   {
    "duration": 1575,
    "start_time": "2022-12-23T19:41:25.527Z"
   },
   {
    "duration": 1387,
    "start_time": "2022-12-23T19:41:27.112Z"
   },
   {
    "duration": 659,
    "start_time": "2022-12-23T19:41:28.514Z"
   },
   {
    "duration": 4474,
    "start_time": "2022-12-23T19:41:29.175Z"
   },
   {
    "duration": 81548,
    "start_time": "2022-12-23T19:41:33.651Z"
   },
   {
    "duration": 1733,
    "start_time": "2022-12-23T19:42:55.201Z"
   },
   {
    "duration": 3787,
    "start_time": "2022-12-23T19:42:56.936Z"
   },
   {
    "duration": 735,
    "start_time": "2022-12-23T19:43:00.726Z"
   },
   {
    "duration": 2093,
    "start_time": "2022-12-23T19:43:01.462Z"
   },
   {
    "duration": 14,
    "start_time": "2022-12-23T19:45:16.752Z"
   },
   {
    "duration": 5,
    "start_time": "2022-12-23T19:45:24.462Z"
   },
   {
    "duration": 2611,
    "start_time": "2022-12-23T19:45:37.649Z"
   },
   {
    "duration": 5,
    "start_time": "2022-12-23T19:51:30.958Z"
   },
   {
    "duration": 5,
    "start_time": "2022-12-23T19:51:33.880Z"
   },
   {
    "duration": 4,
    "start_time": "2022-12-23T19:51:44.667Z"
   },
   {
    "duration": 4,
    "start_time": "2022-12-23T19:51:46.854Z"
   },
   {
    "duration": 5,
    "start_time": "2022-12-23T19:51:48.955Z"
   },
   {
    "duration": 5,
    "start_time": "2022-12-23T19:51:51.761Z"
   },
   {
    "duration": 2801,
    "start_time": "2022-12-23T19:57:17.259Z"
   },
   {
    "duration": 2015,
    "start_time": "2022-12-23T19:57:37.023Z"
   },
   {
    "duration": 2810,
    "start_time": "2022-12-23T19:57:49.986Z"
   },
   {
    "duration": 2799,
    "start_time": "2022-12-23T19:58:27.758Z"
   },
   {
    "duration": 2551,
    "start_time": "2022-12-23T19:59:29.927Z"
   },
   {
    "duration": 2737,
    "start_time": "2022-12-23T20:00:54.331Z"
   },
   {
    "duration": 2846,
    "start_time": "2022-12-23T20:01:13.627Z"
   },
   {
    "duration": 1945,
    "start_time": "2022-12-23T20:01:40.826Z"
   },
   {
    "duration": 2571,
    "start_time": "2022-12-23T20:02:34.287Z"
   },
   {
    "duration": 2559,
    "start_time": "2022-12-23T20:02:45.649Z"
   },
   {
    "duration": 2839,
    "start_time": "2022-12-23T20:03:21.362Z"
   },
   {
    "duration": 2719,
    "start_time": "2022-12-23T20:03:34.559Z"
   },
   {
    "duration": 2804,
    "start_time": "2022-12-23T20:03:53.771Z"
   },
   {
    "duration": 2816,
    "start_time": "2022-12-23T20:04:19.460Z"
   },
   {
    "duration": 2518,
    "start_time": "2022-12-23T20:04:26.091Z"
   },
   {
    "duration": 2783,
    "start_time": "2022-12-23T20:04:40.460Z"
   },
   {
    "duration": 2589,
    "start_time": "2022-12-23T20:05:23.557Z"
   },
   {
    "duration": 2569,
    "start_time": "2022-12-23T20:05:48.162Z"
   },
   {
    "duration": 2621,
    "start_time": "2022-12-23T20:05:59.753Z"
   },
   {
    "duration": 2102,
    "start_time": "2022-12-23T20:06:49.873Z"
   },
   {
    "duration": 2490,
    "start_time": "2022-12-23T20:07:06.152Z"
   },
   {
    "duration": 2610,
    "start_time": "2022-12-23T20:07:15.566Z"
   },
   {
    "duration": 2593,
    "start_time": "2022-12-23T20:07:56.657Z"
   },
   {
    "duration": 2587,
    "start_time": "2022-12-23T20:08:07.057Z"
   },
   {
    "duration": 2595,
    "start_time": "2022-12-23T20:08:23.655Z"
   },
   {
    "duration": 2485,
    "start_time": "2022-12-23T20:08:36.079Z"
   },
   {
    "duration": 5,
    "start_time": "2022-12-23T20:09:22.356Z"
   },
   {
    "duration": 2536,
    "start_time": "2022-12-23T20:19:04.911Z"
   },
   {
    "duration": 13,
    "start_time": "2022-12-23T20:20:40.014Z"
   },
   {
    "duration": 6,
    "start_time": "2022-12-23T20:20:42.010Z"
   },
   {
    "duration": 285,
    "start_time": "2022-12-23T20:20:43.359Z"
   },
   {
    "duration": 54,
    "start_time": "2022-12-23T20:23:08.367Z"
   },
   {
    "duration": 52,
    "start_time": "2022-12-23T20:23:23.462Z"
   },
   {
    "duration": 3,
    "start_time": "2022-12-23T20:23:27.517Z"
   },
   {
    "duration": 53,
    "start_time": "2022-12-23T20:23:36.159Z"
   },
   {
    "duration": 48,
    "start_time": "2022-12-23T20:23:43.157Z"
   },
   {
    "duration": 57,
    "start_time": "2022-12-23T20:24:32.376Z"
   },
   {
    "duration": 52,
    "start_time": "2022-12-23T20:24:47.813Z"
   },
   {
    "duration": 52,
    "start_time": "2022-12-23T20:24:55.463Z"
   },
   {
    "duration": 54,
    "start_time": "2022-12-23T20:25:04.168Z"
   },
   {
    "duration": 50,
    "start_time": "2022-12-23T20:25:37.511Z"
   },
   {
    "duration": 42,
    "start_time": "2022-12-23T20:26:42.512Z"
   },
   {
    "duration": 58,
    "start_time": "2022-12-23T20:26:48.955Z"
   },
   {
    "duration": 74,
    "start_time": "2022-12-23T20:26:52.673Z"
   },
   {
    "duration": 57,
    "start_time": "2022-12-23T20:27:09.862Z"
   },
   {
    "duration": 6,
    "start_time": "2022-12-23T20:27:14.892Z"
   },
   {
    "duration": 5,
    "start_time": "2022-12-23T20:27:23.274Z"
   },
   {
    "duration": 5,
    "start_time": "2022-12-23T20:27:40.575Z"
   },
   {
    "duration": 2338,
    "start_time": "2022-12-23T20:29:55.055Z"
   },
   {
    "duration": 2361,
    "start_time": "2022-12-23T20:29:57.397Z"
   },
   {
    "duration": 8,
    "start_time": "2022-12-23T20:29:59.761Z"
   },
   {
    "duration": 65,
    "start_time": "2022-12-23T20:29:59.771Z"
   },
   {
    "duration": 13,
    "start_time": "2022-12-23T20:29:59.838Z"
   },
   {
    "duration": 33,
    "start_time": "2022-12-23T20:29:59.852Z"
   },
   {
    "duration": 12,
    "start_time": "2022-12-23T20:29:59.887Z"
   },
   {
    "duration": 20,
    "start_time": "2022-12-23T20:29:59.901Z"
   },
   {
    "duration": 12,
    "start_time": "2022-12-23T20:29:59.922Z"
   },
   {
    "duration": 16,
    "start_time": "2022-12-23T20:29:59.936Z"
   },
   {
    "duration": 21,
    "start_time": "2022-12-23T20:29:59.954Z"
   },
   {
    "duration": 2462,
    "start_time": "2022-12-23T20:29:59.977Z"
   },
   {
    "duration": 789,
    "start_time": "2022-12-23T20:30:02.440Z"
   },
   {
    "duration": 5,
    "start_time": "2022-12-23T20:30:03.232Z"
   },
   {
    "duration": 18,
    "start_time": "2022-12-23T20:30:03.238Z"
   },
   {
    "duration": 20,
    "start_time": "2022-12-23T20:30:03.258Z"
   },
   {
    "duration": 20,
    "start_time": "2022-12-23T20:30:03.280Z"
   },
   {
    "duration": 22,
    "start_time": "2022-12-23T20:30:03.302Z"
   },
   {
    "duration": 26,
    "start_time": "2022-12-23T20:30:03.326Z"
   },
   {
    "duration": 4506,
    "start_time": "2022-12-23T20:30:03.354Z"
   },
   {
    "duration": 23770,
    "start_time": "2022-12-23T20:30:07.861Z"
   },
   {
    "duration": 81112,
    "start_time": "2022-12-23T20:30:31.633Z"
   },
   {
    "duration": 87933,
    "start_time": "2022-12-23T20:31:52.747Z"
   },
   {
    "duration": 5848,
    "start_time": "2022-12-23T20:33:20.682Z"
   },
   {
    "duration": 7,
    "start_time": "2022-12-23T20:33:26.598Z"
   },
   {
    "duration": 1300,
    "start_time": "2022-12-23T20:33:26.611Z"
   },
   {
    "duration": 748,
    "start_time": "2022-12-23T20:33:27.922Z"
   },
   {
    "duration": 12,
    "start_time": "2022-12-23T20:33:28.672Z"
   },
   {
    "duration": 258,
    "start_time": "2022-12-23T20:33:28.697Z"
   },
   {
    "duration": 5189,
    "start_time": "2022-12-23T20:33:28.957Z"
   },
   {
    "duration": 73926,
    "start_time": "2022-12-23T20:33:34.148Z"
   },
   {
    "duration": 2701,
    "start_time": "2022-12-23T20:38:16.922Z"
   },
   {
    "duration": 7,
    "start_time": "2022-12-23T20:38:23.496Z"
   },
   {
    "duration": 106,
    "start_time": "2022-12-23T20:38:23.507Z"
   },
   {
    "duration": 21,
    "start_time": "2022-12-23T20:38:23.616Z"
   },
   {
    "duration": 37,
    "start_time": "2022-12-23T20:38:23.639Z"
   },
   {
    "duration": 25,
    "start_time": "2022-12-23T20:38:23.678Z"
   },
   {
    "duration": 28,
    "start_time": "2022-12-23T20:38:23.705Z"
   },
   {
    "duration": 19,
    "start_time": "2022-12-23T20:38:23.734Z"
   },
   {
    "duration": 8,
    "start_time": "2022-12-23T20:38:23.755Z"
   },
   {
    "duration": 12,
    "start_time": "2022-12-23T20:38:23.766Z"
   },
   {
    "duration": 1596,
    "start_time": "2022-12-23T20:38:23.780Z"
   },
   {
    "duration": 297,
    "start_time": "2022-12-23T20:38:25.378Z"
   },
   {
    "duration": 9,
    "start_time": "2022-12-23T20:38:25.677Z"
   },
   {
    "duration": 51,
    "start_time": "2022-12-23T20:38:25.688Z"
   },
   {
    "duration": 17,
    "start_time": "2022-12-23T20:38:25.740Z"
   },
   {
    "duration": 8,
    "start_time": "2022-12-23T20:38:25.759Z"
   },
   {
    "duration": 7,
    "start_time": "2022-12-23T20:38:25.768Z"
   },
   {
    "duration": 30,
    "start_time": "2022-12-23T20:38:25.777Z"
   },
   {
    "duration": 2342,
    "start_time": "2022-12-23T20:40:47.555Z"
   },
   {
    "duration": 4,
    "start_time": "2022-12-23T20:40:53.615Z"
   },
   {
    "duration": 61,
    "start_time": "2022-12-23T20:40:53.622Z"
   },
   {
    "duration": 18,
    "start_time": "2022-12-23T20:40:53.685Z"
   },
   {
    "duration": 52,
    "start_time": "2022-12-23T20:40:53.705Z"
   },
   {
    "duration": 3,
    "start_time": "2022-12-23T20:40:53.759Z"
   },
   {
    "duration": 8,
    "start_time": "2022-12-23T20:40:53.764Z"
   },
   {
    "duration": 15,
    "start_time": "2022-12-23T20:40:53.774Z"
   },
   {
    "duration": 8,
    "start_time": "2022-12-23T20:40:53.916Z"
   },
   {
    "duration": 12,
    "start_time": "2022-12-23T20:40:53.927Z"
   },
   {
    "duration": 1461,
    "start_time": "2022-12-23T20:40:53.941Z"
   },
   {
    "duration": 265,
    "start_time": "2022-12-23T20:40:55.403Z"
   },
   {
    "duration": 6,
    "start_time": "2022-12-23T20:40:55.670Z"
   },
   {
    "duration": 25,
    "start_time": "2022-12-23T20:40:55.677Z"
   },
   {
    "duration": 27,
    "start_time": "2022-12-23T20:40:55.704Z"
   },
   {
    "duration": 4,
    "start_time": "2022-12-23T20:40:55.732Z"
   },
   {
    "duration": 5,
    "start_time": "2022-12-23T20:40:55.737Z"
   },
   {
    "duration": 27,
    "start_time": "2022-12-23T20:40:55.743Z"
   },
   {
    "duration": 1947,
    "start_time": "2022-12-23T20:40:55.771Z"
   },
   {
    "duration": 10334,
    "start_time": "2022-12-23T20:40:57.720Z"
   },
   {
    "duration": 32623,
    "start_time": "2022-12-23T20:41:08.056Z"
   },
   {
    "duration": 87197,
    "start_time": "2022-12-23T20:41:40.682Z"
   },
   {
    "duration": 1034,
    "start_time": "2022-12-23T20:43:07.881Z"
   },
   {
    "duration": 82,
    "start_time": "2022-12-23T20:43:08.918Z"
   },
   {
    "duration": 1612,
    "start_time": "2022-12-23T20:43:09.004Z"
   },
   {
    "duration": 679,
    "start_time": "2022-12-23T20:43:10.701Z"
   },
   {
    "duration": 20,
    "start_time": "2022-12-23T20:43:11.381Z"
   },
   {
    "duration": 254,
    "start_time": "2022-12-23T20:43:11.403Z"
   },
   {
    "duration": 2081,
    "start_time": "2022-12-23T20:43:11.659Z"
   },
   {
    "duration": 39341,
    "start_time": "2022-12-23T20:43:13.741Z"
   },
   {
    "duration": 112781,
    "start_time": "2022-12-23T20:43:53.083Z"
   },
   {
    "duration": 1344,
    "start_time": "2022-12-23T20:45:45.866Z"
   },
   {
    "duration": 1398,
    "start_time": "2022-12-23T20:45:47.212Z"
   },
   {
    "duration": 749,
    "start_time": "2022-12-23T20:45:48.611Z"
   },
   {
    "duration": 1904,
    "start_time": "2022-12-23T20:45:49.362Z"
   },
   {
    "duration": 29439,
    "start_time": "2022-12-23T20:45:51.298Z"
   },
   {
    "duration": 979,
    "start_time": "2022-12-23T20:46:20.739Z"
   },
   {
    "duration": 1607,
    "start_time": "2022-12-23T20:46:21.798Z"
   },
   {
    "duration": 643,
    "start_time": "2022-12-23T20:46:23.407Z"
   },
   {
    "duration": 1883,
    "start_time": "2022-12-23T20:46:24.051Z"
   },
   {
    "duration": 4,
    "start_time": "2022-12-23T20:46:25.936Z"
   },
   {
    "duration": 233,
    "start_time": "2022-12-23T20:46:25.941Z"
   },
   {
    "duration": 53,
    "start_time": "2022-12-23T20:46:26.175Z"
   },
   {
    "duration": 5,
    "start_time": "2022-12-23T20:46:26.230Z"
   },
   {
    "duration": 1084,
    "start_time": "2022-12-23T20:48:28.469Z"
   },
   {
    "duration": 4,
    "start_time": "2022-12-23T20:48:29.555Z"
   },
   {
    "duration": 252,
    "start_time": "2022-12-23T20:48:29.561Z"
   },
   {
    "duration": 47,
    "start_time": "2022-12-23T20:48:29.815Z"
   },
   {
    "duration": 6,
    "start_time": "2022-12-23T20:48:29.864Z"
   },
   {
    "duration": 2317,
    "start_time": "2022-12-23T20:49:35.430Z"
   },
   {
    "duration": 5,
    "start_time": "2022-12-23T20:49:37.749Z"
   },
   {
    "duration": 305,
    "start_time": "2022-12-23T20:49:37.755Z"
   },
   {
    "duration": 60,
    "start_time": "2022-12-23T20:49:38.062Z"
   },
   {
    "duration": 5,
    "start_time": "2022-12-23T20:49:38.124Z"
   },
   {
    "duration": 4,
    "start_time": "2022-12-23T20:50:00.416Z"
   },
   {
    "duration": 301,
    "start_time": "2022-12-23T20:50:00.958Z"
   },
   {
    "duration": 65,
    "start_time": "2022-12-23T20:50:01.260Z"
   },
   {
    "duration": 6,
    "start_time": "2022-12-23T20:50:01.564Z"
   },
   {
    "duration": 1305,
    "start_time": "2022-12-23T20:50:31.884Z"
   },
   {
    "duration": 1102,
    "start_time": "2022-12-23T20:50:42.953Z"
   },
   {
    "duration": 35,
    "start_time": "2022-12-23T20:50:44.986Z"
   },
   {
    "duration": 1973,
    "start_time": "2022-12-23T20:51:05.167Z"
   },
   {
    "duration": 240,
    "start_time": "2022-12-23T20:51:24.395Z"
   },
   {
    "duration": 39,
    "start_time": "2022-12-23T20:51:25.556Z"
   },
   {
    "duration": 5,
    "start_time": "2022-12-23T20:51:32.852Z"
   },
   {
    "duration": 2255,
    "start_time": "2022-12-23T20:51:37.775Z"
   },
   {
    "duration": 2227,
    "start_time": "2022-12-23T20:51:40.033Z"
   },
   {
    "duration": 8,
    "start_time": "2022-12-23T20:51:42.262Z"
   },
   {
    "duration": 63,
    "start_time": "2022-12-23T20:51:42.272Z"
   },
   {
    "duration": 12,
    "start_time": "2022-12-23T20:51:42.337Z"
   },
   {
    "duration": 33,
    "start_time": "2022-12-23T20:51:42.351Z"
   },
   {
    "duration": 3,
    "start_time": "2022-12-23T20:51:42.386Z"
   },
   {
    "duration": 8,
    "start_time": "2022-12-23T20:51:42.390Z"
   },
   {
    "duration": 24,
    "start_time": "2022-12-23T20:51:42.400Z"
   },
   {
    "duration": 7,
    "start_time": "2022-12-23T20:51:42.427Z"
   },
   {
    "duration": 11,
    "start_time": "2022-12-23T20:51:42.436Z"
   },
   {
    "duration": 1343,
    "start_time": "2022-12-23T20:51:42.449Z"
   },
   {
    "duration": 257,
    "start_time": "2022-12-23T20:51:43.794Z"
   },
   {
    "duration": 4,
    "start_time": "2022-12-23T20:51:44.052Z"
   },
   {
    "duration": 12,
    "start_time": "2022-12-23T20:51:44.058Z"
   },
   {
    "duration": 33,
    "start_time": "2022-12-23T20:51:44.072Z"
   },
   {
    "duration": 4,
    "start_time": "2022-12-23T20:51:44.108Z"
   },
   {
    "duration": 8,
    "start_time": "2022-12-23T20:51:44.114Z"
   },
   {
    "duration": 23,
    "start_time": "2022-12-23T20:51:44.123Z"
   },
   {
    "duration": 564,
    "start_time": "2022-12-23T20:51:44.148Z"
   },
   {
    "duration": 2226,
    "start_time": "2022-12-23T20:51:55.248Z"
   },
   {
    "duration": 5,
    "start_time": "2022-12-23T20:51:59.980Z"
   },
   {
    "duration": 72,
    "start_time": "2022-12-23T20:51:59.987Z"
   },
   {
    "duration": 17,
    "start_time": "2022-12-23T20:52:00.062Z"
   },
   {
    "duration": 53,
    "start_time": "2022-12-23T20:52:00.081Z"
   },
   {
    "duration": 4,
    "start_time": "2022-12-23T20:52:00.136Z"
   },
   {
    "duration": 25,
    "start_time": "2022-12-23T20:52:00.141Z"
   },
   {
    "duration": 14,
    "start_time": "2022-12-23T20:52:00.167Z"
   },
   {
    "duration": 40,
    "start_time": "2022-12-23T20:52:00.182Z"
   },
   {
    "duration": 46,
    "start_time": "2022-12-23T20:52:00.224Z"
   },
   {
    "duration": 1357,
    "start_time": "2022-12-23T20:52:00.271Z"
   },
   {
    "duration": 213,
    "start_time": "2022-12-23T20:52:01.630Z"
   },
   {
    "duration": 4,
    "start_time": "2022-12-23T20:52:01.845Z"
   },
   {
    "duration": 23,
    "start_time": "2022-12-23T20:52:01.851Z"
   },
   {
    "duration": 15,
    "start_time": "2022-12-23T20:52:01.875Z"
   },
   {
    "duration": 19,
    "start_time": "2022-12-23T20:52:01.897Z"
   },
   {
    "duration": 9,
    "start_time": "2022-12-23T20:52:01.917Z"
   },
   {
    "duration": 26,
    "start_time": "2022-12-23T20:52:01.927Z"
   },
   {
    "duration": 1887,
    "start_time": "2022-12-23T20:52:01.955Z"
   },
   {
    "duration": 5798,
    "start_time": "2022-12-23T20:52:03.844Z"
   },
   {
    "duration": 30392,
    "start_time": "2022-12-23T20:52:09.644Z"
   },
   {
    "duration": 84421,
    "start_time": "2022-12-23T20:52:40.038Z"
   },
   {
    "duration": 1554,
    "start_time": "2022-12-23T20:54:04.461Z"
   },
   {
    "duration": 8,
    "start_time": "2022-12-23T20:54:06.101Z"
   },
   {
    "duration": 1204,
    "start_time": "2022-12-23T20:54:06.113Z"
   },
   {
    "duration": 655,
    "start_time": "2022-12-23T20:54:07.318Z"
   },
   {
    "duration": 31,
    "start_time": "2022-12-23T20:54:07.975Z"
   },
   {
    "duration": 229,
    "start_time": "2022-12-23T20:54:08.009Z"
   },
   {
    "duration": 2017,
    "start_time": "2022-12-23T20:54:08.239Z"
   },
   {
    "duration": 38937,
    "start_time": "2022-12-23T20:54:10.261Z"
   },
   {
    "duration": 118454,
    "start_time": "2022-12-23T20:54:49.200Z"
   },
   {
    "duration": 1078,
    "start_time": "2022-12-23T20:56:47.656Z"
   },
   {
    "duration": 1783,
    "start_time": "2022-12-23T20:56:48.736Z"
   },
   {
    "duration": 706,
    "start_time": "2022-12-23T20:56:50.524Z"
   },
   {
    "duration": 2107,
    "start_time": "2022-12-23T20:56:51.232Z"
   },
   {
    "duration": 32982,
    "start_time": "2022-12-23T20:56:53.341Z"
   },
   {
    "duration": 1200,
    "start_time": "2022-12-23T20:57:26.324Z"
   },
   {
    "duration": 1873,
    "start_time": "2022-12-23T20:57:27.526Z"
   },
   {
    "duration": 713,
    "start_time": "2022-12-23T20:57:29.402Z"
   },
   {
    "duration": 2671,
    "start_time": "2022-12-23T20:57:30.118Z"
   },
   {
    "duration": 10,
    "start_time": "2022-12-23T20:57:32.797Z"
   },
   {
    "duration": 377,
    "start_time": "2022-12-23T20:57:32.808Z"
   },
   {
    "duration": 74,
    "start_time": "2022-12-23T20:57:33.188Z"
   },
   {
    "duration": 7,
    "start_time": "2022-12-23T20:57:33.264Z"
   },
   {
    "duration": 2954,
    "start_time": "2022-12-23T21:00:47.768Z"
   }
  ],
  "kernelspec": {
   "display_name": "Python 3 (ipykernel)",
   "language": "python",
   "name": "python3"
  },
  "language_info": {
   "codemirror_mode": {
    "name": "ipython",
    "version": 3
   },
   "file_extension": ".py",
   "mimetype": "text/x-python",
   "name": "python",
   "nbconvert_exporter": "python",
   "pygments_lexer": "ipython3",
   "version": "3.9.16"
  },
  "toc": {
   "base_numbering": 1,
   "nav_menu": {},
   "number_sections": true,
   "sideBar": true,
   "skip_h1_title": true,
   "title_cell": "Содержание",
   "title_sidebar": "Contents",
   "toc_cell": true,
   "toc_position": {
    "height": "calc(100% - 180px)",
    "left": "10px",
    "top": "150px",
    "width": "270px"
   },
   "toc_section_display": true,
   "toc_window_display": true
  }
 },
 "nbformat": 4,
 "nbformat_minor": 2
}
